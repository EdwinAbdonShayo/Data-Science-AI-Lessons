{
  "cells": [
    {
      "cell_type": "markdown",
      "id": "4ec5c2ad-4e30-4f57-91b0-78d785055b07",
      "metadata": {
        "id": "4ec5c2ad-4e30-4f57-91b0-78d785055b07"
      },
      "source": [
        "# Week 4: Lab Work - Regression Model Development and Evaluation"
      ]
    },
    {
      "cell_type": "code",
      "execution_count": 1,
      "id": "2c78a005-f726-40d2-9d4f-e2c1a39127e6",
      "metadata": {
        "id": "2c78a005-f726-40d2-9d4f-e2c1a39127e6"
      },
      "outputs": [],
      "source": [
        "# Import the libraries required, for example: import seaborn as sns\n",
        "import pandas as pd\n",
        "import numpy as np\n",
        "import seaborn as sns\n",
        "import matplotlib.pyplot as plt\n",
        "%matplotlib inline\n",
        "\n",
        "from sklearn.model_selection import train_test_split\n",
        "#from sklearn.model_selection import KFold\n",
        "from sklearn.linear_model import LinearRegression"
      ]
    },
    {
      "cell_type": "markdown",
      "id": "6081557f-8acf-4ced-92f0-ebf22b63a83f",
      "metadata": {
        "id": "6081557f-8acf-4ced-92f0-ebf22b63a83f"
      },
      "source": [
        "## Load ‘tips’ dataset from seaborn library"
      ]
    },
    {
      "cell_type": "code",
      "execution_count": 2,
      "id": "41cd5ba1-849f-4146-8066-8ad564a1b031",
      "metadata": {
        "id": "41cd5ba1-849f-4146-8066-8ad564a1b031"
      },
      "outputs": [],
      "source": [
        "# Load the dataset \"tips\" from seaborn package using sns object.\n",
        "tips = sns.load_dataset(\"tips\")"
      ]
    },
    {
      "cell_type": "code",
      "execution_count": 3,
      "id": "f6405e9e-8443-4d42-a769-af6156014a7b",
      "metadata": {
        "id": "f6405e9e-8443-4d42-a769-af6156014a7b"
      },
      "outputs": [
        {
          "data": {
            "text/html": [
              "<div>\n",
              "<style scoped>\n",
              "    .dataframe tbody tr th:only-of-type {\n",
              "        vertical-align: middle;\n",
              "    }\n",
              "\n",
              "    .dataframe tbody tr th {\n",
              "        vertical-align: top;\n",
              "    }\n",
              "\n",
              "    .dataframe thead th {\n",
              "        text-align: right;\n",
              "    }\n",
              "</style>\n",
              "<table border=\"1\" class=\"dataframe\">\n",
              "  <thead>\n",
              "    <tr style=\"text-align: right;\">\n",
              "      <th></th>\n",
              "      <th>total_bill</th>\n",
              "      <th>tip</th>\n",
              "      <th>sex</th>\n",
              "      <th>smoker</th>\n",
              "      <th>day</th>\n",
              "      <th>time</th>\n",
              "      <th>size</th>\n",
              "    </tr>\n",
              "  </thead>\n",
              "  <tbody>\n",
              "    <tr>\n",
              "      <th>0</th>\n",
              "      <td>16.99</td>\n",
              "      <td>1.01</td>\n",
              "      <td>Female</td>\n",
              "      <td>No</td>\n",
              "      <td>Sun</td>\n",
              "      <td>Dinner</td>\n",
              "      <td>2</td>\n",
              "    </tr>\n",
              "    <tr>\n",
              "      <th>1</th>\n",
              "      <td>10.34</td>\n",
              "      <td>1.66</td>\n",
              "      <td>Male</td>\n",
              "      <td>No</td>\n",
              "      <td>Sun</td>\n",
              "      <td>Dinner</td>\n",
              "      <td>3</td>\n",
              "    </tr>\n",
              "    <tr>\n",
              "      <th>2</th>\n",
              "      <td>21.01</td>\n",
              "      <td>3.50</td>\n",
              "      <td>Male</td>\n",
              "      <td>No</td>\n",
              "      <td>Sun</td>\n",
              "      <td>Dinner</td>\n",
              "      <td>3</td>\n",
              "    </tr>\n",
              "    <tr>\n",
              "      <th>3</th>\n",
              "      <td>23.68</td>\n",
              "      <td>3.31</td>\n",
              "      <td>Male</td>\n",
              "      <td>No</td>\n",
              "      <td>Sun</td>\n",
              "      <td>Dinner</td>\n",
              "      <td>2</td>\n",
              "    </tr>\n",
              "    <tr>\n",
              "      <th>4</th>\n",
              "      <td>24.59</td>\n",
              "      <td>3.61</td>\n",
              "      <td>Female</td>\n",
              "      <td>No</td>\n",
              "      <td>Sun</td>\n",
              "      <td>Dinner</td>\n",
              "      <td>4</td>\n",
              "    </tr>\n",
              "  </tbody>\n",
              "</table>\n",
              "</div>"
            ],
            "text/plain": [
              "   total_bill   tip     sex smoker  day    time  size\n",
              "0       16.99  1.01  Female     No  Sun  Dinner     2\n",
              "1       10.34  1.66    Male     No  Sun  Dinner     3\n",
              "2       21.01  3.50    Male     No  Sun  Dinner     3\n",
              "3       23.68  3.31    Male     No  Sun  Dinner     2\n",
              "4       24.59  3.61  Female     No  Sun  Dinner     4"
            ]
          },
          "execution_count": 3,
          "metadata": {},
          "output_type": "execute_result"
        }
      ],
      "source": [
        "# Print the head of the data to have an idea.\n",
        "tips.head()"
      ]
    },
    {
      "cell_type": "code",
      "execution_count": 4,
      "id": "1038339f-d13f-4284-beda-548e90353c61",
      "metadata": {
        "id": "1038339f-d13f-4284-beda-548e90353c61"
      },
      "outputs": [
        {
          "data": {
            "text/plain": [
              "(244, 7)"
            ]
          },
          "execution_count": 4,
          "metadata": {},
          "output_type": "execute_result"
        }
      ],
      "source": [
        "# Check the size of the dataset\n",
        "tips.shape"
      ]
    },
    {
      "cell_type": "code",
      "execution_count": 5,
      "id": "fe55511b-2466-4d39-9d77-4aef1049f379",
      "metadata": {
        "id": "fe55511b-2466-4d39-9d77-4aef1049f379"
      },
      "outputs": [
        {
          "name": "stdout",
          "output_type": "stream",
          "text": [
            "<class 'pandas.core.frame.DataFrame'>\n",
            "RangeIndex: 244 entries, 0 to 243\n",
            "Data columns (total 7 columns):\n",
            " #   Column      Non-Null Count  Dtype   \n",
            "---  ------      --------------  -----   \n",
            " 0   total_bill  244 non-null    float64 \n",
            " 1   tip         244 non-null    float64 \n",
            " 2   sex         244 non-null    category\n",
            " 3   smoker      244 non-null    category\n",
            " 4   day         244 non-null    category\n",
            " 5   time        244 non-null    category\n",
            " 6   size        244 non-null    int64   \n",
            "dtypes: category(4), float64(2), int64(1)\n",
            "memory usage: 7.4 KB\n"
          ]
        }
      ],
      "source": [
        "# Check the variables/columns and the data types and\n",
        "#see if we can predict tips using total_bill for example? You can use info()\n",
        "tips.info()"
      ]
    },
    {
      "cell_type": "markdown",
      "id": "9afa478c-3851-4e3f-8312-40d8523d2f01",
      "metadata": {
        "id": "9afa478c-3851-4e3f-8312-40d8523d2f01"
      },
      "source": [
        "## <font color='red'>Objective</font>: Using Linear Regression Algorithm, we aim to predict tips on the basis of total bill."
      ]
    },
    {
      "cell_type": "code",
      "execution_count": 6,
      "id": "1d364c32-24b5-4447-9a14-a3132aae149e",
      "metadata": {
        "id": "1d364c32-24b5-4447-9a14-a3132aae149e"
      },
      "outputs": [
        {
          "data": {
            "text/plain": [
              "<Axes: xlabel='total_bill', ylabel='tip'>"
            ]
          },
          "execution_count": 6,
          "metadata": {},
          "output_type": "execute_result"
        },
        {
          "data": {
            "image/png": "[encoded data removed]",
            "text/plain": [
              "<Figure size 640x480 with 1 Axes>"
            ]
          },
          "metadata": {},
          "output_type": "display_data"
        }
      ],
      "source": [
        "# Can you plot a scatterplot below to see whether total bill tends to proprotionally increase with the tip?\n",
        "# This way we can be sure to use 'total_bill' feature to predict 'tip' target value by observing the correlation.\n",
        "sns.scatterplot(x='total_bill',y='tip',data=tips)"
      ]
    },
    {
      "cell_type": "code",
      "execution_count": 7,
      "id": "26e42383-0f77-4324-b0ad-21b1718a7882",
      "metadata": {
        "id": "26e42383-0f77-4324-b0ad-21b1718a7882"
      },
      "outputs": [
        {
          "data": {
            "text/plain": [
              "<seaborn.axisgrid.FacetGrid at 0x208ad0e5030>"
            ]
          },
          "execution_count": 7,
          "metadata": {},
          "output_type": "execute_result"
        },
        {
          "data": {
            "image/png": "[encoded data removed]",
            "text/plain": [
              "<Figure size 500x500 with 1 Axes>"
            ]
          },
          "metadata": {},
          "output_type": "display_data"
        }
      ],
      "source": [
        "# Consider using regplot() or lmplot function to see this trend much clearly.\n",
        "sns.lmplot(x=\"total_bill\", y=\"tip\", data=tips)"
      ]
    },
    {
      "cell_type": "markdown",
      "id": "c0a792c4-66fb-4f94-87ae-288306fe6a77",
      "metadata": {
        "id": "c0a792c4-66fb-4f94-87ae-288306fe6a77"
      },
      "source": [
        "# Model Development"
      ]
    },
    {
      "cell_type": "markdown",
      "id": "c5e26b0a-e4c0-48b7-b402-490d6328d18e",
      "metadata": {
        "id": "c5e26b0a-e4c0-48b7-b402-490d6328d18e"
      },
      "source": [
        "## Divide the dataset into two parts, x for total_bill features, y for tip target value."
      ]
    },
    {
      "cell_type": "code",
      "execution_count": 8,
      "id": "c7dbc047-9665-47f5-a1f8-4073888cae8d",
      "metadata": {
        "id": "c7dbc047-9665-47f5-a1f8-4073888cae8d"
      },
      "outputs": [],
      "source": [
        "X= tips[['total_bill']]\n",
        "y= tips['tip'] # changed to dataframe so that regplot prints the axis name tip.\n",
        "\n",
        "# Better to define features as a dataframe [[]]\n",
        "# Predicted value can be defined as series []\n",
        "# The target variable (y) is often defined as a Series because it represents a single column of values corresponding to the output labels or\n",
        "# regression targets. Machine learning models are generally fine with the target variable being in a one-dimensional format.\n",
        "# Since y only holds the target values, there's no need to keep it in a 2D DataFrame format, e.g. (244,1)."
      ]
    },
    {
      "cell_type": "markdown",
      "id": "891bc0c6-c542-4c19-9047-f42d1b2943c1",
      "metadata": {
        "id": "891bc0c6-c542-4c19-9047-f42d1b2943c1"
      },
      "source": [
        "# Train-Test Split\n",
        "- Train-test split is a technique used in machine learning to evaluate the performance of a model on unseen data. It is used to split the data into two parts: a training set and a test set. The training set is used to train the model, while the test set is used to evaluate the model’s performance on unseen data. This helps to ensure that the model is not overfitting the data, and that it is generalizing well to unseen data."
      ]
    },
    {
      "cell_type": "code",
      "execution_count": 9,
      "id": "8cfe28bd-633a-4ee4-aea8-e62d582162f7",
      "metadata": {
        "id": "8cfe28bd-633a-4ee4-aea8-e62d582162f7"
      },
      "outputs": [],
      "source": [
        "#Split the data into training and test sets using train_test_split. Spare 80% for training set and 20% for the test set.\n",
        "X_train, X_test, y_train, y_test = train_test_split(X,y, test_size=0.2, random_state=42)"
      ]
    },
    {
      "cell_type": "code",
      "execution_count": 10,
      "id": "6ee34022-b5e8-4493-8a62-08704d704717",
      "metadata": {
        "id": "6ee34022-b5e8-4493-8a62-08704d704717"
      },
      "outputs": [
        {
          "data": {
            "text/plain": [
              "(49,)"
            ]
          },
          "execution_count": 10,
          "metadata": {},
          "output_type": "execute_result"
        }
      ],
      "source": [
        "# You can check the size of each variables: X_train, X_test, y_train,\n",
        "# y_test whether they match in size using data.shape\n",
        "y_test.shape"
      ]
    },
    {
      "cell_type": "code",
      "execution_count": 11,
      "id": "d8ccae51-bddd-491e-b51d-0c1ef52c1ed7",
      "metadata": {
        "id": "d8ccae51-bddd-491e-b51d-0c1ef52c1ed7"
      },
      "outputs": [],
      "source": [
        "# Define Linear Regression model\n",
        "model = LinearRegression()\n",
        "\n",
        "## General approach\n",
        "# 1- Identify and allocate X and y, features and the target value.\n",
        "# 2- Split the dataset into X_train, X_test, y_train, y_test.\n",
        "# 3- Determine the model - whether it is linear regression/random forest etc. you want to use?\n",
        "# 4- Fit the data - train X_train with y_train so as to teach the model the correlation between X and y.\n",
        "# 4th step is done so that Beta values are estimated, which can then be used to estimate the y values on a new unseen data (X_test in our case)."
      ]
    },
    {
      "cell_type": "code",
      "execution_count": 12,
      "id": "3936e3b2-8db8-4b27-a4be-f848d6fe2981",
      "metadata": {
        "id": "3936e3b2-8db8-4b27-a4be-f848d6fe2981"
      },
      "outputs": [
        {
          "data": {
            "text/html": [
              "<style>#sk-container-id-1 {\n",
              "  /* Definition of color scheme common for light and dark mode */\n",
              "  --sklearn-color-text: #000;\n",
              "  --sklearn-color-text-muted: #666;\n",
              "  --sklearn-color-line: gray;\n",
              "  /* Definition of color scheme for unfitted estimators */\n",
              "  --sklearn-color-unfitted-level-0: #fff5e6;\n",
              "  --sklearn-color-unfitted-level-1: #f6e4d2;\n",
              "  --sklearn-color-unfitted-level-2: #ffe0b3;\n",
              "  --sklearn-color-unfitted-level-3: chocolate;\n",
              "  /* Definition of color scheme for fitted estimators */\n",
              "  --sklearn-color-fitted-level-0: #f0f8ff;\n",
              "  --sklearn-color-fitted-level-1: #d4ebff;\n",
              "  --sklearn-color-fitted-level-2: #b3dbfd;\n",
              "  --sklearn-color-fitted-level-3: cornflowerblue;\n",
              "\n",
              "  /* Specific color for light theme */\n",
              "  --sklearn-color-text-on-default-background: var(--sg-text-color, var(--theme-code-foreground, var(--jp-content-font-color1, black)));\n",
              "  --sklearn-color-background: var(--sg-background-color, var(--theme-background, var(--jp-layout-color0, white)));\n",
              "  --sklearn-color-border-box: var(--sg-text-color, var(--theme-code-foreground, var(--jp-content-font-color1, black)));\n",
              "  --sklearn-color-icon: #696969;\n",
              "\n",
              "  @media (prefers-color-scheme: dark) {\n",
              "    /* Redefinition of color scheme for dark theme */\n",
              "    --sklearn-color-text-on-default-background: var(--sg-text-color, var(--theme-code-foreground, var(--jp-content-font-color1, white)));\n",
              "    --sklearn-color-background: var(--sg-background-color, var(--theme-background, var(--jp-layout-color0, #111)));\n",
              "    --sklearn-color-border-box: var(--sg-text-color, var(--theme-code-foreground, var(--jp-content-font-color1, white)));\n",
              "    --sklearn-color-icon: #878787;\n",
              "  }\n",
              "}\n",
              "\n",
              "#sk-container-id-1 {\n",
              "  color: var(--sklearn-color-text);\n",
              "}\n",
              "\n",
              "#sk-container-id-1 pre {\n",
              "  padding: 0;\n",
              "}\n",
              "\n",
              "#sk-container-id-1 input.sk-hidden--visually {\n",
              "  border: 0;\n",
              "  clip: rect(1px 1px 1px 1px);\n",
              "  clip: rect(1px, 1px, 1px, 1px);\n",
              "  height: 1px;\n",
              "  margin: -1px;\n",
              "  overflow: hidden;\n",
              "  padding: 0;\n",
              "  position: absolute;\n",
              "  width: 1px;\n",
              "}\n",
              "\n",
              "#sk-container-id-1 div.sk-dashed-wrapped {\n",
              "  border: 1px dashed var(--sklearn-color-line);\n",
              "  margin: 0 0.4em 0.5em 0.4em;\n",
              "  box-sizing: border-box;\n",
              "  padding-bottom: 0.4em;\n",
              "  background-color: var(--sklearn-color-background);\n",
              "}\n",
              "\n",
              "#sk-container-id-1 div.sk-container {\n",
              "  /* jupyter's `normalize.less` sets `[hidden] { display: none; }`\n",
              "     but bootstrap.min.css set `[hidden] { display: none !important; }`\n",
              "     so we also need the `!important` here to be able to override the\n",
              "     default hidden behavior on the sphinx rendered scikit-learn.org.\n",
              "     See: https://github.com/scikit-learn/scikit-learn/issues/21755 */\n",
              "  display: inline-block !important;\n",
              "  position: relative;\n",
              "}\n",
              "\n",
              "#sk-container-id-1 div.sk-text-repr-fallback {\n",
              "  display: none;\n",
              "}\n",
              "\n",
              "div.sk-parallel-item,\n",
              "div.sk-serial,\n",
              "div.sk-item {\n",
              "  /* draw centered vertical line to link estimators */\n",
              "  background-image: linear-gradient(var(--sklearn-color-text-on-default-background), var(--sklearn-color-text-on-default-background));\n",
              "  background-size: 2px 100%;\n",
              "  background-repeat: no-repeat;\n",
              "  background-position: center center;\n",
              "}\n",
              "\n",
              "/* Parallel-specific style estimator block */\n",
              "\n",
              "#sk-container-id-1 div.sk-parallel-item::after {\n",
              "  content: \"\";\n",
              "  width: 100%;\n",
              "  border-bottom: 2px solid var(--sklearn-color-text-on-default-background);\n",
              "  flex-grow: 1;\n",
              "}\n",
              "\n",
              "#sk-container-id-1 div.sk-parallel {\n",
              "  display: flex;\n",
              "  align-items: stretch;\n",
              "  justify-content: center;\n",
              "  background-color: var(--sklearn-color-background);\n",
              "  position: relative;\n",
              "}\n",
              "\n",
              "#sk-container-id-1 div.sk-parallel-item {\n",
              "  display: flex;\n",
              "  flex-direction: column;\n",
              "}\n",
              "\n",
              "#sk-container-id-1 div.sk-parallel-item:first-child::after {\n",
              "  align-self: flex-end;\n",
              "  width: 50%;\n",
              "}\n",
              "\n",
              "#sk-container-id-1 div.sk-parallel-item:last-child::after {\n",
              "  align-self: flex-start;\n",
              "  width: 50%;\n",
              "}\n",
              "\n",
              "#sk-container-id-1 div.sk-parallel-item:only-child::after {\n",
              "  width: 0;\n",
              "}\n",
              "\n",
              "/* Serial-specific style estimator block */\n",
              "\n",
              "#sk-container-id-1 div.sk-serial {\n",
              "  display: flex;\n",
              "  flex-direction: column;\n",
              "  align-items: center;\n",
              "  background-color: var(--sklearn-color-background);\n",
              "  padding-right: 1em;\n",
              "  padding-left: 1em;\n",
              "}\n",
              "\n",
              "\n",
              "/* Toggleable style: style used for estimator/Pipeline/ColumnTransformer box that is\n",
              "clickable and can be expanded/collapsed.\n",
              "- Pipeline and ColumnTransformer use this feature and define the default style\n",
              "- Estimators will overwrite some part of the style using the `sk-estimator` class\n",
              "*/\n",
              "\n",
              "/* Pipeline and ColumnTransformer style (default) */\n",
              "\n",
              "#sk-container-id-1 div.sk-toggleable {\n",
              "  /* Default theme specific background. It is overwritten whether we have a\n",
              "  specific estimator or a Pipeline/ColumnTransformer */\n",
              "  background-color: var(--sklearn-color-background);\n",
              "}\n",
              "\n",
              "/* Toggleable label */\n",
              "#sk-container-id-1 label.sk-toggleable__label {\n",
              "  cursor: pointer;\n",
              "  display: flex;\n",
              "  width: 100%;\n",
              "  margin-bottom: 0;\n",
              "  padding: 0.5em;\n",
              "  box-sizing: border-box;\n",
              "  text-align: center;\n",
              "  align-items: start;\n",
              "  justify-content: space-between;\n",
              "  gap: 0.5em;\n",
              "}\n",
              "\n",
              "#sk-container-id-1 label.sk-toggleable__label .caption {\n",
              "  font-size: 0.6rem;\n",
              "  font-weight: lighter;\n",
              "  color: var(--sklearn-color-text-muted);\n",
              "}\n",
              "\n",
              "#sk-container-id-1 label.sk-toggleable__label-arrow:before {\n",
              "  /* Arrow on the left of the label */\n",
              "  content: \"▸\";\n",
              "  float: left;\n",
              "  margin-right: 0.25em;\n",
              "  color: var(--sklearn-color-icon);\n",
              "}\n",
              "\n",
              "#sk-container-id-1 label.sk-toggleable__label-arrow:hover:before {\n",
              "  color: var(--sklearn-color-text);\n",
              "}\n",
              "\n",
              "/* Toggleable content - dropdown */\n",
              "\n",
              "#sk-container-id-1 div.sk-toggleable__content {\n",
              "  max-height: 0;\n",
              "  max-width: 0;\n",
              "  overflow: hidden;\n",
              "  text-align: left;\n",
              "  /* unfitted */\n",
              "  background-color: var(--sklearn-color-unfitted-level-0);\n",
              "}\n",
              "\n",
              "#sk-container-id-1 div.sk-toggleable__content.fitted {\n",
              "  /* fitted */\n",
              "  background-color: var(--sklearn-color-fitted-level-0);\n",
              "}\n",
              "\n",
              "#sk-container-id-1 div.sk-toggleable__content pre {\n",
              "  margin: 0.2em;\n",
              "  border-radius: 0.25em;\n",
              "  color: var(--sklearn-color-text);\n",
              "  /* unfitted */\n",
              "  background-color: var(--sklearn-color-unfitted-level-0);\n",
              "}\n",
              "\n",
              "#sk-container-id-1 div.sk-toggleable__content.fitted pre {\n",
              "  /* unfitted */\n",
              "  background-color: var(--sklearn-color-fitted-level-0);\n",
              "}\n",
              "\n",
              "#sk-container-id-1 input.sk-toggleable__control:checked~div.sk-toggleable__content {\n",
              "  /* Expand drop-down */\n",
              "  max-height: 200px;\n",
              "  max-width: 100%;\n",
              "  overflow: auto;\n",
              "}\n",
              "\n",
              "#sk-container-id-1 input.sk-toggleable__control:checked~label.sk-toggleable__label-arrow:before {\n",
              "  content: \"▾\";\n",
              "}\n",
              "\n",
              "/* Pipeline/ColumnTransformer-specific style */\n",
              "\n",
              "#sk-container-id-1 div.sk-label input.sk-toggleable__control:checked~label.sk-toggleable__label {\n",
              "  color: var(--sklearn-color-text);\n",
              "  background-color: var(--sklearn-color-unfitted-level-2);\n",
              "}\n",
              "\n",
              "#sk-container-id-1 div.sk-label.fitted input.sk-toggleable__control:checked~label.sk-toggleable__label {\n",
              "  background-color: var(--sklearn-color-fitted-level-2);\n",
              "}\n",
              "\n",
              "/* Estimator-specific style */\n",
              "\n",
              "/* Colorize estimator box */\n",
              "#sk-container-id-1 div.sk-estimator input.sk-toggleable__control:checked~label.sk-toggleable__label {\n",
              "  /* unfitted */\n",
              "  background-color: var(--sklearn-color-unfitted-level-2);\n",
              "}\n",
              "\n",
              "#sk-container-id-1 div.sk-estimator.fitted input.sk-toggleable__control:checked~label.sk-toggleable__label {\n",
              "  /* fitted */\n",
              "  background-color: var(--sklearn-color-fitted-level-2);\n",
              "}\n",
              "\n",
              "#sk-container-id-1 div.sk-label label.sk-toggleable__label,\n",
              "#sk-container-id-1 div.sk-label label {\n",
              "  /* The background is the default theme color */\n",
              "  color: var(--sklearn-color-text-on-default-background);\n",
              "}\n",
              "\n",
              "/* On hover, darken the color of the background */\n",
              "#sk-container-id-1 div.sk-label:hover label.sk-toggleable__label {\n",
              "  color: var(--sklearn-color-text);\n",
              "  background-color: var(--sklearn-color-unfitted-level-2);\n",
              "}\n",
              "\n",
              "/* Label box, darken color on hover, fitted */\n",
              "#sk-container-id-1 div.sk-label.fitted:hover label.sk-toggleable__label.fitted {\n",
              "  color: var(--sklearn-color-text);\n",
              "  background-color: var(--sklearn-color-fitted-level-2);\n",
              "}\n",
              "\n",
              "/* Estimator label */\n",
              "\n",
              "#sk-container-id-1 div.sk-label label {\n",
              "  font-family: monospace;\n",
              "  font-weight: bold;\n",
              "  display: inline-block;\n",
              "  line-height: 1.2em;\n",
              "}\n",
              "\n",
              "#sk-container-id-1 div.sk-label-container {\n",
              "  text-align: center;\n",
              "}\n",
              "\n",
              "/* Estimator-specific */\n",
              "#sk-container-id-1 div.sk-estimator {\n",
              "  font-family: monospace;\n",
              "  border: 1px dotted var(--sklearn-color-border-box);\n",
              "  border-radius: 0.25em;\n",
              "  box-sizing: border-box;\n",
              "  margin-bottom: 0.5em;\n",
              "  /* unfitted */\n",
              "  background-color: var(--sklearn-color-unfitted-level-0);\n",
              "}\n",
              "\n",
              "#sk-container-id-1 div.sk-estimator.fitted {\n",
              "  /* fitted */\n",
              "  background-color: var(--sklearn-color-fitted-level-0);\n",
              "}\n",
              "\n",
              "/* on hover */\n",
              "#sk-container-id-1 div.sk-estimator:hover {\n",
              "  /* unfitted */\n",
              "  background-color: var(--sklearn-color-unfitted-level-2);\n",
              "}\n",
              "\n",
              "#sk-container-id-1 div.sk-estimator.fitted:hover {\n",
              "  /* fitted */\n",
              "  background-color: var(--sklearn-color-fitted-level-2);\n",
              "}\n",
              "\n",
              "/* Specification for estimator info (e.g. \"i\" and \"?\") */\n",
              "\n",
              "/* Common style for \"i\" and \"?\" */\n",
              "\n",
              ".sk-estimator-doc-link,\n",
              "a:link.sk-estimator-doc-link,\n",
              "a:visited.sk-estimator-doc-link {\n",
              "  float: right;\n",
              "  font-size: smaller;\n",
              "  line-height: 1em;\n",
              "  font-family: monospace;\n",
              "  background-color: var(--sklearn-color-background);\n",
              "  border-radius: 1em;\n",
              "  height: 1em;\n",
              "  width: 1em;\n",
              "  text-decoration: none !important;\n",
              "  margin-left: 0.5em;\n",
              "  text-align: center;\n",
              "  /* unfitted */\n",
              "  border: var(--sklearn-color-unfitted-level-1) 1pt solid;\n",
              "  color: var(--sklearn-color-unfitted-level-1);\n",
              "}\n",
              "\n",
              ".sk-estimator-doc-link.fitted,\n",
              "a:link.sk-estimator-doc-link.fitted,\n",
              "a:visited.sk-estimator-doc-link.fitted {\n",
              "  /* fitted */\n",
              "  border: var(--sklearn-color-fitted-level-1) 1pt solid;\n",
              "  color: var(--sklearn-color-fitted-level-1);\n",
              "}\n",
              "\n",
              "/* On hover */\n",
              "div.sk-estimator:hover .sk-estimator-doc-link:hover,\n",
              ".sk-estimator-doc-link:hover,\n",
              "div.sk-label-container:hover .sk-estimator-doc-link:hover,\n",
              ".sk-estimator-doc-link:hover {\n",
              "  /* unfitted */\n",
              "  background-color: var(--sklearn-color-unfitted-level-3);\n",
              "  color: var(--sklearn-color-background);\n",
              "  text-decoration: none;\n",
              "}\n",
              "\n",
              "div.sk-estimator.fitted:hover .sk-estimator-doc-link.fitted:hover,\n",
              ".sk-estimator-doc-link.fitted:hover,\n",
              "div.sk-label-container:hover .sk-estimator-doc-link.fitted:hover,\n",
              ".sk-estimator-doc-link.fitted:hover {\n",
              "  /* fitted */\n",
              "  background-color: var(--sklearn-color-fitted-level-3);\n",
              "  color: var(--sklearn-color-background);\n",
              "  text-decoration: none;\n",
              "}\n",
              "\n",
              "/* Span, style for the box shown on hovering the info icon */\n",
              ".sk-estimator-doc-link span {\n",
              "  display: none;\n",
              "  z-index: 9999;\n",
              "  position: relative;\n",
              "  font-weight: normal;\n",
              "  right: .2ex;\n",
              "  padding: .5ex;\n",
              "  margin: .5ex;\n",
              "  width: min-content;\n",
              "  min-width: 20ex;\n",
              "  max-width: 50ex;\n",
              "  color: var(--sklearn-color-text);\n",
              "  box-shadow: 2pt 2pt 4pt #999;\n",
              "  /* unfitted */\n",
              "  background: var(--sklearn-color-unfitted-level-0);\n",
              "  border: .5pt solid var(--sklearn-color-unfitted-level-3);\n",
              "}\n",
              "\n",
              ".sk-estimator-doc-link.fitted span {\n",
              "  /* fitted */\n",
              "  background: var(--sklearn-color-fitted-level-0);\n",
              "  border: var(--sklearn-color-fitted-level-3);\n",
              "}\n",
              "\n",
              ".sk-estimator-doc-link:hover span {\n",
              "  display: block;\n",
              "}\n",
              "\n",
              "/* \"?\"-specific style due to the `<a>` HTML tag */\n",
              "\n",
              "#sk-container-id-1 a.estimator_doc_link {\n",
              "  float: right;\n",
              "  font-size: 1rem;\n",
              "  line-height: 1em;\n",
              "  font-family: monospace;\n",
              "  background-color: var(--sklearn-color-background);\n",
              "  border-radius: 1rem;\n",
              "  height: 1rem;\n",
              "  width: 1rem;\n",
              "  text-decoration: none;\n",
              "  /* unfitted */\n",
              "  color: var(--sklearn-color-unfitted-level-1);\n",
              "  border: var(--sklearn-color-unfitted-level-1) 1pt solid;\n",
              "}\n",
              "\n",
              "#sk-container-id-1 a.estimator_doc_link.fitted {\n",
              "  /* fitted */\n",
              "  border: var(--sklearn-color-fitted-level-1) 1pt solid;\n",
              "  color: var(--sklearn-color-fitted-level-1);\n",
              "}\n",
              "\n",
              "/* On hover */\n",
              "#sk-container-id-1 a.estimator_doc_link:hover {\n",
              "  /* unfitted */\n",
              "  background-color: var(--sklearn-color-unfitted-level-3);\n",
              "  color: var(--sklearn-color-background);\n",
              "  text-decoration: none;\n",
              "}\n",
              "\n",
              "#sk-container-id-1 a.estimator_doc_link.fitted:hover {\n",
              "  /* fitted */\n",
              "  background-color: var(--sklearn-color-fitted-level-3);\n",
              "}\n",
              "</style><div id=\"sk-container-id-1\" class=\"sk-top-container\"><div class=\"sk-text-repr-fallback\"><pre>LinearRegression()</pre><b>In a Jupyter environment, please rerun this cell to show the HTML representation or trust the notebook. <br />On GitHub, the HTML representation is unable to render, please try loading this page with nbviewer.org.</b></div><div class=\"sk-container\" hidden><div class=\"sk-item\"><div class=\"sk-estimator fitted sk-toggleable\"><input class=\"sk-toggleable__control sk-hidden--visually\" id=\"sk-estimator-id-1\" type=\"checkbox\" checked><label for=\"sk-estimator-id-1\" class=\"sk-toggleable__label fitted sk-toggleable__label-arrow\"><div><div>LinearRegression</div></div><div><a class=\"sk-estimator-doc-link fitted\" rel=\"noreferrer\" target=\"_blank\" href=\"https://scikit-learn.org/1.6/modules/generated/sklearn.linear_model.LinearRegression.html\">?<span>Documentation for LinearRegression</span></a><span class=\"sk-estimator-doc-link fitted\">i<span>Fitted</span></span></div></label><div class=\"sk-toggleable__content fitted\"><pre>LinearRegression()</pre></div> </div></div></div></div>"
            ],
            "text/plain": [
              "LinearRegression()"
            ]
          },
          "execution_count": 12,
          "metadata": {},
          "output_type": "execute_result"
        }
      ],
      "source": [
        "# Fit the model to the given data, X_train is fitted with weights\n",
        "# (Beta values from in-class slides) to the value y_train, using fit() function\n",
        "model.fit(X_train, y_train)"
      ]
    },
    {
      "cell_type": "code",
      "execution_count": 13,
      "id": "cc4475da-045f-485a-8479-654eab0bf372",
      "metadata": {
        "id": "cc4475da-045f-485a-8479-654eab0bf372"
      },
      "outputs": [],
      "source": [
        "# Make prediction using the unseen X_test data using predict() function\n",
        "y_predictions = model.predict(X_test)"
      ]
    },
    {
      "cell_type": "code",
      "execution_count": 14,
      "id": "fb563db9-839e-4477-8f84-015f8babb1e0",
      "metadata": {
        "id": "fb563db9-839e-4477-8f84-015f8babb1e0"
      },
      "outputs": [
        {
          "data": {
            "text/plain": [
              "<Axes: xlabel='total_bill', ylabel='tip'>"
            ]
          },
          "execution_count": 14,
          "metadata": {},
          "output_type": "execute_result"
        },
        {
          "data": {
            "image/png": "[encoded data removed]",
            "text/plain": [
              "<Figure size 640x480 with 1 Axes>"
            ]
          },
          "metadata": {},
          "output_type": "display_data"
        }
      ],
      "source": [
        "# Plot the true data points of X_test and y_test using regplot\n",
        "sns.regplot(x=X_test, y=y_test)"
      ]
    },
    {
      "cell_type": "code",
      "execution_count": 15,
      "id": "fdc83f40-4ae7-4d54-a8b1-8cde05c6624b",
      "metadata": {
        "id": "fdc83f40-4ae7-4d54-a8b1-8cde05c6624b"
      },
      "outputs": [
        {
          "data": {
            "text/plain": [
              "<Axes: xlabel='total_bill'>"
            ]
          },
          "execution_count": 15,
          "metadata": {},
          "output_type": "execute_result"
        },
        {
          "data": {
            "image/png": "[encoded data removed]",
            "text/plain": [
              "<Figure size 640x480 with 1 Axes>"
            ]
          },
          "metadata": {},
          "output_type": "display_data"
        }
      ],
      "source": [
        "# Predicted the target value tip\n",
        "sns.regplot(x=X_test, y=y_predictions)"
      ]
    },
    {
      "cell_type": "code",
      "execution_count": 16,
      "id": "454bcd7f-b211-44f7-b52b-7b5c708df4e8",
      "metadata": {
        "id": "454bcd7f-b211-44f7-b52b-7b5c708df4e8"
      },
      "outputs": [
        {
          "data": {
            "text/plain": [
              "0.6208580000398983"
            ]
          },
          "execution_count": 16,
          "metadata": {},
          "output_type": "execute_result"
        }
      ],
      "source": [
        "# Use MAE to measure the average magnitude of the errors in a set of predictions.\n",
        "# Closer to zero means better accuracy.\n",
        "from sklearn.metrics import mean_absolute_error\n",
        "mean_absolute_error(y_test,y_predictions)"
      ]
    },
    {
      "cell_type": "code",
      "execution_count": 17,
      "id": "c484341a-4257-41e3-840d-ca61a881ecca",
      "metadata": {
        "id": "c484341a-4257-41e3-840d-ca61a881ecca"
      },
      "outputs": [
        {
          "data": {
            "text/plain": [
              "0.5688142529229538"
            ]
          },
          "execution_count": 17,
          "metadata": {},
          "output_type": "execute_result"
        }
      ],
      "source": [
        "# Use RMSE to measure the average of the suares of the errors or deviations from the actual value.\n",
        "# It is used to measure the accuracy of a model in predicting the outcome of a given data set.\n",
        "# Closer to zero means better accuracy.\n",
        "from sklearn.metrics import mean_squared_error\n",
        "mean_squared_error(y_test,y_predictions)"
      ]
    },
    {
      "cell_type": "code",
      "execution_count": 18,
      "id": "807a9cb0-1403-481d-87c9-8f89e54c9431",
      "metadata": {
        "id": "807a9cb0-1403-481d-87c9-8f89e54c9431"
      },
      "outputs": [
        {
          "data": {
            "text/plain": [
              "0.5449381659234663"
            ]
          },
          "execution_count": 18,
          "metadata": {},
          "output_type": "execute_result"
        }
      ],
      "source": [
        "# Extra information on evaluation of regression, search for 'R^2 score' and implement.\n",
        "# Closer to one means better accuracy.\n",
        "from sklearn.metrics import r2_score\n",
        "r2_score(y_test,y_predictions)"
      ]
    },
    {
      "cell_type": "code",
      "execution_count": 19,
      "id": "c99e0c2e-f5f5-4018-9d1a-8d9af64c7a50",
      "metadata": {
        "id": "c99e0c2e-f5f5-4018-9d1a-8d9af64c7a50"
      },
      "outputs": [
        {
          "name": "stdout",
          "output_type": "stream",
          "text": [
            "[[3.04525623 3.18      ]\n",
            " [1.86330727 2.        ]\n",
            " [3.55119456 2.        ]\n",
            " [3.69452593 5.16      ]\n",
            " [2.31576375 2.        ]\n",
            " [2.83881627 2.        ]\n",
            " [3.96728338 2.56      ]\n",
            " [2.26014262 2.52      ]\n",
            " [2.50615915 3.23      ]\n",
            " [2.57033737 3.        ]\n",
            " [2.88160176 3.        ]\n",
            " [2.07723468 1.47      ]\n",
            " [2.06439904 1.5       ]\n",
            " [2.47407003 2.        ]\n",
            " [2.00236009 1.83      ]\n",
            " [2.91903905 1.36      ]\n",
            " [2.92652651 4.        ]\n",
            " [3.23351235 3.92      ]\n",
            " [2.68478854 2.47      ]\n",
            " [5.33107064 5.        ]\n",
            " [3.13831465 2.45      ]\n",
            " [3.13403611 3.35      ]\n",
            " [2.4558862  4.        ]\n",
            " [1.94673896 1.45      ]\n",
            " [3.16077703 3.5       ]\n",
            " [2.17564129 2.31      ]\n",
            " [2.02375283 1.71      ]\n",
            " [3.62927807 5.        ]\n",
            " [2.68906708 2.        ]\n",
            " [6.07767732 5.        ]\n",
            " [4.99734388 4.        ]\n",
            " [1.75313465 1.44      ]\n",
            " [2.83025918 2.34      ]\n",
            " [3.09552917 3.21      ]\n",
            " [2.74040966 3.5       ]\n",
            " [3.50092162 2.92      ]\n",
            " [2.21200895 1.5       ]\n",
            " [5.53644096 5.        ]\n",
            " [2.33287794 2.75      ]\n",
            " [3.35010279 2.        ]\n",
            " [2.04942412 1.25      ]\n",
            " [2.47834858 2.        ]\n",
            " [3.48701634 2.55      ]\n",
            " [2.03017065 1.67      ]\n",
            " [2.03124029 2.        ]\n",
            " [1.25361414 1.        ]\n",
            " [2.05798121 1.61      ]\n",
            " [2.92438724 2.31      ]\n",
            " [1.73388118 1.44      ]]\n"
          ]
        }
      ],
      "source": [
        "# Print y_prediction vs y_test side-by-side to visibly compare.\n",
        "output=np.column_stack((y_predictions, y_test))\n",
        "print(output)"
      ]
    },
    {
      "cell_type": "code",
      "execution_count": 20,
      "id": "bdb4546b-5432-4336-87d5-50a068b6863b",
      "metadata": {
        "id": "bdb4546b-5432-4336-87d5-50a068b6863b"
      },
      "outputs": [],
      "source": [
        "# Define a new function that calculates the mean absolute error\n",
        "# from y_test to y_predictions\n",
        "def mean_abs_err(y_true, y_pred):\n",
        "#y_pred=y_predictions\n",
        "#y_true=y_test\n",
        "    # Ensure both input arrays/lists have the same length\n",
        "    assert len(y_true) == len(y_pred), \"Arrays have to match in size\"\n",
        "    # Calculate the absolute differences\n",
        "    absolute_errors = [abs(true - pred) for true, pred in zip(y_true, y_pred)]\n",
        "    #mae_result=sum(absolute_errors) / len(absolute_errors)\n",
        "    #print(mae_result)\n",
        "    # Return the mean of the absolute errors\n",
        "    return sum(absolute_errors) / len(absolute_errors)"
      ]
    },
    {
      "cell_type": "code",
      "execution_count": 21,
      "id": "0660c466-c413-40c1-bc1f-b84d55b69b82",
      "metadata": {
        "id": "0660c466-c413-40c1-bc1f-b84d55b69b82"
      },
      "outputs": [
        {
          "data": {
            "text/plain": [
              "0.6208580000398985"
            ]
          },
          "execution_count": 21,
          "metadata": {},
          "output_type": "execute_result"
        }
      ],
      "source": [
        "mean_abs_err(y_test, y_predictions)"
      ]
    },
    {
      "cell_type": "markdown",
      "id": "1wO62YKYLzYl",
      "metadata": {
        "id": "1wO62YKYLzYl"
      },
      "source": [
        "## Challenging task (optional)\n",
        "*   **Predict housing prices**"
      ]
    },
    {
      "cell_type": "code",
      "execution_count": null,
      "id": "4BwYlfP8L50r",
      "metadata": {
        "colab": {
          "base_uri": "https://localhost:8080/"
        },
        "id": "4BwYlfP8L50r",
        "outputId": "2325db29-6319-4ff4-b15d-e5038517d2cc"
      },
      "outputs": [],
      "source": [
        "from google.colab import drive\n",
        "drive.mount('/content/drive')"
      ]
    },
    {
      "cell_type": "code",
      "execution_count": 24,
      "id": "mIiv9q0IQjOB",
      "metadata": {
        "id": "mIiv9q0IQjOB"
      },
      "outputs": [],
      "source": [
        "# Import necessary libraries\n",
        "import pandas as pd\n",
        "import numpy as np\n",
        "import matplotlib.pyplot as plt\n",
        "import seaborn as sns\n",
        "from sklearn.model_selection import train_test_split\n",
        "from sklearn.linear_model import LinearRegression, Ridge, Lasso\n",
        "from sklearn.metrics import mean_squared_error, r2_score\n",
        "from statsmodels.stats.outliers_influence import variance_inflation_factor\n",
        "\n",
        "# Load dataset: housing.csv\n",
        "file_path = \"datasets/housing.csv\"\n",
        "df = pd.read_csv(file_path)\n",
        "\n",
        "# Step 1: Data Preprocessing\n",
        "# Drop non-numeric columns\n",
        "df_numeric = df.select_dtypes(include=[np.number])\n",
        "\n",
        "# Handle missing values by filling with median if any\n",
        "df_numeric.fillna(df_numeric.median(), inplace=True)\n",
        "\n"
      ]
    },
    {
      "cell_type": "code",
      "execution_count": 25,
      "id": "JRA1JLfCkfAk",
      "metadata": {
        "id": "JRA1JLfCkfAk"
      },
      "outputs": [
        {
          "data": {
            "image/png": "[encoded data removed]",
            "text/plain": [
              "<Figure size 1200x800 with 2 Axes>"
            ]
          },
          "metadata": {},
          "output_type": "display_data"
        }
      ],
      "source": [
        "# Step 2: Exploratory Data Analysis (EDA)\n",
        "# Compute and visualize the correlation matrix\n",
        "plt.figure(figsize=(12, 8))\n",
        "sns.heatmap(df_numeric.corr(), annot=True, cmap=\"coolwarm\", fmt=\".2f\", linewidths=0.5)\n",
        "plt.title(\"Correlation Matrix (Numeric Features Only)\")\n",
        "plt.show()\n",
        "\n"
      ]
    },
    {
      "cell_type": "code",
      "execution_count": 26,
      "id": "67q0p4uXkhAl",
      "metadata": {
        "id": "67q0p4uXkhAl"
      },
      "outputs": [
        {
          "name": "stdout",
          "output_type": "stream",
          "text": [
            "\n",
            "Variance Inflation Factor (VIF) Analysis:\n",
            "                        Feature        VIF\n",
            "0              Avg. Area Income  29.650899\n",
            "1           Avg. Area House Age  27.447775\n",
            "2     Avg. Area Number of Rooms  45.257291\n",
            "3  Avg. Area Number of Bedrooms  14.537873\n",
            "4               Area Population  12.825450\n",
            "   Avg. Area Income  Avg. Area House Age  Avg. Area Number of Rooms  \\\n",
            "0       79545.45857             5.682861                   7.009188   \n",
            "1       79248.64245             6.002900                   6.730821   \n",
            "2       61287.06718             5.865890                   8.512727   \n",
            "3       63345.24005             7.188236                   5.586729   \n",
            "4       59982.19723             5.040555                   7.839388   \n",
            "\n",
            "   Avg. Area Number of Bedrooms  Area Population         Price  \n",
            "0                          4.09      23086.80050  1.059034e+06  \n",
            "1                          3.09      40173.07217  1.505891e+06  \n",
            "2                          5.13      36882.15940  1.058988e+06  \n",
            "3                          3.26      34310.24283  1.260617e+06  \n",
            "4                          4.23      26354.10947  6.309435e+05  \n"
          ]
        }
      ],
      "source": [
        "# Step 3: Feature Selection Using Variance Inflation Factor (VIF) (Multicollinearity Handling)\n",
        "# Search for VIF and understand the context before using it\n",
        "# Write a function to calculate VIF for each feature using variance_inflation_factor function\n",
        "def compute_vif(df):\n",
        "    vif_data = pd.DataFrame()\n",
        "    vif_data[\"Feature\"] = df.columns\n",
        "    vif_data[\"VIF\"] = [variance_inflation_factor(df.values, i) for i in range(len(df.columns))]\n",
        "    return vif_data\n",
        "\n",
        "# Call the aforementioned function to Compute VIF and see highly collinear features in the dataset\n",
        "vif_df = compute_vif(df_numeric.drop(columns=['Price'], errors='ignore'))\n",
        "print(\"\\nVariance Inflation Factor (VIF) Analysis:\")\n",
        "print(vif_df)\n",
        "\n",
        "# Remove features with high multicollinearity, i.e., VIF > 30\n",
        "high_vif_features = vif_df[vif_df[\"VIF\"] > 50][\"Feature\"].tolist()\n",
        "df_numeric = df_numeric.drop(columns=high_vif_features, errors='ignore')\n",
        "\n",
        "print(df_numeric.head())"
      ]
    },
    {
      "cell_type": "code",
      "execution_count": 27,
      "id": "5HjDS-m_NQBC",
      "metadata": {
        "id": "5HjDS-m_NQBC"
      },
      "outputs": [],
      "source": [
        "# Step 4: Splitting Data for Model Training, 'Price' is your target variable\n",
        "X = df_numeric.drop(columns=['Price'])\n",
        "y = df_numeric['Price'] # Last column as target\n",
        "\n",
        "X_train, X_test, y_train, y_test = train_test_split(X, y, test_size=0.2, random_state=42)\n"
      ]
    },
    {
      "cell_type": "code",
      "execution_count": 28,
      "id": "AFmXHYSzkpvF",
      "metadata": {
        "id": "AFmXHYSzkpvF"
      },
      "outputs": [
        {
          "name": "stdout",
          "output_type": "stream",
          "text": [
            "\n",
            "Linear Regression Model Evaluation:\n",
            "Root Mean Squared Error (RMSE): 100444.061\n",
            "R² Score: 0.918\n"
          ]
        }
      ],
      "source": [
        "# Step 5: Training and Evaluating a Linear Regression Model\n",
        "# Select and Train Linear Regression Model\n",
        "lr_model = LinearRegression()\n",
        "lr_model.fit(X_train, y_train)\n",
        "\n",
        "# Predict using the model and X_test\n",
        "y_pred = lr_model.predict(X_test)\n",
        "\n",
        "## Model Evaluation using RMSE and R^2 and print the outputs using the following prints\n",
        "# write HERE for the evaluation of RME and R^2\n",
        "rmse = np.sqrt(mean_squared_error(y_test, y_pred))\n",
        "r2 = r2_score(y_test, y_pred)\n",
        "# print the output\n",
        "print(\"\\nLinear Regression Model Evaluation:\")\n",
        "print(f\"Root Mean Squared Error (RMSE): {rmse:.3f}\")\n",
        "print(f\"R² Score: {r2:.3f}\")\n",
        "\n"
      ]
    },
    {
      "cell_type": "code",
      "execution_count": 29,
      "id": "0Dpco7HckskY",
      "metadata": {
        "id": "0Dpco7HckskY"
      },
      "outputs": [
        {
          "name": "stdout",
          "output_type": "stream",
          "text": [
            "\n",
            "Regularization Results:\n",
            "Ridge Regression - RMSE: 100447.581, R²: 0.918\n",
            "Lasso Regression - RMSE: 100444.067, R²: 0.918\n"
          ]
        }
      ],
      "source": [
        "# Step 6: Search for Regularisation with Ridge and Lasso Regression and use them in this task to improve results and observe if it helps\n",
        "# Play with alpha values and observe if there is any changes\n",
        "# RIDGE\n",
        "ridge_model = Ridge(alpha=1.0)\n",
        "ridge_model.fit(X_train, y_train)\n",
        "ridge_pred = ridge_model.predict(X_test)\n",
        "ridge_rmse = np.sqrt(mean_squared_error(y_test, ridge_pred))\n",
        "ridge_r2 = r2_score(y_test, ridge_pred)\n",
        "# LASSO\n",
        "lasso_model = Lasso(alpha=0.1)\n",
        "lasso_model.fit(X_train, y_train)\n",
        "lasso_pred = lasso_model.predict(X_test)\n",
        "lasso_rmse = np.sqrt(mean_squared_error(y_test, lasso_pred))\n",
        "lasso_r2 = r2_score(y_test, lasso_pred)\n",
        "# print the output\n",
        "print(\"\\nRegularization Results:\")\n",
        "print(f\"Ridge Regression - RMSE: {ridge_rmse:.3f}, R²: {ridge_r2:.3f}\")\n",
        "print(f\"Lasso Regression - RMSE: {lasso_rmse:.3f}, R²: {lasso_r2:.3f}\")\n",
        "\n"
      ]
    },
    {
      "cell_type": "code",
      "execution_count": 30,
      "id": "iEa_BRUkkvHj",
      "metadata": {
        "id": "iEa_BRUkkvHj"
      },
      "outputs": [
        {
          "name": "stdout",
          "output_type": "stream",
          "text": [
            "\n",
            "Feature Importance (Linear Regression Coefficients):\n",
            "                        Feature     Importance\n",
            "1           Avg. Area House Age  164666.480720\n",
            "2     Avg. Area Number of Rooms  119624.012231\n",
            "3  Avg. Area Number of Bedrooms    2440.377612\n",
            "0              Avg. Area Income      21.652206\n",
            "4               Area Population      15.270313\n"
          ]
        }
      ],
      "source": [
        "# Step 7: Feature Importance\n",
        "# Get feature importance using the Linear Regression coefficients and print\n",
        "feature_importance = pd.DataFrame({\n",
        "    'Feature': X.columns,\n",
        "    'Importance': np.abs(lr_model.coef_)}).sort_values(by='Importance', ascending=False)\n",
        "\n",
        "print(\"\\nFeature Importance (Linear Regression Coefficients):\")\n",
        "print(feature_importance)\n",
        "\n"
      ]
    },
    {
      "cell_type": "code",
      "execution_count": 31,
      "id": "nWlzxvGwkxVX",
      "metadata": {
        "id": "nWlzxvGwkxVX"
      },
      "outputs": [],
      "source": [
        "# Step 8: Change VIF value from 30 to 50 at the end of Step 3 and observe/comment on your findings.\n",
        "# How did this change affect the selected features and the model performance?"
      ]
    },
    {
      "cell_type": "markdown",
      "id": "tuVyL380jwfA",
      "metadata": {
        "id": "tuVyL380jwfA"
      },
      "source": [
        "# When NOT to Rely Solely on VIF\n",
        "\n",
        "VIF is not always a strict rule for feature elimination because:\n",
        "\n",
        "1- Multicollinearity doesn't always harm prediction: If you only care about prediction accuracy and not coefficient interpretation, keeping collinear variables can sometimes improve performance.\n",
        "\n",
        "2- VIF does not indicate causation: A high VIF simply means a feature is highly correlated with others, but it does not mean it should be removed unless it negatively affects the model.\n",
        "\n",
        "3- Feature importance matters more: If a feature with high VIF is also highly important for prediction, removing it could degrade model performance.\n",
        "\n",
        "4- Some models handle collinearity well: Regularized models like Ridge Regression and Lasso Regression can handle multicollinearity effectively without needing to remove features."
      ]
    },
    {
      "cell_type": "markdown",
      "id": "2JWMsISBkIg1",
      "metadata": {
        "id": "2JWMsISBkIg1"
      },
      "source": [
        "*   VIF should be a guiding metric, not a hard rule for feature selection.\n",
        "*   If performance improves with high-VIF features, keep them!\n",
        "*   Multicollinearity is a problem only when it degrades model performance or interpretability.\n",
        "*   Regularization methods (Ridge, Lasso) can handle high-VIF features without removing them.\n",
        "\n"
      ]
    }
  ],
  "metadata": {
    "colab": {
      "provenance": []
    },
    "kernelspec": {
      "display_name": "Python 3",
      "language": "python",
      "name": "python3"
    },
    "language_info": {
      "codemirror_mode": {
        "name": "ipython",
        "version": 3
      },
      "file_extension": ".py",
      "mimetype": "text/x-python",
      "name": "python",
      "nbconvert_exporter": "python",
      "pygments_lexer": "ipython3",
      "version": "3.10.11"
    }
  },
  "nbformat": 4,
  "nbformat_minor": 5
}
