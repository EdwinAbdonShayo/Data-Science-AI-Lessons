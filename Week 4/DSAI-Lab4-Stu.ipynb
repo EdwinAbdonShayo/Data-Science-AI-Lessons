{
  "cells": [
    {
      "cell_type": "markdown",
      "id": "4ec5c2ad-4e30-4f57-91b0-78d785055b07",
      "metadata": {
        "id": "4ec5c2ad-4e30-4f57-91b0-78d785055b07"
      },
      "source": [
        "# Week 4: Lab Work - Regression Model Development and Evaluation"
      ]
    },
    {
      "cell_type": "code",
      "execution_count": null,
      "id": "ucpCKkmEKGYf",
      "metadata": {
        "colab": {
          "base_uri": "https://localhost:8080/"
        },
        "id": "ucpCKkmEKGYf",
        "outputId": "9416bd0f-732c-4d20-a556-b73417c2f9e3"
      },
      "outputs": [
        {
          "name": "stdout",
          "output_type": "stream",
          "text": [
            "Mounted at /content/drive\n"
          ]
        }
      ],
      "source": [
        "from google.colab import drive\n",
        "drive.mount('/content/drive')"
      ]
    },
    {
      "cell_type": "code",
      "execution_count": 65,
      "id": "2c78a005-f726-40d2-9d4f-e2c1a39127e6",
      "metadata": {
        "id": "2c78a005-f726-40d2-9d4f-e2c1a39127e6"
      },
      "outputs": [],
      "source": [
        "# Import the libraries required, for example: import seaborn as sns\n",
        "\n",
        "import seaborn as sns\n",
        "from sklearn.model_selection import train_test_split\n",
        "#from sklearn.model_selection import KFold\n",
        "from sklearn.linear_model import LinearRegression, Ridge, Lasso\n",
        "import pandas as pd\n",
        "import matplotlib.pyplot as plt\n",
        "\n",
        "from sklearn.metrics import mean_squared_error, r2_score, mean_absolute_error\n",
        "import numpy as np\n",
        "\n",
        "\n",
        "# from sklearn.metrics import mean_squared_error, r2_score\n",
        "from statsmodels.stats.outliers_influence import variance_inflation_factor\n"
      ]
    },
    {
      "cell_type": "markdown",
      "id": "6081557f-8acf-4ced-92f0-ebf22b63a83f",
      "metadata": {
        "id": "6081557f-8acf-4ced-92f0-ebf22b63a83f"
      },
      "source": [
        "## Load ‘tips’ data set from seaborn library"
      ]
    },
    {
      "cell_type": "code",
      "execution_count": 6,
      "id": "41cd5ba1-849f-4146-8066-8ad564a1b031",
      "metadata": {
        "id": "41cd5ba1-849f-4146-8066-8ad564a1b031"
      },
      "outputs": [],
      "source": [
        "# Load the dataset \"tips\" from seaborn package using sns object.\n",
        "# data = pd.read_csv('datasets/housing.csv')\n",
        "data = sns.load_dataset('tips')"
      ]
    },
    {
      "cell_type": "code",
      "execution_count": 3,
      "id": "f6405e9e-8443-4d42-a769-af6156014a7b",
      "metadata": {
        "id": "f6405e9e-8443-4d42-a769-af6156014a7b"
      },
      "outputs": [
        {
          "name": "stdout",
          "output_type": "stream",
          "text": [
            "Data Head\n",
            "   total_bill   tip     sex smoker  day    time  size\n",
            "0       16.99  1.01  Female     No  Sun  Dinner     2\n",
            "1       10.34  1.66    Male     No  Sun  Dinner     3\n",
            "2       21.01  3.50    Male     No  Sun  Dinner     3\n",
            "3       23.68  3.31    Male     No  Sun  Dinner     2\n",
            "4       24.59  3.61  Female     No  Sun  Dinner     4\n",
            "\n",
            "Data Index\n",
            "RangeIndex(start=0, stop=244, step=1)\n",
            "\n",
            "Data Columns\n",
            "Index(['total_bill', 'tip', 'sex', 'smoker', 'day', 'time', 'size'], dtype='object')\n"
          ]
        }
      ],
      "source": [
        "# Print the head of the dataset to have an idea.\n",
        "\n",
        "print(f\"Data Head\\n{data.head()}\")\n",
        "print(f\"\\nData Index\\n{data.index}\")\n",
        "print(f\"\\nData Columns\\n{data.columns}\")\n",
        "# print(tips.head())"
      ]
    },
    {
      "cell_type": "code",
      "execution_count": 4,
      "id": "1038339f-d13f-4284-beda-548e90353c61",
      "metadata": {
        "id": "1038339f-d13f-4284-beda-548e90353c61"
      },
      "outputs": [
        {
          "data": {
            "text/plain": [
              "(244, 7)"
            ]
          },
          "execution_count": 4,
          "metadata": {},
          "output_type": "execute_result"
        }
      ],
      "source": [
        "# Check the size of the dataset\n",
        "data.shape"
      ]
    },
    {
      "cell_type": "code",
      "execution_count": 5,
      "id": "fe55511b-2466-4d39-9d77-4aef1049f379",
      "metadata": {
        "id": "fe55511b-2466-4d39-9d77-4aef1049f379"
      },
      "outputs": [
        {
          "name": "stdout",
          "output_type": "stream",
          "text": [
            "<class 'pandas.core.frame.DataFrame'>\n",
            "RangeIndex: 244 entries, 0 to 243\n",
            "Data columns (total 7 columns):\n",
            " #   Column      Non-Null Count  Dtype   \n",
            "---  ------      --------------  -----   \n",
            " 0   total_bill  244 non-null    float64 \n",
            " 1   tip         244 non-null    float64 \n",
            " 2   sex         244 non-null    category\n",
            " 3   smoker      244 non-null    category\n",
            " 4   day         244 non-null    category\n",
            " 5   time        244 non-null    category\n",
            " 6   size        244 non-null    int64   \n",
            "dtypes: category(4), float64(2), int64(1)\n",
            "memory usage: 7.4 KB\n"
          ]
        }
      ],
      "source": [
        "# Check the variables/columns and the data types and see if we can predict tips using total_bill for example? You can use info()\n",
        "data.info(verbose=True)\n",
        "# tips.info(verbose=True)"
      ]
    },
    {
      "cell_type": "markdown",
      "id": "9afa478c-3851-4e3f-8312-40d8523d2f01",
      "metadata": {
        "id": "9afa478c-3851-4e3f-8312-40d8523d2f01"
      },
      "source": [
        "## <font color='red'>Objective</font>: Using Linear Regression Algorithm, we aim to predict tips on the basis of total bill."
      ]
    },
    {
      "cell_type": "code",
      "execution_count": 6,
      "id": "1d364c32-24b5-4447-9a14-a3132aae149e",
      "metadata": {
        "id": "1d364c32-24b5-4447-9a14-a3132aae149e"
      },
      "outputs": [
        {
          "data": {
            "image/png": "[encoded data removed]",
            "text/plain": [
              "<Figure size 640x480 with 1 Axes>"
            ]
          },
          "metadata": {},
          "output_type": "display_data"
        }
      ],
      "source": [
        "# Can you plot a scatterplot below to see whether total bill tends to proprotionally increase with the tip?\n",
        "# This way we can be sure to use 'total_bill' feature to predict 'tip' target value by observing the correlation.\n",
        "\n",
        "sns.scatterplot(x='total_bill', y='tip', data=data)\n",
        "\n",
        "plt.xlabel('Total Bill')\n",
        "plt.ylabel('Tip')\n",
        "plt.title('Total Bill vs Tip')\n",
        "\n",
        "plt.show()"
      ]
    },
    {
      "cell_type": "code",
      "execution_count": 7,
      "id": "26e42383-0f77-4324-b0ad-21b1718a7882",
      "metadata": {
        "id": "26e42383-0f77-4324-b0ad-21b1718a7882"
      },
      "outputs": [
        {
          "data": {
            "image/png": "[encoded data removed]",
            "text/plain": [
              "<Figure size 500x500 with 1 Axes>"
            ]
          },
          "metadata": {},
          "output_type": "display_data"
        }
      ],
      "source": [
        "# Consider using regplot() or lmplot function to see this trend much clearly.\n",
        "\n",
        "\n",
        "sns.lmplot(x='total_bill', y='tip', data=data)\n",
        "\n",
        "# Add labels and title\n",
        "plt.xlabel('Total Bill')\n",
        "plt.ylabel('Tip')\n",
        "plt.title('Total Bill vs Tip')\n",
        "\n",
        "# Show the plot\n",
        "plt.show()"
      ]
    },
    {
      "cell_type": "markdown",
      "id": "c0a792c4-66fb-4f94-87ae-288306fe6a77",
      "metadata": {
        "id": "c0a792c4-66fb-4f94-87ae-288306fe6a77"
      },
      "source": [
        "# Model Development"
      ]
    },
    {
      "cell_type": "markdown",
      "id": "c5e26b0a-e4c0-48b7-b402-490d6328d18e",
      "metadata": {
        "id": "c5e26b0a-e4c0-48b7-b402-490d6328d18e"
      },
      "source": [
        "## Divide the dataset into two parts, X for total_bill features/predictors, y for tip target value."
      ]
    },
    {
      "cell_type": "code",
      "execution_count": 7,
      "id": "c7dbc047-9665-47f5-a1f8-4073888cae8d",
      "metadata": {
        "id": "c7dbc047-9665-47f5-a1f8-4073888cae8d"
      },
      "outputs": [
        {
          "name": "stdout",
          "output_type": "stream",
          "text": [
            "   total_bill\n",
            "0       16.99\n",
            "1       10.34\n",
            "2       21.01\n",
            "3       23.68\n",
            "4       24.59\n",
            "0    1.01\n",
            "1    1.66\n",
            "2    3.50\n",
            "3    3.31\n",
            "4    3.61\n",
            "Name: tip, dtype: float64\n"
          ]
        }
      ],
      "source": [
        "# Write HERE\n",
        "\n",
        "# Better to define features as a dataframe [[]]\n",
        "# Predicted value can be defined as series []\n",
        "# The target variable (y) is often defined as a Series because it represents a single column of values corresponding to the output labels or\n",
        "# regression targets. Machine learning models are generally fine with the target variable being in a one-dimensional format.\n",
        "# Since y only holds the target values, there's no need to keep it in a 2D DataFrame format, e.g. (244,1).\n",
        "\n",
        "# Define the feature as a DataFrame\n",
        "X = data[['total_bill']]\n",
        "\n",
        "# Define the target value as a Series\n",
        "y = data['tip']\n",
        "\n",
        "# Display the first few rows of X and y\n",
        "print(X.head())\n",
        "print(y.head())"
      ]
    },
    {
      "cell_type": "markdown",
      "id": "891bc0c6-c542-4c19-9047-f42d1b2943c1",
      "metadata": {
        "id": "891bc0c6-c542-4c19-9047-f42d1b2943c1"
      },
      "source": [
        "# Train-Test Split\n",
        "- Train-test split is a technique used in machine learning to evaluate the performance of a model on unseen data. It is used to split the data into two parts: a training set and a test set. The training set is used to train the model, while the test set is used to evaluate the model’s performance on unseen data. This helps to ensure that the model is not overfitting the data, and that it is generalizing well to unseen data."
      ]
    },
    {
      "cell_type": "code",
      "execution_count": 8,
      "id": "8cfe28bd-633a-4ee4-aea8-e62d582162f7",
      "metadata": {
        "id": "8cfe28bd-633a-4ee4-aea8-e62d582162f7"
      },
      "outputs": [],
      "source": [
        "#Split the data into training and test sets using train_test_split. Spare 80% for training set and 20% for the test set.\n",
        "\n",
        "X_train, X_test, y_train, y_test = train_test_split(X, y, test_size=0.2, random_state=42)\n"
      ]
    },
    {
      "cell_type": "code",
      "execution_count": 11,
      "id": "6ee34022-b5e8-4493-8a62-08704d704717",
      "metadata": {
        "id": "6ee34022-b5e8-4493-8a62-08704d704717"
      },
      "outputs": [
        {
          "name": "stdout",
          "output_type": "stream",
          "text": [
            "X_train shape: (195, 1)\n",
            "X_test shape: (49, 1)\n",
            "y_train shape: (195,)\n",
            "y_test shape: (49,)\n",
            "Data shape: (244, 7)\n"
          ]
        }
      ],
      "source": [
        "# You can check the size of each variables: X_train, X_test, y_train, y_test whether they match in size using data.shape\n",
        "\n",
        "print(f'X_train shape: {X_train.shape}')\n",
        "print(f'X_test shape: {X_test.shape}')\n",
        "print(f'y_train shape: {y_train.shape}')\n",
        "print(f'y_test shape: {y_test.shape}')\n",
        "print(f'Data shape: {data.shape}')"
      ]
    },
    {
      "cell_type": "code",
      "execution_count": 9,
      "id": "d8ccae51-bddd-491e-b51d-0c1ef52c1ed7",
      "metadata": {
        "id": "d8ccae51-bddd-491e-b51d-0c1ef52c1ed7"
      },
      "outputs": [
        {
          "name": "stdout",
          "output_type": "stream",
          "text": [
            "Intercept: 0.9252355585570546\n",
            "Coefficient: 0.10696370685268666\n"
          ]
        },
        {
          "data": {
            "image/png": "[encoded data removed]",
            "text/plain": [
              "<Figure size 640x480 with 1 Axes>"
            ]
          },
          "metadata": {},
          "output_type": "display_data"
        }
      ],
      "source": [
        "# Define Linear Regression model\n",
        "# Write your code HERE\n",
        "\n",
        "## General approach\n",
        "# 1- Identify and allocate X and y, features and the target value.\n",
        "# 2- Split the dataset into X_train, X_test, y_train, y_test.\n",
        "# 3- Determine the model - whether it is linear regression/random forest etc. you want to use?\n",
        "\n",
        "# 4- Fit the data - train X_train with y_train so as to teach the model the correlation between X and y.\n",
        "# 4th step is done so that Beta values are estimated, which can then be used to estimate the y values on a new unseen data (X_test in our case).\n",
        "\n",
        "model = LinearRegression()\n",
        "\n",
        "model.fit(X_train, y_train)\n",
        "\n",
        "# Display the coefficients\n",
        "print(f'Intercept: {model.intercept_}')\n",
        "print(f'Coefficient: {model.coef_[0]}')\n",
        "\n",
        "# Predict the y values for the test set\n",
        "y_pred = model.predict(X_test)\n",
        "\n",
        "# Plot the regression line with the test data\n",
        "plt.scatter(X_test, y_test, color='blue', label='Actual')\n",
        "plt.plot(X_test, y_pred, color='red', linewidth=2, label='Predicted')\n",
        "plt.xlabel('Total Bill')\n",
        "plt.ylabel('Tip')\n",
        "plt.title('Total Bill vs Tip (Test Set)')\n",
        "plt.legend()\n",
        "plt.show()\n"
      ]
    },
    {
      "cell_type": "code",
      "execution_count": 13,
      "id": "3936e3b2-8db8-4b27-a4be-f848d6fe2981",
      "metadata": {
        "id": "3936e3b2-8db8-4b27-a4be-f848d6fe2981"
      },
      "outputs": [
        {
          "name": "stdout",
          "output_type": "stream",
          "text": [
            "Model coefficients (Beta): [0.10696371]\n",
            "Intercept: 0.9252355585570546\n"
          ]
        }
      ],
      "source": [
        "# Fit the model to the given data, X_train is fitted with weights (Beta values from in-class slides) to the value y_train, using fit() function\n",
        "\n",
        "# Define the Linear Regression model\n",
        "model = LinearRegression()\n",
        "\n",
        "# Fit the model on the training data (X_train and y_train)\n",
        "model.fit(X_train, y_train)\n",
        "\n",
        "# Print the estimated Beta values (coefficients)\n",
        "print(f\"Model coefficients (Beta): {model.coef_}\")\n",
        "print(f\"Intercept: {model.intercept_}\")"
      ]
    },
    {
      "cell_type": "code",
      "execution_count": 14,
      "id": "cc4475da-045f-485a-8479-654eab0bf372",
      "metadata": {
        "id": "cc4475da-045f-485a-8479-654eab0bf372"
      },
      "outputs": [
        {
          "name": "stdout",
          "output_type": "stream",
          "text": [
            "Intercept: 0.9252355585570546\n",
            "Coefficient: 0.10696370685268666\n"
          ]
        },
        {
          "data": {
            "image/png": "[encoded data removed]",
            "text/plain": [
              "<Figure size 640x480 with 1 Axes>"
            ]
          },
          "metadata": {},
          "output_type": "display_data"
        }
      ],
      "source": [
        "# Make prediction using the unseen X_test data using predict() function\n",
        "\n",
        "# Display the coefficients\n",
        "print(f'Intercept: {model.intercept_}')\n",
        "print(f'Coefficient: {model.coef_[0]}')\n",
        "\n",
        "# Predict the y values for the test set\n",
        "y_pred = model.predict(X_test)\n",
        "\n",
        "# Plot the regression line with the test data\n",
        "plt.scatter(X_test, y_test, color='blue', label='Actual')\n",
        "plt.plot(X_test, y_pred, color='red', linewidth=2, label='Predicted')\n",
        "plt.xlabel('Total Bill')\n",
        "plt.ylabel('Tip')\n",
        "plt.title('Total Bill vs Tip (Test Set)')\n",
        "plt.legend()\n",
        "plt.show()"
      ]
    },
    {
      "cell_type": "code",
      "execution_count": 15,
      "id": "fb563db9-839e-4477-8f84-015f8babb1e0",
      "metadata": {
        "id": "fb563db9-839e-4477-8f84-015f8babb1e0"
      },
      "outputs": [
        {
          "data": {
            "image/png": "[encoded data removed]",
            "text/plain": [
              "<Figure size 640x480 with 1 Axes>"
            ]
          },
          "metadata": {},
          "output_type": "display_data"
        }
      ],
      "source": [
        "# Plot the true data points of X_test and y_test using regplot\n",
        "\n",
        "sns.regplot(x=X_test['total_bill'], y=y_test, color='blue', label='Actual')\n",
        "plt.xlabel('Total Bill')\n",
        "plt.ylabel('Tip')\n",
        "plt.title('Relationship Between Total Bill and Tip')\n",
        "plt.legend()\n",
        "plt.show()\n"
      ]
    },
    {
      "cell_type": "code",
      "execution_count": 16,
      "id": "fdc83f40-4ae7-4d54-a8b1-8cde05c6624b",
      "metadata": {
        "id": "fdc83f40-4ae7-4d54-a8b1-8cde05c6624b"
      },
      "outputs": [
        {
          "data": {
            "image/png": "[encoded data removed]",
            "text/plain": [
              "<Figure size 640x480 with 1 Axes>"
            ]
          },
          "metadata": {},
          "output_type": "display_data"
        }
      ],
      "source": [
        "# Plot the predicted target value 'tip', you can use regplot\n",
        "\n",
        "sns.regplot(x=X_test['total_bill'], y=y_pred, color='red', label='Predicted')\n",
        "plt.xlabel('Total Bill')\n",
        "plt.ylabel('Tip')\n",
        "plt.title('Predicted Tip Values')\n",
        "plt.legend()\n",
        "plt.show()\n"
      ]
    },
    {
      "cell_type": "code",
      "execution_count": 17,
      "id": "454bcd7f-b211-44f7-b52b-7b5c708df4e8",
      "metadata": {
        "id": "454bcd7f-b211-44f7-b52b-7b5c708df4e8"
      },
      "outputs": [
        {
          "name": "stdout",
          "output_type": "stream",
          "text": [
            "Intercept: 0.9252355585570546\n",
            "Coefficient: 0.10696370685268666\n",
            "Mean Absolute Error: 0.6208580000398983\n"
          ]
        },
        {
          "data": {
            "image/png": "[encoded data removed]",
            "text/plain": [
              "<Figure size 640x480 with 1 Axes>"
            ]
          },
          "metadata": {},
          "output_type": "display_data"
        }
      ],
      "source": [
        "# Use MAE to measure the average magnitude of the errors in a set of predictions.\n",
        "# Closer to zero means better accuracy.\n",
        "# from sklearn.metrics import mean_absolute_error\n",
        "\n",
        "# 2. Split the dataset into X_train, X_test, y_train, y_test\n",
        "# X_train, X_test, y_train, y_test = train_test_split(X, y, test_size=0.2, random_state=42)\n",
        "\n",
        "# 3. Determine the model - use linear regression\n",
        "# model = LinearRegression()\n",
        "\n",
        "# 4. Fit the data - train X_train with y_train\n",
        "# model.fit(X_train, y_train)\n",
        "\n",
        "# Display the coefficients\n",
        "print(f'Intercept: {model.intercept_}')\n",
        "print(f'Coefficient: {model.coef_[0]}')\n",
        "\n",
        "# Predict the y values for the test set\n",
        "y_pred = model.predict(X_test)\n",
        "\n",
        "# Calculate Mean Absolute Error (MAE)\n",
        "mae = mean_absolute_error(y_test, y_pred)\n",
        "print(f'Mean Absolute Error: {mae}')\n",
        "\n",
        "# Plot the regression line with the test data\n",
        "plt.scatter(X_test, y_test, color='blue', label='Actual')\n",
        "plt.plot(X_test, y_pred, color='red', linewidth=2, label='Predicted')\n",
        "plt.xlabel('Total Bill')\n",
        "plt.ylabel('Tip')\n",
        "plt.title('Total Bill vs Tip (Test Set)')\n",
        "plt.legend()\n",
        "plt.show()"
      ]
    },
    {
      "cell_type": "code",
      "execution_count": 10,
      "id": "c484341a-4257-41e3-840d-ca61a881ecca",
      "metadata": {
        "id": "c484341a-4257-41e3-840d-ca61a881ecca"
      },
      "outputs": [
        {
          "name": "stdout",
          "output_type": "stream",
          "text": [
            "Root Mean Squared Error (RMSE): 0.7541977545199626\n"
          ]
        }
      ],
      "source": [
        "# Use RMSE to measure the average of the suares of the errors or deviations from the actual value.\n",
        "# It is used to measure the accuracy of a model in predicting the outcome of a given data set.\n",
        "# Closer to zero means better accuracy.\n",
        "\n",
        "# Calculate Mean Squared Error (MSE)\n",
        "mse = mean_squared_error(y_test, y_pred)\n",
        "\n",
        "# Compute Root Mean Squared Error (RMSE)\n",
        "rmse = np.sqrt(mse)\n",
        "\n",
        "print(f'Root Mean Squared Error (RMSE): {rmse}')"
      ]
    },
    {
      "cell_type": "code",
      "execution_count": 13,
      "id": "807a9cb0-1403-481d-87c9-8f89e54c9431",
      "metadata": {
        "id": "807a9cb0-1403-481d-87c9-8f89e54c9431"
      },
      "outputs": [
        {
          "name": "stdout",
          "output_type": "stream",
          "text": [
            "R² Score: 0.5449381659234663\n"
          ]
        }
      ],
      "source": [
        "# Extra information on evaluation of regression, search for 'R^2 score' and implement.\n",
        "# Closer to one means better accuracy.\n",
        "\n",
        "\n",
        "# Compute R² Score\n",
        "r2 = r2_score(y_test, y_pred)\n",
        "\n",
        "print(f'R² Score: {r2}')"
      ]
    },
    {
      "cell_type": "code",
      "execution_count": 16,
      "id": "I33qclcMLxvY",
      "metadata": {
        "id": "I33qclcMLxvY"
      },
      "outputs": [
        {
          "data": {
            "text/html": [
              "<div>\n",
              "<style scoped>\n",
              "    .dataframe tbody tr th:only-of-type {\n",
              "        vertical-align: middle;\n",
              "    }\n",
              "\n",
              "    .dataframe tbody tr th {\n",
              "        vertical-align: top;\n",
              "    }\n",
              "\n",
              "    .dataframe thead th {\n",
              "        text-align: right;\n",
              "    }\n",
              "</style>\n",
              "<table border=\"1\" class=\"dataframe\">\n",
              "  <thead>\n",
              "    <tr style=\"text-align: right;\">\n",
              "      <th></th>\n",
              "      <th>Actual</th>\n",
              "      <th>Predicted</th>\n",
              "    </tr>\n",
              "  </thead>\n",
              "  <tbody>\n",
              "    <tr>\n",
              "      <th>0</th>\n",
              "      <td>3.18</td>\n",
              "      <td>3.045256</td>\n",
              "    </tr>\n",
              "    <tr>\n",
              "      <th>1</th>\n",
              "      <td>2.00</td>\n",
              "      <td>1.863307</td>\n",
              "    </tr>\n",
              "    <tr>\n",
              "      <th>2</th>\n",
              "      <td>2.00</td>\n",
              "      <td>3.551195</td>\n",
              "    </tr>\n",
              "    <tr>\n",
              "      <th>3</th>\n",
              "      <td>5.16</td>\n",
              "      <td>3.694526</td>\n",
              "    </tr>\n",
              "    <tr>\n",
              "      <th>4</th>\n",
              "      <td>2.00</td>\n",
              "      <td>2.315764</td>\n",
              "    </tr>\n",
              "    <tr>\n",
              "      <th>5</th>\n",
              "      <td>2.00</td>\n",
              "      <td>2.838816</td>\n",
              "    </tr>\n",
              "    <tr>\n",
              "      <th>6</th>\n",
              "      <td>2.56</td>\n",
              "      <td>3.967283</td>\n",
              "    </tr>\n",
              "    <tr>\n",
              "      <th>7</th>\n",
              "      <td>2.52</td>\n",
              "      <td>2.260143</td>\n",
              "    </tr>\n",
              "    <tr>\n",
              "      <th>8</th>\n",
              "      <td>3.23</td>\n",
              "      <td>2.506159</td>\n",
              "    </tr>\n",
              "    <tr>\n",
              "      <th>9</th>\n",
              "      <td>3.00</td>\n",
              "      <td>2.570337</td>\n",
              "    </tr>\n",
              "    <tr>\n",
              "      <th>10</th>\n",
              "      <td>3.00</td>\n",
              "      <td>2.881602</td>\n",
              "    </tr>\n",
              "    <tr>\n",
              "      <th>11</th>\n",
              "      <td>1.47</td>\n",
              "      <td>2.077235</td>\n",
              "    </tr>\n",
              "    <tr>\n",
              "      <th>12</th>\n",
              "      <td>1.50</td>\n",
              "      <td>2.064399</td>\n",
              "    </tr>\n",
              "    <tr>\n",
              "      <th>13</th>\n",
              "      <td>2.00</td>\n",
              "      <td>2.474070</td>\n",
              "    </tr>\n",
              "    <tr>\n",
              "      <th>14</th>\n",
              "      <td>1.83</td>\n",
              "      <td>2.002360</td>\n",
              "    </tr>\n",
              "    <tr>\n",
              "      <th>15</th>\n",
              "      <td>1.36</td>\n",
              "      <td>2.919039</td>\n",
              "    </tr>\n",
              "    <tr>\n",
              "      <th>16</th>\n",
              "      <td>4.00</td>\n",
              "      <td>2.926527</td>\n",
              "    </tr>\n",
              "    <tr>\n",
              "      <th>17</th>\n",
              "      <td>3.92</td>\n",
              "      <td>3.233512</td>\n",
              "    </tr>\n",
              "    <tr>\n",
              "      <th>18</th>\n",
              "      <td>2.47</td>\n",
              "      <td>2.684789</td>\n",
              "    </tr>\n",
              "    <tr>\n",
              "      <th>19</th>\n",
              "      <td>5.00</td>\n",
              "      <td>5.331071</td>\n",
              "    </tr>\n",
              "    <tr>\n",
              "      <th>20</th>\n",
              "      <td>2.45</td>\n",
              "      <td>3.138315</td>\n",
              "    </tr>\n",
              "    <tr>\n",
              "      <th>21</th>\n",
              "      <td>3.35</td>\n",
              "      <td>3.134036</td>\n",
              "    </tr>\n",
              "    <tr>\n",
              "      <th>22</th>\n",
              "      <td>4.00</td>\n",
              "      <td>2.455886</td>\n",
              "    </tr>\n",
              "    <tr>\n",
              "      <th>23</th>\n",
              "      <td>1.45</td>\n",
              "      <td>1.946739</td>\n",
              "    </tr>\n",
              "    <tr>\n",
              "      <th>24</th>\n",
              "      <td>3.50</td>\n",
              "      <td>3.160777</td>\n",
              "    </tr>\n",
              "    <tr>\n",
              "      <th>25</th>\n",
              "      <td>2.31</td>\n",
              "      <td>2.175641</td>\n",
              "    </tr>\n",
              "    <tr>\n",
              "      <th>26</th>\n",
              "      <td>1.71</td>\n",
              "      <td>2.023753</td>\n",
              "    </tr>\n",
              "    <tr>\n",
              "      <th>27</th>\n",
              "      <td>5.00</td>\n",
              "      <td>3.629278</td>\n",
              "    </tr>\n",
              "    <tr>\n",
              "      <th>28</th>\n",
              "      <td>2.00</td>\n",
              "      <td>2.689067</td>\n",
              "    </tr>\n",
              "    <tr>\n",
              "      <th>29</th>\n",
              "      <td>5.00</td>\n",
              "      <td>6.077677</td>\n",
              "    </tr>\n",
              "    <tr>\n",
              "      <th>30</th>\n",
              "      <td>4.00</td>\n",
              "      <td>4.997344</td>\n",
              "    </tr>\n",
              "    <tr>\n",
              "      <th>31</th>\n",
              "      <td>1.44</td>\n",
              "      <td>1.753135</td>\n",
              "    </tr>\n",
              "    <tr>\n",
              "      <th>32</th>\n",
              "      <td>2.34</td>\n",
              "      <td>2.830259</td>\n",
              "    </tr>\n",
              "    <tr>\n",
              "      <th>33</th>\n",
              "      <td>3.21</td>\n",
              "      <td>3.095529</td>\n",
              "    </tr>\n",
              "    <tr>\n",
              "      <th>34</th>\n",
              "      <td>3.50</td>\n",
              "      <td>2.740410</td>\n",
              "    </tr>\n",
              "    <tr>\n",
              "      <th>35</th>\n",
              "      <td>2.92</td>\n",
              "      <td>3.500922</td>\n",
              "    </tr>\n",
              "    <tr>\n",
              "      <th>36</th>\n",
              "      <td>1.50</td>\n",
              "      <td>2.212009</td>\n",
              "    </tr>\n",
              "    <tr>\n",
              "      <th>37</th>\n",
              "      <td>5.00</td>\n",
              "      <td>5.536441</td>\n",
              "    </tr>\n",
              "    <tr>\n",
              "      <th>38</th>\n",
              "      <td>2.75</td>\n",
              "      <td>2.332878</td>\n",
              "    </tr>\n",
              "    <tr>\n",
              "      <th>39</th>\n",
              "      <td>2.00</td>\n",
              "      <td>3.350103</td>\n",
              "    </tr>\n",
              "    <tr>\n",
              "      <th>40</th>\n",
              "      <td>1.25</td>\n",
              "      <td>2.049424</td>\n",
              "    </tr>\n",
              "    <tr>\n",
              "      <th>41</th>\n",
              "      <td>2.00</td>\n",
              "      <td>2.478349</td>\n",
              "    </tr>\n",
              "    <tr>\n",
              "      <th>42</th>\n",
              "      <td>2.55</td>\n",
              "      <td>3.487016</td>\n",
              "    </tr>\n",
              "    <tr>\n",
              "      <th>43</th>\n",
              "      <td>1.67</td>\n",
              "      <td>2.030171</td>\n",
              "    </tr>\n",
              "    <tr>\n",
              "      <th>44</th>\n",
              "      <td>2.00</td>\n",
              "      <td>2.031240</td>\n",
              "    </tr>\n",
              "    <tr>\n",
              "      <th>45</th>\n",
              "      <td>1.00</td>\n",
              "      <td>1.253614</td>\n",
              "    </tr>\n",
              "    <tr>\n",
              "      <th>46</th>\n",
              "      <td>1.61</td>\n",
              "      <td>2.057981</td>\n",
              "    </tr>\n",
              "    <tr>\n",
              "      <th>47</th>\n",
              "      <td>2.31</td>\n",
              "      <td>2.924387</td>\n",
              "    </tr>\n",
              "    <tr>\n",
              "      <th>48</th>\n",
              "      <td>1.44</td>\n",
              "      <td>1.733881</td>\n",
              "    </tr>\n",
              "  </tbody>\n",
              "</table>\n",
              "</div>"
            ],
            "text/plain": [
              "    Actual  Predicted\n",
              "0     3.18   3.045256\n",
              "1     2.00   1.863307\n",
              "2     2.00   3.551195\n",
              "3     5.16   3.694526\n",
              "4     2.00   2.315764\n",
              "5     2.00   2.838816\n",
              "6     2.56   3.967283\n",
              "7     2.52   2.260143\n",
              "8     3.23   2.506159\n",
              "9     3.00   2.570337\n",
              "10    3.00   2.881602\n",
              "11    1.47   2.077235\n",
              "12    1.50   2.064399\n",
              "13    2.00   2.474070\n",
              "14    1.83   2.002360\n",
              "15    1.36   2.919039\n",
              "16    4.00   2.926527\n",
              "17    3.92   3.233512\n",
              "18    2.47   2.684789\n",
              "19    5.00   5.331071\n",
              "20    2.45   3.138315\n",
              "21    3.35   3.134036\n",
              "22    4.00   2.455886\n",
              "23    1.45   1.946739\n",
              "24    3.50   3.160777\n",
              "25    2.31   2.175641\n",
              "26    1.71   2.023753\n",
              "27    5.00   3.629278\n",
              "28    2.00   2.689067\n",
              "29    5.00   6.077677\n",
              "30    4.00   4.997344\n",
              "31    1.44   1.753135\n",
              "32    2.34   2.830259\n",
              "33    3.21   3.095529\n",
              "34    3.50   2.740410\n",
              "35    2.92   3.500922\n",
              "36    1.50   2.212009\n",
              "37    5.00   5.536441\n",
              "38    2.75   2.332878\n",
              "39    2.00   3.350103\n",
              "40    1.25   2.049424\n",
              "41    2.00   2.478349\n",
              "42    2.55   3.487016\n",
              "43    1.67   2.030171\n",
              "44    2.00   2.031240\n",
              "45    1.00   1.253614\n",
              "46    1.61   2.057981\n",
              "47    2.31   2.924387\n",
              "48    1.44   1.733881"
            ]
          },
          "metadata": {},
          "output_type": "display_data"
        }
      ],
      "source": [
        "# Print y_prediction vs y_test side-by-side to visibly compare.\n",
        "\n",
        "# Create a DataFrame to compare actual vs predicted values\n",
        "comparison_df = pd.DataFrame({'Actual': y_test.values, 'Predicted': y_pred})\n",
        "\n",
        "# Display the comparison table\n",
        "# print(comparison_df) \n",
        "display(comparison_df)"
      ]
    },
    {
      "cell_type": "code",
      "execution_count": 25,
      "id": "IH1Po2KZL3jY",
      "metadata": {
        "id": "IH1Po2KZL3jY"
      },
      "outputs": [],
      "source": [
        "# Define a new function that calculates the mean absolute error from y_test to y_predictions using the function name: mean_abs_err()\n",
        "\n",
        "def mean_abs_err(y_test, y_pred):\n",
        "    \"\"\"\n",
        "    Calculate the Mean Absolute Error (MAE) between actual and predicted values.\n",
        "\n",
        "    Parameters:\n",
        "    y_test (array-like): Actual target values.\n",
        "    y_pred (array-like): Predicted values.\n",
        "\n",
        "    Returns:\n",
        "    float: Mean Absolute Error (MAE)\n",
        "    \"\"\"\n",
        "    return mean_absolute_error(y_test, y_pred)\n",
        "\n",
        "# def mean_abs_err(y_test, y_pred):\n",
        "#     \"\"\"\n",
        "#     Calculates and returns the Mean Absolute Error (MAE) between actual and predicted values.\n",
        "    \n",
        "#     Parameters:\n",
        "#     y_test : array-like\n",
        "#         Actual values from the dataset.\n",
        "#     y_pred : array-like\n",
        "#         Predicted values from the model.\n",
        "    \n",
        "#     Returns:\n",
        "#     float\n",
        "#         Mean Absolute Error (MAE)\n",
        "#     \"\"\"\n",
        "#     return mean_absolute_error(y_test, y_pred)"
      ]
    },
    {
      "cell_type": "code",
      "execution_count": 26,
      "id": "RurOASSPMLGE",
      "metadata": {
        "id": "RurOASSPMLGE"
      },
      "outputs": [
        {
          "name": "stdout",
          "output_type": "stream",
          "text": [
            "Mean Absolute Error (MAE): 0.6208580000398983\n",
            "Mean Squared Error (MSE): 0.5688142529229538\n"
          ]
        }
      ],
      "source": [
        "# Call the above function, as follows, with the y_test and y_predictions, and compare to the embedded mean_squared_error function outcome we used above. We expect them to be the same!\n",
        "# mean_abs_err(y_test, y_pred)\n",
        "\n",
        "# Calculate Mean Absolute Error (MAE)\n",
        "mae = mean_abs_err(y_test, y_pred)\n",
        "print(\"Mean Absolute Error (MAE):\", mae)\n",
        "\n",
        "# Calculate Mean Squared Error (MSE)\n",
        "mse = mean_squared_error(y_test, y_pred)\n",
        "print(\"Mean Squared Error (MSE):\", mse)\n",
        "\n",
        "# # Compute MAE using the function\n",
        "# mae_custom = mean_abs_err(y_test, y_pred)\n",
        "\n",
        "# # Compute MAE using the embedded sklearn function\n",
        "# mae_builtin = mean_absolute_error(y_test, y_pred)\n",
        "\n",
        "# # Compare both values\n",
        "# mae_custom, mae_builtin"
      ]
    },
    {
      "cell_type": "markdown",
      "id": "1wO62YKYLzYl",
      "metadata": {
        "id": "1wO62YKYLzYl"
      },
      "source": [
        "## Challenging task (optional)\n",
        "*   **Predict housing prices**\n",
        "\n",
        "\n"
      ]
    },
    {
      "cell_type": "code",
      "execution_count": null,
      "id": "4BwYlfP8L50r",
      "metadata": {
        "colab": {
          "base_uri": "https://localhost:8080/"
        },
        "id": "4BwYlfP8L50r",
        "outputId": "2325db29-6319-4ff4-b15d-e5038517d2cc"
      },
      "outputs": [
        {
          "name": "stdout",
          "output_type": "stream",
          "text": [
            "Mounted at /content/drive\n"
          ]
        }
      ],
      "source": [
        "from google.colab import drive\n",
        "drive.mount('/content/drive')"
      ]
    },
    {
      "cell_type": "code",
      "execution_count": 28,
      "id": "663a9f93",
      "metadata": {
        "vscode": {
          "languageId": "powershell"
        }
      },
      "outputs": [
        {
          "name": "stdout",
          "output_type": "stream",
          "text": [
            "Collecting statsmodels\n",
            "  Downloading statsmodels-0.14.4-cp310-cp310-win_amd64.whl.metadata (9.5 kB)\n",
            "Requirement already satisfied: numpy<3,>=1.22.3 in c:\\users\\user\\appdata\\local\\packages\\pythonsoftwarefoundation.python.3.10_qbz5n2kfra8p0\\localcache\\local-packages\\python310\\site-packages (from statsmodels) (1.26.4)\n",
            "Requirement already satisfied: scipy!=1.9.2,>=1.8 in c:\\users\\user\\appdata\\local\\packages\\pythonsoftwarefoundation.python.3.10_qbz5n2kfra8p0\\localcache\\local-packages\\python310\\site-packages (from statsmodels) (1.14.1)\n",
            "Requirement already satisfied: pandas!=2.1.0,>=1.4 in c:\\users\\user\\appdata\\local\\packages\\pythonsoftwarefoundation.python.3.10_qbz5n2kfra8p0\\localcache\\local-packages\\python310\\site-packages (from statsmodels) (2.2.3)\n",
            "Collecting patsy>=0.5.6 (from statsmodels)\n",
            "  Downloading patsy-1.0.1-py2.py3-none-any.whl.metadata (3.3 kB)\n",
            "Requirement already satisfied: packaging>=21.3 in c:\\users\\user\\appdata\\local\\packages\\pythonsoftwarefoundation.python.3.10_qbz5n2kfra8p0\\localcache\\local-packages\\python310\\site-packages (from statsmodels) (24.2)\n",
            "Requirement already satisfied: python-dateutil>=2.8.2 in c:\\users\\user\\appdata\\local\\packages\\pythonsoftwarefoundation.python.3.10_qbz5n2kfra8p0\\localcache\\local-packages\\python310\\site-packages (from pandas!=2.1.0,>=1.4->statsmodels) (2.9.0.post0)\n",
            "Requirement already satisfied: pytz>=2020.1 in c:\\users\\user\\appdata\\local\\packages\\pythonsoftwarefoundation.python.3.10_qbz5n2kfra8p0\\localcache\\local-packages\\python310\\site-packages (from pandas!=2.1.0,>=1.4->statsmodels) (2025.1)\n",
            "Requirement already satisfied: tzdata>=2022.7 in c:\\users\\user\\appdata\\local\\packages\\pythonsoftwarefoundation.python.3.10_qbz5n2kfra8p0\\localcache\\local-packages\\python310\\site-packages (from pandas!=2.1.0,>=1.4->statsmodels) (2024.2)\n",
            "Requirement already satisfied: six>=1.5 in c:\\users\\user\\appdata\\local\\packages\\pythonsoftwarefoundation.python.3.10_qbz5n2kfra8p0\\localcache\\local-packages\\python310\\site-packages (from python-dateutil>=2.8.2->pandas!=2.1.0,>=1.4->statsmodels) (1.16.0)\n",
            "Downloading statsmodels-0.14.4-cp310-cp310-win_amd64.whl (9.8 MB)\n",
            "   ---------------------------------------- 0.0/9.8 MB ? eta -:--:--\n",
            "   ---------------------------------------- 0.0/9.8 MB ? eta -:--:--\n",
            "   - -------------------------------------- 0.3/9.8 MB ? eta -:--:--\n",
            "   -- ------------------------------------- 0.5/9.8 MB 1.2 MB/s eta 0:00:08\n",
            "   -- ------------------------------------- 0.5/9.8 MB 1.2 MB/s eta 0:00:08\n",
            "   --- ------------------------------------ 0.8/9.8 MB 763.2 kB/s eta 0:00:12\n",
            "   --- ------------------------------------ 0.8/9.8 MB 763.2 kB/s eta 0:00:12\n",
            "   --- ------------------------------------ 0.8/9.8 MB 763.2 kB/s eta 0:00:12\n",
            "   --- ------------------------------------ 0.8/9.8 MB 763.2 kB/s eta 0:00:12\n",
            "   --- ------------------------------------ 0.8/9.8 MB 763.2 kB/s eta 0:00:12\n",
            "   --- ------------------------------------ 0.8/9.8 MB 763.2 kB/s eta 0:00:12\n",
            "   ---- ----------------------------------- 1.0/9.8 MB 378.5 kB/s eta 0:00:24\n",
            "   ----- ---------------------------------- 1.3/9.8 MB 450.4 kB/s eta 0:00:19\n",
            "   ------- -------------------------------- 1.8/9.8 MB 625.4 kB/s eta 0:00:13\n",
            "   -------- ------------------------------- 2.1/9.8 MB 695.1 kB/s eta 0:00:12\n",
            "   -------- ------------------------------- 2.1/9.8 MB 695.1 kB/s eta 0:00:12\n",
            "   -------- ------------------------------- 2.1/9.8 MB 695.1 kB/s eta 0:00:12\n",
            "   ---------- ----------------------------- 2.6/9.8 MB 712.3 kB/s eta 0:00:11\n",
            "   ----------- ---------------------------- 2.9/9.8 MB 723.2 kB/s eta 0:00:10\n",
            "   ------------- -------------------------- 3.4/9.8 MB 818.3 kB/s eta 0:00:08\n",
            "   ----------------- ---------------------- 4.2/9.8 MB 964.2 kB/s eta 0:00:06\n",
            "   ----------------- ---------------------- 4.2/9.8 MB 964.2 kB/s eta 0:00:06\n",
            "   ------------------- -------------------- 4.7/9.8 MB 1.0 MB/s eta 0:00:06\n",
            "   ------------------- -------------------- 4.7/9.8 MB 1.0 MB/s eta 0:00:06\n",
            "   ------------------- -------------------- 4.7/9.8 MB 1.0 MB/s eta 0:00:06\n",
            "   ------------------- -------------------- 4.7/9.8 MB 1.0 MB/s eta 0:00:06\n",
            "   ------------------- -------------------- 4.7/9.8 MB 1.0 MB/s eta 0:00:06\n",
            "   ------------------- -------------------- 4.7/9.8 MB 1.0 MB/s eta 0:00:06\n",
            "   ------------------- -------------------- 4.7/9.8 MB 1.0 MB/s eta 0:00:06\n",
            "   -------------------- ------------------- 5.0/9.8 MB 801.1 kB/s eta 0:00:07\n",
            "   -------------------- ------------------- 5.0/9.8 MB 801.1 kB/s eta 0:00:07\n",
            "   -------------------- ------------------- 5.0/9.8 MB 801.1 kB/s eta 0:00:07\n",
            "   -------------------- ------------------- 5.0/9.8 MB 801.1 kB/s eta 0:00:07\n",
            "   --------------------- ------------------ 5.2/9.8 MB 727.8 kB/s eta 0:00:07\n",
            "   --------------------- ------------------ 5.2/9.8 MB 727.8 kB/s eta 0:00:07\n",
            "   ---------------------- ----------------- 5.5/9.8 MB 715.5 kB/s eta 0:00:07\n",
            "   ---------------------- ----------------- 5.5/9.8 MB 715.5 kB/s eta 0:00:07\n",
            "   ----------------------- ---------------- 5.8/9.8 MB 710.3 kB/s eta 0:00:06\n",
            "   ------------------------ --------------- 6.0/9.8 MB 719.5 kB/s eta 0:00:06\n",
            "   ------------------------- -------------- 6.3/9.8 MB 739.2 kB/s eta 0:00:05\n",
            "   -------------------------- ------------- 6.6/9.8 MB 761.2 kB/s eta 0:00:05\n",
            "   -------------------------- ------------- 6.6/9.8 MB 761.2 kB/s eta 0:00:05\n",
            "   --------------------------- ------------ 6.8/9.8 MB 755.7 kB/s eta 0:00:05\n",
            "   ---------------------------- ----------- 7.1/9.8 MB 752.1 kB/s eta 0:00:04\n",
            "   ---------------------------- ----------- 7.1/9.8 MB 752.1 kB/s eta 0:00:04\n",
            "   ------------------------------ --------- 7.6/9.8 MB 771.4 kB/s eta 0:00:03\n",
            "   ------------------------------- -------- 7.9/9.8 MB 783.5 kB/s eta 0:00:03\n",
            "   ------------------------------- -------- 7.9/9.8 MB 783.5 kB/s eta 0:00:03\n",
            "   ------------------------------- -------- 7.9/9.8 MB 783.5 kB/s eta 0:00:03\n",
            "   --------------------------------- ------ 8.1/9.8 MB 756.9 kB/s eta 0:00:03\n",
            "   --------------------------------- ------ 8.1/9.8 MB 756.9 kB/s eta 0:00:03\n",
            "   ---------------------------------- ----- 8.4/9.8 MB 763.8 kB/s eta 0:00:02\n",
            "   ----------------------------------- ---- 8.7/9.8 MB 768.0 kB/s eta 0:00:02\n",
            "   ----------------------------------- ---- 8.7/9.8 MB 768.0 kB/s eta 0:00:02\n",
            "   ------------------------------------- -- 9.2/9.8 MB 784.7 kB/s eta 0:00:01\n",
            "   ------------------------------------- -- 9.2/9.8 MB 784.7 kB/s eta 0:00:01\n",
            "   ------------------------------------- -- 9.2/9.8 MB 784.7 kB/s eta 0:00:01\n",
            "   ---------------------------------------- 9.8/9.8 MB 794.5 kB/s eta 0:00:00\n",
            "Downloading patsy-1.0.1-py2.py3-none-any.whl (232 kB)\n",
            "Installing collected packages: patsy, statsmodels\n",
            "Successfully installed patsy-1.0.1 statsmodels-0.14.4\n",
            "Note: you may need to restart the kernel to use updated packages.\n"
          ]
        },
        {
          "name": "stderr",
          "output_type": "stream",
          "text": [
            "WARNING: Ignoring invalid distribution -ivymd (c:\\users\\user\\appdata\\local\\packages\\pythonsoftwarefoundation.python.3.10_qbz5n2kfra8p0\\localcache\\local-packages\\python310\\site-packages)\n",
            "WARNING: Ignoring invalid distribution -ivymd (c:\\users\\user\\appdata\\local\\packages\\pythonsoftwarefoundation.python.3.10_qbz5n2kfra8p0\\localcache\\local-packages\\python310\\site-packages)\n",
            "WARNING: Ignoring invalid distribution -ivymd (c:\\users\\user\\appdata\\local\\packages\\pythonsoftwarefoundation.python.3.10_qbz5n2kfra8p0\\localcache\\local-packages\\python310\\site-packages)\n",
            "WARNING: Ignoring invalid distribution -ivymd (c:\\users\\user\\appdata\\local\\packages\\pythonsoftwarefoundation.python.3.10_qbz5n2kfra8p0\\localcache\\local-packages\\python310\\site-packages)\n",
            "\n",
            "[notice] A new release of pip is available: 25.0 -> 25.0.1\n",
            "[notice] To update, run: C:\\Users\\User\\AppData\\Local\\Microsoft\\WindowsApps\\PythonSoftwareFoundation.Python.3.10_qbz5n2kfra8p0\\python.exe -m pip install --upgrade pip\n"
          ]
        }
      ],
      "source": [
        "pip install statsmodels"
      ]
    },
    {
      "cell_type": "code",
      "execution_count": 40,
      "id": "mIiv9q0IQjOB",
      "metadata": {
        "id": "mIiv9q0IQjOB"
      },
      "outputs": [
        {
          "name": "stdout",
          "output_type": "stream",
          "text": [
            "Non-numeric columns:\n",
            "Index(['Address'], dtype='object')\n",
            "\n",
            "Missing values before filling:\n",
            "Avg. Area Income                0\n",
            "Avg. Area House Age             0\n",
            "Avg. Area Number of Rooms       0\n",
            "Avg. Area Number of Bedrooms    0\n",
            "Area Population                 0\n",
            "Price                           0\n",
            "Address                         0\n",
            "dtype: int64\n",
            "\n",
            "Missing values after filling:\n",
            "Avg. Area Income                0\n",
            "Avg. Area House Age             0\n",
            "Avg. Area Number of Rooms       0\n",
            "Avg. Area Number of Bedrooms    0\n",
            "Area Population                 0\n",
            "Price                           0\n",
            "dtype: int64\n"
          ]
        }
      ],
      "source": [
        "# Import necessary libraries\n",
        "\n",
        "# Load dataset: housing.csv\n",
        "\n",
        "data = pd.read_csv('datasets/housing.csv')\n",
        "\n",
        "# Step 1: Data Preprocessing\n",
        "\n",
        "non_numeric_cols = data.select_dtypes(exclude=[np.number]).columns\n",
        "print(\"Non-numeric columns:\")\n",
        "print(non_numeric_cols)\n",
        "\n",
        "# Print the number of missing values before handling them\n",
        "print(\"\\nMissing values before filling:\")\n",
        "print(data.isnull().sum())\n",
        "\n",
        "# Drop non-numeric columns\n",
        "data = data.select_dtypes(include=[np.number])\n",
        "\n",
        "# Handle missing values by filling with median if any\n",
        "data.fillna(data.median(), inplace=True)\n",
        "\n",
        "# Print the number of missing values after handling them\n",
        "print(\"\\nMissing values after filling:\")\n",
        "print(data.isnull().sum())\n"
      ]
    },
    {
      "cell_type": "code",
      "execution_count": 41,
      "id": "JRA1JLfCkfAk",
      "metadata": {
        "id": "JRA1JLfCkfAk"
      },
      "outputs": [
        {
          "data": {
            "image/png": "[encoded data removed]",
            "text/plain": [
              "<Figure size 1200x800 with 2 Axes>"
            ]
          },
          "metadata": {},
          "output_type": "display_data"
        }
      ],
      "source": [
        "# Step 2: Exploratory Data Analysis (EDA)\n",
        "# Compute and visualize the correlation matrix\n",
        "\n",
        "\n",
        "# Compute correlation matrix\n",
        "correlation_matrix = data.corr()\n",
        "\n",
        "# Plot heatmap of the correlation matrix\n",
        "plt.figure(figsize=(12, 8))\n",
        "sns.heatmap(correlation_matrix, annot=True, fmt=\".2f\", cmap=\"coolwarm\", linewidths=0.5)\n",
        "plt.title(\"Correlation Matrix Heatmap\")\n",
        "plt.show()"
      ]
    },
    {
      "cell_type": "code",
      "execution_count": 58,
      "id": "67q0p4uXkhAl",
      "metadata": {
        "id": "67q0p4uXkhAl"
      },
      "outputs": [
        {
          "name": "stdout",
          "output_type": "stream",
          "text": [
            "Variance Inflation Factor (VIF) Analysis:\n"
          ]
        },
        {
          "data": {
            "text/html": [
              "<div>\n",
              "<style scoped>\n",
              "    .dataframe tbody tr th:only-of-type {\n",
              "        vertical-align: middle;\n",
              "    }\n",
              "\n",
              "    .dataframe tbody tr th {\n",
              "        vertical-align: top;\n",
              "    }\n",
              "\n",
              "    .dataframe thead th {\n",
              "        text-align: right;\n",
              "    }\n",
              "</style>\n",
              "<table border=\"1\" class=\"dataframe\">\n",
              "  <thead>\n",
              "    <tr style=\"text-align: right;\">\n",
              "      <th></th>\n",
              "      <th>Feature</th>\n",
              "      <th>VIF</th>\n",
              "    </tr>\n",
              "  </thead>\n",
              "  <tbody>\n",
              "    <tr>\n",
              "      <th>0</th>\n",
              "      <td>Avg. Area Income</td>\n",
              "      <td>38.270629</td>\n",
              "    </tr>\n",
              "    <tr>\n",
              "      <th>1</th>\n",
              "      <td>Avg. Area House Age</td>\n",
              "      <td>29.097029</td>\n",
              "    </tr>\n",
              "    <tr>\n",
              "      <th>2</th>\n",
              "      <td>Avg. Area Number of Rooms</td>\n",
              "      <td>45.335953</td>\n",
              "    </tr>\n",
              "    <tr>\n",
              "      <th>3</th>\n",
              "      <td>Avg. Area Number of Bedrooms</td>\n",
              "      <td>14.542817</td>\n",
              "    </tr>\n",
              "    <tr>\n",
              "      <th>4</th>\n",
              "      <td>Area Population</td>\n",
              "      <td>14.397643</td>\n",
              "    </tr>\n",
              "    <tr>\n",
              "      <th>5</th>\n",
              "      <td>Price</td>\n",
              "      <td>28.046950</td>\n",
              "    </tr>\n",
              "  </tbody>\n",
              "</table>\n",
              "</div>"
            ],
            "text/plain": [
              "                        Feature        VIF\n",
              "0              Avg. Area Income  38.270629\n",
              "1           Avg. Area House Age  29.097029\n",
              "2     Avg. Area Number of Rooms  45.335953\n",
              "3  Avg. Area Number of Bedrooms  14.542817\n",
              "4               Area Population  14.397643\n",
              "5                         Price  28.046950"
            ]
          },
          "metadata": {},
          "output_type": "display_data"
        },
        {
          "name": "stdout",
          "output_type": "stream",
          "text": [
            "\n",
            "Filtered Dataset (Low Multicollinearity):\n"
          ]
        },
        {
          "data": {
            "text/html": [
              "<div>\n",
              "<style scoped>\n",
              "    .dataframe tbody tr th:only-of-type {\n",
              "        vertical-align: middle;\n",
              "    }\n",
              "\n",
              "    .dataframe tbody tr th {\n",
              "        vertical-align: top;\n",
              "    }\n",
              "\n",
              "    .dataframe thead th {\n",
              "        text-align: right;\n",
              "    }\n",
              "</style>\n",
              "<table border=\"1\" class=\"dataframe\">\n",
              "  <thead>\n",
              "    <tr style=\"text-align: right;\">\n",
              "      <th></th>\n",
              "      <th>Avg. Area House Age</th>\n",
              "      <th>Avg. Area Number of Bedrooms</th>\n",
              "      <th>Area Population</th>\n",
              "      <th>Price</th>\n",
              "    </tr>\n",
              "  </thead>\n",
              "  <tbody>\n",
              "    <tr>\n",
              "      <th>0</th>\n",
              "      <td>5.682861</td>\n",
              "      <td>4.09</td>\n",
              "      <td>23086.80050</td>\n",
              "      <td>1.059034e+06</td>\n",
              "    </tr>\n",
              "    <tr>\n",
              "      <th>1</th>\n",
              "      <td>6.002900</td>\n",
              "      <td>3.09</td>\n",
              "      <td>40173.07217</td>\n",
              "      <td>1.505891e+06</td>\n",
              "    </tr>\n",
              "    <tr>\n",
              "      <th>2</th>\n",
              "      <td>5.865890</td>\n",
              "      <td>5.13</td>\n",
              "      <td>36882.15940</td>\n",
              "      <td>1.058988e+06</td>\n",
              "    </tr>\n",
              "    <tr>\n",
              "      <th>3</th>\n",
              "      <td>7.188236</td>\n",
              "      <td>3.26</td>\n",
              "      <td>34310.24283</td>\n",
              "      <td>1.260617e+06</td>\n",
              "    </tr>\n",
              "    <tr>\n",
              "      <th>4</th>\n",
              "      <td>5.040555</td>\n",
              "      <td>4.23</td>\n",
              "      <td>26354.10947</td>\n",
              "      <td>6.309435e+05</td>\n",
              "    </tr>\n",
              "    <tr>\n",
              "      <th>...</th>\n",
              "      <td>...</td>\n",
              "      <td>...</td>\n",
              "      <td>...</td>\n",
              "      <td>...</td>\n",
              "    </tr>\n",
              "    <tr>\n",
              "      <th>4995</th>\n",
              "      <td>7.830362</td>\n",
              "      <td>3.46</td>\n",
              "      <td>22837.36103</td>\n",
              "      <td>1.060194e+06</td>\n",
              "    </tr>\n",
              "    <tr>\n",
              "      <th>4996</th>\n",
              "      <td>6.999135</td>\n",
              "      <td>4.02</td>\n",
              "      <td>25616.11549</td>\n",
              "      <td>1.482618e+06</td>\n",
              "    </tr>\n",
              "    <tr>\n",
              "      <th>4997</th>\n",
              "      <td>7.250591</td>\n",
              "      <td>2.13</td>\n",
              "      <td>33266.14549</td>\n",
              "      <td>1.030730e+06</td>\n",
              "    </tr>\n",
              "    <tr>\n",
              "      <th>4998</th>\n",
              "      <td>5.534388</td>\n",
              "      <td>5.44</td>\n",
              "      <td>42625.62016</td>\n",
              "      <td>1.198657e+06</td>\n",
              "    </tr>\n",
              "    <tr>\n",
              "      <th>4999</th>\n",
              "      <td>5.992305</td>\n",
              "      <td>4.07</td>\n",
              "      <td>46501.28380</td>\n",
              "      <td>1.298950e+06</td>\n",
              "    </tr>\n",
              "  </tbody>\n",
              "</table>\n",
              "<p>5000 rows × 4 columns</p>\n",
              "</div>"
            ],
            "text/plain": [
              "      Avg. Area House Age  Avg. Area Number of Bedrooms  Area Population  \\\n",
              "0                5.682861                          4.09      23086.80050   \n",
              "1                6.002900                          3.09      40173.07217   \n",
              "2                5.865890                          5.13      36882.15940   \n",
              "3                7.188236                          3.26      34310.24283   \n",
              "4                5.040555                          4.23      26354.10947   \n",
              "...                   ...                           ...              ...   \n",
              "4995             7.830362                          3.46      22837.36103   \n",
              "4996             6.999135                          4.02      25616.11549   \n",
              "4997             7.250591                          2.13      33266.14549   \n",
              "4998             5.534388                          5.44      42625.62016   \n",
              "4999             5.992305                          4.07      46501.28380   \n",
              "\n",
              "             Price  \n",
              "0     1.059034e+06  \n",
              "1     1.505891e+06  \n",
              "2     1.058988e+06  \n",
              "3     1.260617e+06  \n",
              "4     6.309435e+05  \n",
              "...            ...  \n",
              "4995  1.060194e+06  \n",
              "4996  1.482618e+06  \n",
              "4997  1.030730e+06  \n",
              "4998  1.198657e+06  \n",
              "4999  1.298950e+06  \n",
              "\n",
              "[5000 rows x 4 columns]"
            ]
          },
          "metadata": {},
          "output_type": "display_data"
        }
      ],
      "source": [
        "# Step 3: Feature Selection Using Variance Inflation Factor (VIF) (Multicollinearity Handling)\n",
        "# Search for VIF and understand the context before using it\n",
        "# Write a function to calculate VIF for each feature using variance_inflation_factor function\n",
        "\n",
        "\n",
        "# Function to calculate VIF for each feature\n",
        "def calculate_vif(df):\n",
        "    \"\"\"\n",
        "    Computes the Variance Inflation Factor (VIF) for each numerical feature in the dataset.\n",
        "\n",
        "    Parameters:\n",
        "    df : DataFrame\n",
        "        A Pandas DataFrame containing only numerical features.\n",
        "\n",
        "    Returns:\n",
        "    DataFrame\n",
        "        A DataFrame with two columns: 'Feature' and 'VIF' values.\n",
        "    \"\"\"\n",
        "    vif_data = pd.DataFrame()\n",
        "    vif_data[\"Feature\"] = df.columns\n",
        "    vif_data[\"VIF\"] = [variance_inflation_factor(df.values, i) for i in range(df.shape[1])]\n",
        "    return vif_data\n",
        "\n",
        "\n",
        "# Call the aforementioned function to Compute VIF and see highly collinear features in the dataset\n",
        "\n",
        "# Compute VIF for each feature\n",
        "vif_df = calculate_vif(data)\n",
        "\n",
        "# Display VIF values\n",
        "print(\"Variance Inflation Factor (VIF) Analysis:\")\n",
        "display(vif_df)\n",
        "\n",
        "# Remove features with high multicollinearity, i.e., VIF > 30\n",
        "\n",
        "# Remove features with VIF > 30 to handle multicollinearity\n",
        "threshold = 30  # VIF threshold for high multicollinearity\n",
        "filtered_features = vif_df[vif_df[\"VIF\"] <= threshold][\"Feature\"].tolist()\n",
        "\n",
        "# Filter dataset to keep only low-VIF features\n",
        "data_filtered = data[filtered_features]\n",
        "\n",
        "# Display the new dataset after removing high VIF features\n",
        "print(\"\\nFiltered Dataset (Low Multicollinearity):\")\n",
        "display(data_filtered)\n"
      ]
    },
    {
      "cell_type": "code",
      "execution_count": 59,
      "id": "5HjDS-m_NQBC",
      "metadata": {
        "id": "5HjDS-m_NQBC"
      },
      "outputs": [
        {
          "data": {
            "text/plain": [
              "{'X_train Shape': (4000, 3),\n",
              " 'X_test Shape': (1000, 3),\n",
              " 'y_train Shape': (4000,),\n",
              " 'y_test Shape': (1000,)}"
            ]
          },
          "execution_count": 59,
          "metadata": {},
          "output_type": "execute_result"
        }
      ],
      "source": [
        "# Step 4: Splitting Data for Model Training, 'Price' is your target variable\n",
        "\n",
        "# Define features (X) and target variable (y)\n",
        "X = data_filtered.drop(columns=['Price'])  # Independent variables\n",
        "y = data_filtered['Price']  # Target variable\n",
        "\n",
        "X_train, X_test, y_train, y_test = train_test_split(X, y, test_size=0.2, random_state=42)\n",
        "\n",
        "# Display the shapes of the training and testing sets\n",
        "train_test_shapes = {\n",
        "    \"X_train Shape\": X_train.shape,\n",
        "    \"X_test Shape\": X_test.shape,\n",
        "    \"y_train Shape\": y_train.shape,\n",
        "    \"y_test Shape\": y_test.shape\n",
        "}\n",
        "\n",
        "train_test_shapes\n"
      ]
    },
    {
      "cell_type": "code",
      "execution_count": 62,
      "id": "AFmXHYSzkpvF",
      "metadata": {
        "id": "AFmXHYSzkpvF"
      },
      "outputs": [
        {
          "name": "stdout",
          "output_type": "stream",
          "text": [
            "\n",
            "Linear Regression Model Evaluation:\n",
            "Root Mean Squared Error (RMSE): 265750.989\n",
            "R² Score: 0.426\n"
          ]
        }
      ],
      "source": [
        "# Step 5: Training and Evaluating a Linear Regression Model\n",
        "# Select and Train Linear Regression Model\n",
        "\n",
        "model = LinearRegression()\n",
        "model.fit(X_train, y_train)\n",
        "\n",
        "# Predict using the model and X_test\n",
        "\n",
        "y_pred = model.predict(X_test)\n",
        "\n",
        "## Model Evaluation using RMSE and R^2 and print the outputs using the following prints\n",
        "# write HERE for the evaluation of RME and R^2\n",
        "\n",
        "rmse = np.sqrt(mean_squared_error(y_test, y_pred))  # Root Mean Squared Error\n",
        "r2 = r2_score(y_test, y_pred)  # R² Score\n",
        "\n",
        "# print the output\n",
        "print(\"\\nLinear Regression Model Evaluation:\")\n",
        "print(f\"Root Mean Squared Error (RMSE): {rmse:.3f}\")\n",
        "print(f\"R² Score: {r2:.3f}\")\n",
        "\n"
      ]
    },
    {
      "cell_type": "code",
      "execution_count": 71,
      "id": "0Dpco7HckskY",
      "metadata": {
        "id": "0Dpco7HckskY"
      },
      "outputs": [
        {
          "name": "stdout",
          "output_type": "stream",
          "text": [
            "\n",
            "Regularization Results:\n",
            "Ridge Regression - RMSE: 265750.998, R²: 0.426\n",
            "Lasso Regression - RMSE: 265750.989, R²: 0.426\n"
          ]
        }
      ],
      "source": [
        "# Step 6: Search for Regularisation with Ridge and Lasso Regression and use them in this task to improve results and observe if it helps\n",
        "# Play with alpha values and observe if there is any changes\n",
        "\n",
        "# Define alpha values for experimentation\n",
        "alpha_value = .01  # You can change this to observe different effects\n",
        "\n",
        "# RIDGE\n",
        "\n",
        "# Ridge Regression\n",
        "ridge_model = Ridge(alpha=alpha_value)\n",
        "ridge_model.fit(X_train, y_train)\n",
        "y_ridge_pred = ridge_model.predict(X_test)\n",
        "\n",
        "# Compute RMSE and R² for Ridge\n",
        "ridge_rmse = np.sqrt(mean_squared_error(y_test, y_ridge_pred))\n",
        "ridge_r2 = r2_score(y_test, y_ridge_pred)\n",
        "\n",
        "# LASSO\n",
        "\n",
        "# Lasso Regression\n",
        "lasso_model = Lasso(alpha=alpha_value)\n",
        "lasso_model.fit(X_train, y_train)\n",
        "y_lasso_pred = lasso_model.predict(X_test)\n",
        "\n",
        "# Compute RMSE and R² for Lasso\n",
        "lasso_rmse = np.sqrt(mean_squared_error(y_test, y_lasso_pred))\n",
        "lasso_r2 = r2_score(y_test, y_lasso_pred)\n",
        "\n",
        "# print the output\n",
        "print(\"\\nRegularization Results:\")\n",
        "print(f\"Ridge Regression - RMSE: {ridge_rmse:.3f}, R²: {ridge_r2:.3f}\")\n",
        "print(f\"Lasso Regression - RMSE: {lasso_rmse:.3f}, R²: {lasso_r2:.3f}\")\n"
      ]
    },
    {
      "cell_type": "markdown",
      "id": "4dd735f5",
      "metadata": {},
      "source": [
        "## Regularization Results:\n",
        "* Ridge Regression - RMSE: 265,751.901, R²: 0.426\n",
        "* Lasso Regression - RMSE: 265,750.988, R²: 0.426\n",
        "\n",
        "## Observations:\n",
        "* The Ridge and Lasso models did not significantly improve performance over the basic Linear Regression model.\n",
        "* Regularization didn't reduce RMSE, indicating that multicollinearity may not be a major issue.\n",
        "* Playing with different alpha values might help fine-tune regularization effects.\n",
        "## Next Steps:\n",
        "1. Testing with different alpha values (e.g., `alpha=0.1`, `alpha=10`) to see how it impacts performance.\n",
        "2. To use a more complex model like Random Forest or XGBoost to check if a non-linear approach improves results.\n",
        "3. Feature Engineering: Introduce interaction terms or transform variables.\n",
        "Would you like me to run an alpha tuning experiment or explore a different model?"
      ]
    },
    {
      "cell_type": "code",
      "execution_count": 72,
      "id": "iEa_BRUkkvHj",
      "metadata": {
        "id": "iEa_BRUkkvHj"
      },
      "outputs": [
        {
          "name": "stdout",
          "output_type": "stream",
          "text": [
            "Feature Importance (Linear Regression)\n"
          ]
        },
        {
          "data": {
            "text/html": [
              "<div>\n",
              "<style scoped>\n",
              "    .dataframe tbody tr th:only-of-type {\n",
              "        vertical-align: middle;\n",
              "    }\n",
              "\n",
              "    .dataframe tbody tr th {\n",
              "        vertical-align: top;\n",
              "    }\n",
              "\n",
              "    .dataframe thead th {\n",
              "        text-align: right;\n",
              "    }\n",
              "</style>\n",
              "<table border=\"1\" class=\"dataframe\">\n",
              "  <thead>\n",
              "    <tr style=\"text-align: right;\">\n",
              "      <th></th>\n",
              "      <th>Feature</th>\n",
              "      <th>Importance</th>\n",
              "    </tr>\n",
              "  </thead>\n",
              "  <tbody>\n",
              "    <tr>\n",
              "      <th>0</th>\n",
              "      <td>Avg. Area House Age</td>\n",
              "      <td>161802.287897</td>\n",
              "    </tr>\n",
              "    <tr>\n",
              "      <th>1</th>\n",
              "      <td>Avg. Area Number of Bedrooms</td>\n",
              "      <td>52607.048392</td>\n",
              "    </tr>\n",
              "    <tr>\n",
              "      <th>2</th>\n",
              "      <td>Area Population</td>\n",
              "      <td>14.805480</td>\n",
              "    </tr>\n",
              "  </tbody>\n",
              "</table>\n",
              "</div>"
            ],
            "text/plain": [
              "                        Feature     Importance\n",
              "0           Avg. Area House Age  161802.287897\n",
              "1  Avg. Area Number of Bedrooms   52607.048392\n",
              "2               Area Population      14.805480"
            ]
          },
          "execution_count": 72,
          "metadata": {},
          "output_type": "execute_result"
        }
      ],
      "source": [
        "# Step 7: Feature Importance\n",
        "# Get feature importance using the Linear Regression coefficients and print\n",
        "\n",
        "# Extract feature importance using Linear Regression coefficients\n",
        "feature_importance = pd.DataFrame({\n",
        "    'Feature': X_train.columns,\n",
        "    'Importance': model.coef_\n",
        "}).sort_values(by='Importance', ascending=False)\n",
        "\n",
        "print(\"Feature Importance (Linear Regression)\")\n",
        "feature_importance"
      ]
    },
    {
      "cell_type": "code",
      "execution_count": 75,
      "id": "nWlzxvGwkxVX",
      "metadata": {
        "id": "nWlzxvGwkxVX"
      },
      "outputs": [
        {
          "name": "stdout",
          "output_type": "stream",
          "text": [
            "Updated VIF Analysis (Threshold = 50)\n"
          ]
        },
        {
          "data": {
            "text/html": [
              "<div>\n",
              "<style scoped>\n",
              "    .dataframe tbody tr th:only-of-type {\n",
              "        vertical-align: middle;\n",
              "    }\n",
              "\n",
              "    .dataframe tbody tr th {\n",
              "        vertical-align: top;\n",
              "    }\n",
              "\n",
              "    .dataframe thead th {\n",
              "        text-align: right;\n",
              "    }\n",
              "</style>\n",
              "<table border=\"1\" class=\"dataframe\">\n",
              "  <thead>\n",
              "    <tr style=\"text-align: right;\">\n",
              "      <th></th>\n",
              "      <th>Feature</th>\n",
              "      <th>VIF</th>\n",
              "    </tr>\n",
              "  </thead>\n",
              "  <tbody>\n",
              "    <tr>\n",
              "      <th>0</th>\n",
              "      <td>Avg. Area Income</td>\n",
              "      <td>38.270629</td>\n",
              "    </tr>\n",
              "    <tr>\n",
              "      <th>1</th>\n",
              "      <td>Avg. Area House Age</td>\n",
              "      <td>29.097029</td>\n",
              "    </tr>\n",
              "    <tr>\n",
              "      <th>2</th>\n",
              "      <td>Avg. Area Number of Rooms</td>\n",
              "      <td>45.335953</td>\n",
              "    </tr>\n",
              "    <tr>\n",
              "      <th>3</th>\n",
              "      <td>Avg. Area Number of Bedrooms</td>\n",
              "      <td>14.542817</td>\n",
              "    </tr>\n",
              "    <tr>\n",
              "      <th>4</th>\n",
              "      <td>Area Population</td>\n",
              "      <td>14.397643</td>\n",
              "    </tr>\n",
              "    <tr>\n",
              "      <th>5</th>\n",
              "      <td>Price</td>\n",
              "      <td>28.046950</td>\n",
              "    </tr>\n",
              "  </tbody>\n",
              "</table>\n",
              "</div>"
            ],
            "text/plain": [
              "                        Feature        VIF\n",
              "0              Avg. Area Income  38.270629\n",
              "1           Avg. Area House Age  29.097029\n",
              "2     Avg. Area Number of Rooms  45.335953\n",
              "3  Avg. Area Number of Bedrooms  14.542817\n",
              "4               Area Population  14.397643\n",
              "5                         Price  28.046950"
            ]
          },
          "metadata": {},
          "output_type": "display_data"
        },
        {
          "name": "stdout",
          "output_type": "stream",
          "text": [
            "\n",
            "Model Evaluation after Changing VIF Threshold to 50:\n",
            "Root Mean Squared Error (RMSE): 100444.061\n",
            "R² Score: 0.918\n"
          ]
        }
      ],
      "source": [
        "# Step 8: Change VIF value from 30 to 50 at the end of Step 3 and observe/comment on your findings.\n",
        "# How did this change affect the selected features and the model performance?\n",
        "\n",
        "# Recompute VIF with a new threshold of 50 instead of 30\n",
        "\n",
        "# Function to calculate VIF for each feature\n",
        "def calculate_vif(df):\n",
        "    \"\"\"\n",
        "    Computes the Variance Inflation Factor (VIF) for each numerical feature in the dataset.\n",
        "\n",
        "    Parameters:\n",
        "    df : DataFrame\n",
        "        A Pandas DataFrame containing only numerical features.\n",
        "\n",
        "    Returns:\n",
        "    DataFrame\n",
        "        A DataFrame with two columns: 'Feature' and 'VIF' values.\n",
        "    \"\"\"\n",
        "    vif_data = pd.DataFrame()\n",
        "    vif_data[\"Feature\"] = df.columns\n",
        "    vif_data[\"VIF\"] = [variance_inflation_factor(df.values, i) for i in range(df.shape[1])]\n",
        "    return vif_data\n",
        "\n",
        "# Compute VIF for each feature\n",
        "vif_df = calculate_vif(data)\n",
        "\n",
        "# Remove features with VIF > 50 to handle multicollinearity\n",
        "threshold = 50  # New VIF threshold\n",
        "filtered_features_vif50 = vif_df[vif_df[\"VIF\"] <= threshold][\"Feature\"].tolist()\n",
        "\n",
        "# Filter dataset to keep only low-VIF features\n",
        "data_filtered_vif50 = data[filtered_features_vif50]\n",
        "\n",
        "# Split data into training and testing sets (80% training, 20% testing)\n",
        "X_vif50 = data_filtered_vif50.drop(columns=['Price'])\n",
        "y_vif50 = data_filtered_vif50['Price']\n",
        "\n",
        "X_train_vif50, X_test_vif50, y_train_vif50, y_test_vif50 = train_test_split(X_vif50, y_vif50, test_size=0.2, random_state=42)\n",
        "\n",
        "# Train the Linear Regression Model on new VIF threshold dataset\n",
        "model_vif50 = LinearRegression()\n",
        "model_vif50.fit(X_train_vif50, y_train_vif50)\n",
        "\n",
        "# Predict using the trained model\n",
        "y_pred_vif50 = model_vif50.predict(X_test_vif50)\n",
        "\n",
        "# Model Evaluation\n",
        "rmse_vif50 = np.sqrt(mean_squared_error(y_test_vif50, y_pred_vif50))  # Root Mean Squared Error\n",
        "r2_vif50 = r2_score(y_test_vif50, y_pred_vif50)  # R² Score\n",
        "\n",
        "# Display new VIF results and updated model performance\n",
        "print(\"Updated VIF Analysis (Threshold = 50)\")\n",
        "display(vif_df)\n",
        "\n",
        "# Print evaluation metrics for comparison\n",
        "print(\"\\nModel Evaluation after Changing VIF Threshold to 50:\")\n",
        "print(f\"Root Mean Squared Error (RMSE): {rmse_vif50:.3f}\")\n",
        "print(f\"R² Score: {r2_vif50:.3f}\")\n"
      ]
    },
    {
      "cell_type": "markdown",
      "id": "0eeb5fb3",
      "metadata": {},
      "source": [
        "## Findings After Changing VIF Threshold from 30 to 50:\n",
        "1. More features were retained in the dataset because we allowed higher multicollinearity.\n",
        "2. Model performance improved significantly:\n",
        "    * `RMSE decreased` from 265,750.989 to 100,444.061, meaning lower prediction error.\n",
        "    * `R² Score increased` from 0.426 to 0.918, indicating a much better fit (91.8% variance explained).\n",
        "## Key Observations:\n",
        "* Increasing the **VIF threshold to 50** allowed more features to remain, which improved model performance.\n",
        "* This suggests that some **highly correlated features still contain valuable predictive information**.\n",
        "* While **multicollinearity can be a concern**, sometimes removing too many features (VIF < 30) can lead to **loss of important information**.\n",
        "## Next Steps:\n",
        "\n",
        "1. Compare the actual vs. predicted values with visualizations?\n",
        "2. Try an advanced model like Random Forest or XGBoost?\n",
        "3. Test different VIF thresholds (e.g., 40 or 60) to find an optimal balance?\n"
      ]
    }
  ],
  "metadata": {
    "colab": {
      "provenance": []
    },
    "kernelspec": {
      "display_name": "Python 3",
      "language": "python",
      "name": "python3"
    },
    "language_info": {
      "codemirror_mode": {
        "name": "ipython",
        "version": 3
      },
      "file_extension": ".py",
      "mimetype": "text/x-python",
      "name": "python",
      "nbconvert_exporter": "python",
      "pygments_lexer": "ipython3",
      "version": "3.10.11"
    }
  },
  "nbformat": 4,
  "nbformat_minor": 5
}
