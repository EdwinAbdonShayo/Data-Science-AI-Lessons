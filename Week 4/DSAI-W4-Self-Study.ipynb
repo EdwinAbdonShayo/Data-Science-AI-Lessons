{
 "cells": [
  {
   "cell_type": "markdown",
   "metadata": {
    "_cell_guid": "3b05f4f2-b96e-4318-85c1-97c2d9865924",
    "_execution_state": "idle",
    "_uuid": "fcc4f71ef5d22b868652935e798daa0d04e3f700",
    "collapsed": false,
    "id": "01AykkMOz_YB",
    "jupyter": {
     "outputs_hidden": false
    }
   },
   "source": [
    "# Borrowing from W3 EDA session - Linear Regression on Auto-MPG data\n",
    "## Please move to regression analysis section but you will need to run a few cells below before machine learning model development.\n",
    "## You may need to run cells with: import libraries, read data, remove inconsistencies, etc.\n",
    "https://www.kaggle.com/code/devanshbesain/exploration-and-analysis-auto-mpg\n",
    "\n",
    "First of all, all the data preprocessing and EDA processes need to be followed, as follows:"
   ]
  },
  {
   "cell_type": "code",
   "execution_count": null,
   "metadata": {
    "id": "c5cDH9qu0Jqg"
   },
   "outputs": [],
   "source": [
    "from google.colab import drive\n",
    "drive.mount('/content/drive')"
   ]
  },
  {
   "cell_type": "code",
   "execution_count": null,
   "metadata": {
    "_cell_guid": "de87dda8-aed1-4dfa-9bbf-863797324bb3",
    "_execution_state": "idle",
    "_uuid": "63d0ea1c9affddbc46faf10ceefa0f03fb7a52a9",
    "id": "pUsdWkiDz_YC"
   },
   "outputs": [],
   "source": [
    "import pandas as pd\n",
    "import matplotlib.pyplot as plt\n",
    "import seaborn as sns\n",
    "import numpy as np\n",
    "from scipy.stats import norm\n",
    "from scipy import stats\n",
    "import warnings\n",
    "warnings.filterwarnings('ignore')\n",
    "%matplotlib inline"
   ]
  },
  {
   "cell_type": "markdown",
   "metadata": {
    "_cell_guid": "25540fdc-4863-463a-b9da-fc7229498530",
    "_execution_state": "idle",
    "_uuid": "5c30aa404378120608d54640e96778af35bcd870",
    "collapsed": false,
    "id": "cQGBEWJpz_YD",
    "jupyter": {
     "outputs_hidden": false
    }
   },
   "source": [
    "We have imported all the packages and libraries we will be using for the initial exploration of data. This notebook will be focusing on the Exploration and Visualization using pandas and seaborn packages.\n",
    "\n",
    "Let us load the data to explore for hidden treasures"
   ]
  },
  {
   "cell_type": "code",
   "execution_count": null,
   "metadata": {
    "_cell_guid": "65ad5980-afef-4640-b353-f6f97d506bd6",
    "_execution_state": "idle",
    "_uuid": "deb459d1ddb1e3d05e41310804ad7c162010a878",
    "id": "0zZQoy6Gz_YD",
    "jupyter": {
     "outputs_hidden": false
    }
   },
   "outputs": [],
   "source": [
    "data = pd.read_csv('/content/drive/MyDrive/Colab-Notebooks/auto-mpg.csv',index_col='car name')"
   ]
  },
  {
   "cell_type": "markdown",
   "metadata": {
    "_cell_guid": "892c11fc-33e1-40d9-9d17-afe164af856b",
    "_execution_state": "idle",
    "_uuid": "36f28ce2061a5114ed540dc0c79d59dde28076c3",
    "collapsed": false,
    "id": "wwfrkuCRz_YE",
    "jupyter": {
     "outputs_hidden": false
    }
   },
   "source": [
    "Let's have a look at data"
   ]
  },
  {
   "cell_type": "code",
   "execution_count": null,
   "metadata": {
    "_cell_guid": "e578463d-bbc3-474e-9a75-76c3d0e2e723",
    "_execution_state": "idle",
    "_uuid": "299fff8c96fd75eddc31ba6f884eeb5b6ba9907a",
    "id": "MG9msUclz_YE",
    "jupyter": {
     "outputs_hidden": false
    }
   },
   "outputs": [],
   "source": [
    "print(data.head())\n",
    "print(data.index)\n",
    "print(data.columns)"
   ]
  },
  {
   "cell_type": "code",
   "execution_count": null,
   "metadata": {
    "_cell_guid": "a08b8882-8f60-41d3-88ab-7ceb875c19d6",
    "_execution_state": "idle",
    "_uuid": "e88c335c8c5ded1365fc28b2be9d8237e6b42034",
    "id": "88JFsLZZz_YG",
    "jupyter": {
     "outputs_hidden": false
    }
   },
   "outputs": [],
   "source": [
    "data.shape"
   ]
  },
  {
   "cell_type": "code",
   "execution_count": null,
   "metadata": {
    "_cell_guid": "e40ad308-f0d5-4023-a692-ad134838d987",
    "_execution_state": "idle",
    "_uuid": "5ce45540d1f00b5c6cc1d84f524c6de6b23b2598",
    "id": "L6bNF5lez_YH",
    "jupyter": {
     "outputs_hidden": false
    }
   },
   "outputs": [],
   "source": [
    "data.isnull().any()"
   ]
  },
  {
   "cell_type": "markdown",
   "metadata": {
    "_cell_guid": "d0f81dd1-111b-4302-bcca-e467f77ae539",
    "_execution_state": "idle",
    "_uuid": "2db46b1acb36a0ceb8b6fcf4c384c57020e1ed3c",
    "collapsed": false,
    "id": "I0DOF9fBz_YI",
    "jupyter": {
     "outputs_hidden": false
    }
   },
   "source": [
    "Nothing seems to be missing"
   ]
  },
  {
   "cell_type": "code",
   "execution_count": null,
   "metadata": {
    "_cell_guid": "64d484f2-5028-4288-bb62-908b7be097bc",
    "_execution_state": "idle",
    "_uuid": "35b7c198422d73fb5adc46fcb4904c73e4bdf67e",
    "id": "5khhlFjqz_YI",
    "jupyter": {
     "outputs_hidden": false
    }
   },
   "outputs": [],
   "source": [
    "#data.dtypes\n",
    "data.info(verbose=True)"
   ]
  },
  {
   "cell_type": "markdown",
   "metadata": {
    "_cell_guid": "998cf7e3-85f2-432f-aab4-3a76cd367c2a",
    "_execution_state": "idle",
    "_uuid": "b37b9b743091320c01000ecb79df51f3a4db4d86",
    "collapsed": false,
    "id": "xp5PYD2Cz_YI",
    "jupyter": {
     "outputs_hidden": false
    }
   },
   "source": [
    "Interestingly, the horsepower is an object and not a float. The values we saw above were clearly numbers. So let's try converting the column using astype()."
   ]
  },
  {
   "cell_type": "markdown",
   "metadata": {
    "_cell_guid": "7e97b0ef-ff70-413b-a909-c21ae7266319",
    "_execution_state": "idle",
    "_uuid": "53de388615cee884d225d302a1f12b5b27c8c32d",
    "collapsed": false,
    "id": "xNTl5Knpz_YI",
    "jupyter": {
     "outputs_hidden": false
    }
   },
   "source": [
    "    Let's look at the unique elements of horsepower to look for discrepancies"
   ]
  },
  {
   "cell_type": "code",
   "execution_count": null,
   "metadata": {
    "_cell_guid": "22c6751e-6461-4ed1-b0b7-f3df1b36eb9f",
    "_execution_state": "idle",
    "_uuid": "fb877e98c373a796d9aa86f2025daba2c802b83e",
    "id": "uFAlXq4Jz_YI",
    "jupyter": {
     "outputs_hidden": false
    }
   },
   "outputs": [],
   "source": [
    "data.horsepower.unique()"
   ]
  },
  {
   "cell_type": "markdown",
   "metadata": {
    "_cell_guid": "8edcd4d1-c63d-491f-b1e4-93435cda6ece",
    "_execution_state": "idle",
    "_uuid": "34a12c6f99bf528593849607aa7a5f6fb6ac519b",
    "collapsed": false,
    "id": "R3PKUPXuz_YJ",
    "jupyter": {
     "outputs_hidden": false
    }
   },
   "source": [
    "When we print out all the unique values in horsepower, we find that there is '?' which was used as a placeholder for missing values. Lest remove these entries."
   ]
  },
  {
   "cell_type": "code",
   "execution_count": null,
   "metadata": {
    "_cell_guid": "585735a6-849b-4fe2-84ac-d224244ab280",
    "_execution_state": "idle",
    "_uuid": "81c5796cf23bbb7959480a554097cd8f6854fc1a",
    "id": "tfURUGW4z_YJ",
    "jupyter": {
     "outputs_hidden": false
    }
   },
   "outputs": [],
   "source": [
    "data = data[data.horsepower != '?']"
   ]
  },
  {
   "cell_type": "code",
   "execution_count": null,
   "metadata": {
    "_cell_guid": "47130cab-af37-4b93-b4b4-5a66a1c4f3e6",
    "_execution_state": "idle",
    "_uuid": "050c65f40c705e65d186a33a6a2561c66330e774",
    "id": "OTO3Yg6tz_YJ",
    "jupyter": {
     "outputs_hidden": false
    }
   },
   "outputs": [],
   "source": [
    "print('?' in data.horsepower)"
   ]
  },
  {
   "cell_type": "code",
   "execution_count": null,
   "metadata": {
    "_cell_guid": "6ab96dd1-bdc1-4af9-9d0d-b0004e3ff2c4",
    "_execution_state": "idle",
    "_uuid": "a7ae447d81c143d04bb78f574f9876459d069e0a",
    "id": "9I_PKCbZz_YJ",
    "jupyter": {
     "outputs_hidden": false
    }
   },
   "outputs": [],
   "source": [
    "data.shape"
   ]
  },
  {
   "cell_type": "code",
   "execution_count": null,
   "metadata": {
    "_cell_guid": "8d8e3f0c-e88e-465d-a38e-60a075654894",
    "_execution_state": "idle",
    "_uuid": "2d7bfe6169f1589f327ed6c7d8900b86fccbd95a",
    "id": "Aae7fKiUz_YJ",
    "jupyter": {
     "outputs_hidden": false
    }
   },
   "outputs": [],
   "source": [
    "data.dtypes"
   ]
  },
  {
   "cell_type": "markdown",
   "metadata": {
    "_cell_guid": "5cc53248-ef11-42d6-bb53-0381224a4dc1",
    "_execution_state": "idle",
    "_uuid": "dc6c329432062bd04905e747cbce63bb59980b16",
    "collapsed": false,
    "id": "L1sYDykpz_YJ",
    "jupyter": {
     "outputs_hidden": false
    }
   },
   "source": [
    "So we see all entries with '?' as place holder for data are removed. However, we the horsepower data is still an object type and not float. That is because initially pandas obtained the entire column as object when we imported the data set due to '?', so lets change that data column to float."
   ]
  },
  {
   "cell_type": "code",
   "execution_count": null,
   "metadata": {
    "_cell_guid": "3d8f69e6-0c48-49ed-b07f-a026b4f7c4be",
    "_execution_state": "idle",
    "_uuid": "0af9faa05ce80edce65c0eeb87932c4aff96497a",
    "id": "596pDUcTz_YJ",
    "jupyter": {
     "outputs_hidden": false
    }
   },
   "outputs": [],
   "source": [
    "data.horsepower = data.horsepower.astype('float')\n",
    "data.dtypes"
   ]
  },
  {
   "cell_type": "markdown",
   "metadata": {
    "_cell_guid": "d770b53d-2de9-4d86-8981-600b2ab033c2",
    "_execution_state": "idle",
    "_uuid": "ad352a394e4dba3faedb02a191393d37ad92309b",
    "collapsed": false,
    "id": "d4IkbAXez_YJ",
    "jupyter": {
     "outputs_hidden": false
    }
   },
   "source": [
    "Now everything looks in order so lets continue, let's describe the dataset"
   ]
  },
  {
   "cell_type": "code",
   "execution_count": null,
   "metadata": {
    "_cell_guid": "76519007-3753-49b4-8136-958650fb9760",
    "_execution_state": "idle",
    "_uuid": "c9cb92007b3cff7334013dda1ac0620c67537f89",
    "id": "TK3yX-UEz_YJ",
    "jupyter": {
     "outputs_hidden": false
    }
   },
   "outputs": [],
   "source": [
    "data.describe()"
   ]
  },
  {
   "cell_type": "markdown",
   "metadata": {
    "id": "wgY4ilxdz_YK"
   },
   "source": [
    "- The first quartile, 17 MPG, is the value for which 25% of the entire MPG observations are smaller and 75% are larger.\n",
    "- Q2, 22.75 MPG, is the same as the median (50% of MPG observations are smaller than Q2, 50% are larger)\n",
    "- Only 25% of the observations are greater than the third quartile, 29 MPG."
   ]
  },
  {
   "cell_type": "code",
   "execution_count": null,
   "metadata": {
    "_cell_guid": "f3542da5-1199-4781-9834-7889ce8b016e",
    "_execution_state": "idle",
    "_uuid": "014c7269f8db13486174428c0e209eb6f334999f",
    "id": "w7TtmxEAz_YK",
    "jupyter": {
     "outputs_hidden": false
    }
   },
   "outputs": [],
   "source": [
    "data.head()"
   ]
  },
  {
   "cell_type": "markdown",
   "metadata": {
    "id": "wqQtBvDJz_YK"
   },
   "source": [
    "## Regression Analysis\n",
    "\n",
    "Let us use linear regression to predict the value of MPG given the values of a set that is correlated to MPG."
   ]
  },
  {
   "cell_type": "code",
   "execution_count": null,
   "metadata": {
    "id": "3FgWIVt7z_YK"
   },
   "outputs": [],
   "source": [
    "from sklearn.preprocessing import StandardScaler\n",
    "from sklearn.tree import DecisionTreeRegressor\n",
    "from sklearn.linear_model import LinearRegression\n",
    "from sklearn.model_selection import train_test_split\n",
    "from sklearn.metrics import mean_squared_error\n",
    "from math import sqrt\n",
    "from sklearn.ensemble import GradientBoostingRegressor\n",
    "from sklearn.model_selection import GridSearchCV\n",
    "from sklearn.model_selection import KFold"
   ]
  },
  {
   "cell_type": "code",
   "execution_count": null,
   "metadata": {
    "id": "_dzBqCNRz_YK"
   },
   "outputs": [],
   "source": [
    "factors = ['cylinders','displacement','horsepower','acceleration','weight','origin','model year']\n",
    "X = pd.DataFrame(data[factors].copy())\n",
    "y = data['mpg'].copy()\n",
    "y"
   ]
  },
  {
   "cell_type": "code",
   "execution_count": null,
   "metadata": {
    "id": "Q4eBcncLz_YK"
   },
   "outputs": [],
   "source": [
    "X_train,X_test,y_train,y_test=train_test_split(X,y,test_size = 0.2,random_state=324)\n",
    "#X_train.shape[0] == y_train.shape[0]\n",
    "# Always split the data into train and test subsets first, particularly before any preprocessing steps."
   ]
  },
  {
   "cell_type": "code",
   "execution_count": null,
   "metadata": {
    "id": "c9Lq63P3z_YK"
   },
   "outputs": [],
   "source": [
    "reg_model = LinearRegression()\n",
    "# Selecting linear regression"
   ]
  },
  {
   "cell_type": "code",
   "execution_count": null,
   "metadata": {
    "id": "AEZgRQJ_z_YK"
   },
   "outputs": [],
   "source": [
    "reg_model.fit(X_train,y_train)\n",
    "# Training\n",
    "# Fitting your model to the training data is essentially the training part of the modeling process.\n",
    "# It finds the coefficients/(Beta) weights for the equation specified via the algorithm being used."
   ]
  },
  {
   "cell_type": "code",
   "execution_count": null,
   "metadata": {
    "id": "xFmQl6XZz_YL"
   },
   "outputs": [],
   "source": [
    "y_predicted = reg_model.predict(X_test)\n",
    "# Then those Beta Weights/Coefficients are used to calculate the prediction outcomes with the unseen input data X.\n",
    "# Note that the most important part of this process is to find the coefficients that are fit to your training data.\n",
    "# y=b0+b1*x1+b2*x2+...+bn*xn, fit() fits the model to training data and finds the B0,...,Bn coefficients, suppose that it is [1 2 3...11].\n",
    "# Once your unseen new input test data [x1...xn] is provided, then it is easy to calculate the new y=1+2*x1+3*x2+...+11*xn using the learned coeffients (weights)."
   ]
  },
  {
   "cell_type": "code",
   "execution_count": null,
   "metadata": {
    "id": "AxfCwH-Gz_YL"
   },
   "outputs": [],
   "source": [
    "# Evaluation metrics, MAE, Closer to zero means better accuracy\n",
    "from sklearn.metrics import mean_absolute_error\n",
    "mean_absolute_error(y_test,y_predicted)"
   ]
  }
 ],
 "metadata": {
  "colab": {
   "provenance": []
  },
  "kernelspec": {
   "display_name": "Python 3 (ipykernel)",
   "language": "python",
   "name": "python3"
  },
  "language_info": {
   "codemirror_mode": {
    "name": "ipython",
    "version": 3
   },
   "file_extension": ".py",
   "mimetype": "text/x-python",
   "name": "python",
   "nbconvert_exporter": "python",
   "pygments_lexer": "ipython3",
   "version": "3.11.7"
  }
 },
 "nbformat": 4,
 "nbformat_minor": 0
}
