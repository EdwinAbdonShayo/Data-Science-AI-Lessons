{
  "cells": [
    {
      "cell_type": "markdown",
      "metadata": {
        "id": "VY48mAXCuRa-"
      },
      "source": [
        "# Week-1: Introduction to Python  and Colab Environment\n",
        "\n",
        "In this lab session, you are expected to familiarise yourself with Python and Jupyter/Colab Environment."
      ]
    },
    {
      "cell_type": "markdown",
      "metadata": {
        "id": "ZwdKRcwlyGmC",
        "jp-MarkdownHeadingCollapsed": true
      },
      "source": [
        "# For your local installation\n",
        "We will aim to use Google Colab for the laboratory sessions. However, if you would like to use Jupyterlab on your local machine, then please follow the link at: https://mdx.mrooms.net/mod/page/view.php?id=3156201\n"
      ]
    },
    {
      "cell_type": "markdown",
      "metadata": {
        "id": "IBgBLMePyGmD"
      },
      "source": [
        "# What is an ipynb file?\n",
        "It is an editable project file, the so-called **Notebook** file. Each time you create a new file, a new **.ipynb** file will be created.\n",
        "\n",
        "More technically, an ipynb file is a text file that describes the contents of the notebook file using JSON format. Each cell and its associated contents (including images) will be transformed into strings of text along with some metadata."
      ]
    },
    {
      "cell_type": "markdown",
      "metadata": {
        "id": "T5_uxzIxyGmE"
      },
      "source": [
        "# Notebook user interface\n",
        "What you see is a notebook interface in front of you. Check out the menus to get a feel for it. Kernel and Cell terms are key to understand Jupyter.\n",
        "A **kernel** is a **computational engine** that executes the code in the notebook. A **cell** is a container for text to be displayed or code to be executed by the notebook's kernel depending on the mode chosen (see the next section for *Code* or *Markdown* cells).\n"
      ]
    },
    {
      "cell_type": "markdown",
      "metadata": {
        "id": "pUaZ0XSuyGmF"
      },
      "source": [
        "# Let's have a look at the Cells\n",
        "* A *code cell* contains the code to be run, where the output is displayed below the code cell.\n",
        "* A *markdown (text) cell* contains formatted text and displays the output below the markdown cell.\n",
        "\n",
        "Let us now test it out with a hello world message. Type <font color=red>print('Hello World')</font> into a cell you create below and click the run button. Finally, repeat the same process by simply pressing <font color=red>Ctrl+Enter</font> while you are at the cell to print \"Hello World\".\n",
        "\n",
        "Did you realise that a [ ] number is given after you run the code? While code cells have this numerical label, markdown cells do not. Now, keep running the code in the same cell repeately, and observe the label. Did you notice that the label continues increasing. This label is important in consecutive execution of the codes in different cells to diagnose if a particular cell (with current [ ] label number) creates an issue. This will be clearer in Kernel Section."
      ]
    },
    {
      "cell_type": "markdown",
      "metadata": {
        "id": "WYVN6RUUyGmF"
      },
      "source": [
        "# Keyboard options\n",
        "Go ahead and try the following keyboard options to familiarise yourself.\n",
        "You do not need to memorise them all but some very useful shortcuts are as follows. **Some of these options are different in Colab than Jupyter Notebook and you will need CTRL+M before applying the option**.\n",
        "* You can toggle between edit and command mode by <font color=red>ESC</font> and <font color=red>Enter</font>.\n",
        "* When you are in command mode:\n",
        "     * <font color=red>Up</font> and <font color=red>Down</font> keys help you move between cells.\n",
        "     * Press <font color=red>A</font> and <font color=red>B</font> to create a cell above or below.\n",
        "     * Pressing <font color=red>M</font> will transform the active cell to markdown cell. **Only for Jupyter.**\n",
        "     * Pressing <font color=red>Y</font> will transform the active cell to code cell. **Only for Jupyter.**\n",
        "     * Pressing <font color=red>CTRL + /</font> will comment out in code cell.\n",
        "     * Pressing <font color=red>D</font> consecutively (two times) will delete the active cell.\n",
        "     * Pressing <font color=red>Z</font> will undo the removed cell.\n",
        "     * Holding <font color=red>Shift</font> button and pressing <font color=red>Up</font> and <font color=red>Down</font> will help you select multiple cells and additionally pressing <font color=red>Shift+M (for Jupyter) and right click and merge (for Colab)</font> will merge all the cells selected.\n",
        "\n",
        "Now, create a markdown cell and move the next section."
      ]
    },
    {
      "cell_type": "markdown",
      "metadata": {
        "id": "9O_OxOVVyGmG"
      },
      "source": [
        "# Markdown\n",
        "Markdown is a lightweight, easy to learn markup language for formatting text. It's syntax is similar to HTML.\n",
        "Remember this notebook is in part created by Markdown cells and thus you can observe some of the usage of the followings. Go ahead and make changes to the following text by looking at the editable markdown mode (you can double click or press Enter while on the cell).\n",
        "\n",
        "# This is a level 1 heading\n",
        "\n",
        "## This is a level 2 heading\n",
        "\n",
        "This is some plain text that forms a paragraph. Add emphasis via **bold** and __bold__, or *italic* and _italic_.\n",
        "\n",
        "Paragraphs must be separated by an empty line.\n",
        "\n",
        "* Sometimes we want to include lists.\n",
        "* Which can be bulleted using asterisks.\n",
        "\n",
        "1. Lists can also be numbered.\n",
        "2. If we want an ordered list.\n",
        "\n",
        "[It is possible to include hyperlinks](https://wwww.example.com/image.jpg)"
      ]
    },
    {
      "cell_type": "markdown",
      "metadata": {
        "id": "BLcHe816yGmH"
      },
      "source": [
        "# Kernel\n",
        "A kernel is run behind every notebook. Notebook pertains the kernel to the whole document. What does that mean? For example, you can import a library in one cell and use in the next cells as long as the first code cell is run for the libray to be imported. See the below cells."
      ]
    },
    {
      "cell_type": "code",
      "execution_count": 2,
      "metadata": {
        "id": "evd6b4LXyGmH"
      },
      "outputs": [],
      "source": [
        "# We will come to functions later. However, this is to show how kernels and cells work.\n",
        "# Define a function named square, which returns x^2.\n",
        "import numpy as np\n",
        "def square(x):\n",
        "    return x * x"
      ]
    },
    {
      "cell_type": "code",
      "execution_count": 3,
      "metadata": {
        "id": "0GDSS6ByyGmI"
      },
      "outputs": [
        {
          "name": "stdout",
          "output_type": "stream",
          "text": [
            "7 squared is 49\n"
          ]
        }
      ],
      "source": [
        "# Observe that we can call the random and square functions from the cell previously run.\n",
        "# If you run this code consecutively, in each run the result will change depending on the random value created at the time of run.\n",
        "x = np.random.randint(1, 10)\n",
        "y = square(x)\n",
        "print('%d squared is %d' % (x, y))"
      ]
    },
    {
      "cell_type": "code",
      "execution_count": 4,
      "metadata": {
        "id": "T2Jhzx28yGmI"
      },
      "outputs": [
        {
          "name": "stdout",
          "output_type": "stream",
          "text": [
            "7 squared is 49\n"
          ]
        }
      ],
      "source": [
        "# Observe that if you solely run the print function, it uses the latest values that were assigned to x and y.\n",
        "# Run the print several times and you will see that the result does not change.\n",
        "print('%d squared is %d' % (x, y))"
      ]
    },
    {
      "cell_type": "code",
      "execution_count": 5,
      "metadata": {
        "id": "qBbe23BeyGmJ"
      },
      "outputs": [
        {
          "name": "stdout",
          "output_type": "stream",
          "text": [
            "7 squared is 3\n",
            "Hello\n"
          ]
        }
      ],
      "source": [
        "# Now, we manipulate the value of y to be 3.\n",
        "# What do you think it will print out?\n",
        "# Hint: you will need to find the value of x that was from the latest kernel run and the value of y at the time of run (y is not equal to square(x) any more).\n",
        "y=3\n",
        "print('%d squared is %d' % (x, y))\n",
        "print('Hello')"
      ]
    },
    {
      "cell_type": "markdown",
      "metadata": {
        "id": "pyouNhzgyGmJ"
      },
      "source": [
        "# Notes\n",
        "* Most of the time when you create a notebook, the flow will be top-to-bottom. You can always go back to the concerned [ ] label number to fix the problems if any issues occur at the time of the kernel run. You can also use the reset options as follows:\n",
        "    * <font color=red>Restart</font>: Restarts the kernel, clearing all the variables that were defined.\n",
        "    * <font color=red>Restart & Clear Output</font>: In addition to <font color=red>Restart</font>, it will also clear the output displayed below your code cells.\n",
        "    * <font color=red>Restart & Run All</font>: In addition to <font color=red>Restart</font>, it will run all your cells in order from first to the last cell.\n",
        "    * <font color=red>Interrupt</font>: If your kernel is ever stuck during a computation, you can choose the <font color=red>Interrupt</font> option to stop it."
      ]
    },
    {
      "cell_type": "markdown",
      "metadata": {
        "id": "qgtLgu0-uplS"
      },
      "source": [
        "## Variables"
      ]
    },
    {
      "cell_type": "markdown",
      "metadata": {
        "id": "aJ0yODE9dpV6"
      },
      "source": [
        "Integers"
      ]
    },
    {
      "cell_type": "code",
      "execution_count": null,
      "metadata": {
        "id": "EJ4tZ5gYdrOv"
      },
      "outputs": [],
      "source": [
        "a = 1\n",
        "b = 3\n",
        "print(\"Sum, difference, division:\", a + b, a - b, a // b)"
      ]
    },
    {
      "cell_type": "markdown",
      "metadata": {
        "id": "ZPpnUzuudus2"
      },
      "source": [
        "Floting point numbers"
      ]
    },
    {
      "cell_type": "code",
      "execution_count": null,
      "metadata": {
        "id": "oRM7cXildxrf"
      },
      "outputs": [],
      "source": [
        "print(\"Floating point division:\", 1.0 / 2.0)"
      ]
    },
    {
      "cell_type": "markdown",
      "metadata": {
        "id": "aRtsNkxLd7AB"
      },
      "source": [
        "Booleans"
      ]
    },
    {
      "cell_type": "code",
      "execution_count": null,
      "metadata": {
        "id": "mzvtZ2RceARU"
      },
      "outputs": [],
      "source": [
        "a = True\n",
        "b = False\n",
        "print(\"Boolean operations:\", a or b, a and b, not a)"
      ]
    },
    {
      "cell_type": "markdown",
      "metadata": {
        "id": "uVzLWAp7eCch"
      },
      "source": [
        "Strings"
      ]
    },
    {
      "cell_type": "code",
      "execution_count": null,
      "metadata": {
        "id": "jx9zZkzSeHH1"
      },
      "outputs": [],
      "source": [
        "s = \"n\"\n",
        "print(\"String:\", s)"
      ]
    },
    {
      "cell_type": "markdown",
      "metadata": {
        "id": "Ja_opL1RyGmL"
      },
      "source": [
        "Single quotes can also be used"
      ]
    },
    {
      "cell_type": "code",
      "execution_count": null,
      "metadata": {
        "id": "R3HK5DM7yGmL"
      },
      "outputs": [],
      "source": [
        "a = 'This is a string too'"
      ]
    },
    {
      "cell_type": "markdown",
      "metadata": {
        "id": "klWQFOUoyGmL"
      },
      "source": [
        "We can split long strings like this"
      ]
    },
    {
      "cell_type": "code",
      "execution_count": null,
      "metadata": {
        "id": "ObqvnSbuyGmM"
      },
      "outputs": [],
      "source": [
        "a = (\"Very very very \"\n",
        "     \"long long long \"\n",
        "     \"string in Python\"\n",
        "    )\n",
        "a"
      ]
    },
    {
      "cell_type": "markdown",
      "metadata": {
        "id": "-tGXxfDlyGmM"
      },
      "source": [
        "Some of useful string methods:"
      ]
    },
    {
      "cell_type": "code",
      "execution_count": null,
      "metadata": {
        "id": "UZCwGVzlyGmM"
      },
      "outputs": [],
      "source": [
        "a = \"\"\n",
        "dir(a)"
      ]
    },
    {
      "cell_type": "markdown",
      "metadata": {
        "id": "dA7aE5gEyGmM"
      },
      "source": [
        "Try following methods: `.endswith`, `.join`, `.capitalize`"
      ]
    },
    {
      "cell_type": "markdown",
      "metadata": {
        "id": "W63PjqyhyGmN"
      },
      "source": [
        "String formatting"
      ]
    },
    {
      "cell_type": "code",
      "execution_count": null,
      "metadata": {
        "id": "XRyzyAv_yGmN"
      },
      "outputs": [],
      "source": [
        "\"This is a number {}, this is another number {}!\".format(10, 20)"
      ]
    },
    {
      "cell_type": "markdown",
      "metadata": {
        "id": "HYgxry0wyGmN"
      },
      "source": [
        "You can specify how number is formatted"
      ]
    },
    {
      "cell_type": "code",
      "execution_count": null,
      "metadata": {
        "id": "ZnxnHmrqyGmO"
      },
      "outputs": [],
      "source": [
        "\"This is pi {:0.2f}!\".format(3.1415)"
      ]
    },
    {
      "cell_type": "markdown",
      "metadata": {
        "id": "cDW1bdRpyGmO"
      },
      "source": [
        "Format strings look like this"
      ]
    },
    {
      "cell_type": "code",
      "execution_count": null,
      "metadata": {
        "id": "fgL0AwatyGmO"
      },
      "outputs": [],
      "source": [
        "f\"This is sum of 2 and 3: {2 + 3}\""
      ]
    },
    {
      "cell_type": "markdown",
      "metadata": {
        "id": "yDBje-obvc9B"
      },
      "source": [
        "## Simple data structures: lists, maps, sets, tuples\n",
        "\n",
        "Lists are designed to store a number of ordered values."
      ]
    },
    {
      "cell_type": "markdown",
      "metadata": {
        "id": "qZp9Hx-9hIRC"
      },
      "source": [
        "### List"
      ]
    },
    {
      "cell_type": "code",
      "execution_count": null,
      "metadata": {
        "id": "iEO10YjSgEiP"
      },
      "outputs": [],
      "source": [
        "array = [1, 4, 2, 3, 8, 7, 6, 5]\n",
        "array"
      ]
    },
    {
      "cell_type": "markdown",
      "metadata": {
        "id": "OafZcfQLgIik"
      },
      "source": [
        "Addressing list by index"
      ]
    },
    {
      "cell_type": "code",
      "execution_count": null,
      "metadata": {
        "id": "vTBtlmzlgQUN"
      },
      "outputs": [],
      "source": [
        "array[0]"
      ]
    },
    {
      "cell_type": "markdown",
      "metadata": {
        "id": "Sc-anm1NgS25"
      },
      "source": [
        "Slice is a sub-sequence of a list"
      ]
    },
    {
      "cell_type": "code",
      "execution_count": null,
      "metadata": {
        "id": "tBZ0HPHLgeDc"
      },
      "outputs": [],
      "source": [
        "array[1:5]"
      ]
    },
    {
      "cell_type": "markdown",
      "metadata": {
        "id": "Dgp-CaJigiXM"
      },
      "source": [
        "End-less slices take either prefix"
      ]
    },
    {
      "cell_type": "code",
      "execution_count": null,
      "metadata": {
        "id": "0FU3YcmKgmWG"
      },
      "outputs": [],
      "source": [
        "array[:5]"
      ]
    },
    {
      "cell_type": "markdown",
      "metadata": {
        "id": "L3LzQHZugpJh"
      },
      "source": [
        "or suffix"
      ]
    },
    {
      "cell_type": "code",
      "execution_count": null,
      "metadata": {
        "id": "2ND4QRgggqbV"
      },
      "outputs": [],
      "source": [
        "array[5:]"
      ]
    },
    {
      "cell_type": "markdown",
      "metadata": {
        "id": "as2FqtX9yGmQ"
      },
      "source": [
        "Third argument to the slice is the step size"
      ]
    },
    {
      "cell_type": "code",
      "execution_count": null,
      "metadata": {
        "id": "Jh8cfCauyGmQ"
      },
      "outputs": [],
      "source": [
        "[1, 4, 2, 3, 8, 7, 6, 5]\n",
        "array[2:7:2]"
      ]
    },
    {
      "cell_type": "markdown",
      "metadata": {
        "id": "KGdqcdVdyGmQ"
      },
      "source": [
        "Lists may contain values of different types"
      ]
    },
    {
      "cell_type": "code",
      "execution_count": null,
      "metadata": {
        "id": "ENe-yKTFyGmQ"
      },
      "outputs": [],
      "source": [
        "len([1, 1e-8, \"Hello\", [9, 8]])"
      ]
    },
    {
      "cell_type": "markdown",
      "metadata": {
        "id": "6x9lrkhKyGmQ"
      },
      "source": [
        "### Maps\n",
        "Maps (dictionaries) can store relations between pairs of values"
      ]
    },
    {
      "cell_type": "code",
      "execution_count": null,
      "metadata": {
        "id": "E-7ciAThyGmQ"
      },
      "outputs": [],
      "source": [
        "m = {\"height\": 100.,\n",
        "     \"width\": 20.,\n",
        "     \"depth\": 10.}\n",
        "m\n",
        "dict(height=100.)"
      ]
    },
    {
      "cell_type": "markdown",
      "metadata": {
        "id": "fkY3VnT8yGmQ"
      },
      "source": [
        "Retrieving value by key"
      ]
    },
    {
      "cell_type": "code",
      "execution_count": null,
      "metadata": {
        "id": "5CbPHTLRyGmQ"
      },
      "outputs": [],
      "source": [
        "m[\"width\"]"
      ]
    },
    {
      "cell_type": "markdown",
      "metadata": {
        "id": "YT11HLMEyGmQ"
      },
      "source": [
        "Checking that a map contains a key"
      ]
    },
    {
      "cell_type": "code",
      "execution_count": null,
      "metadata": {
        "id": "G-f8diX2yGmQ"
      },
      "outputs": [],
      "source": [
        "\"name\" in m"
      ]
    },
    {
      "cell_type": "markdown",
      "metadata": {
        "id": "Zn_zlt84yGmR"
      },
      "source": [
        "Add a new key-value pair"
      ]
    },
    {
      "cell_type": "code",
      "execution_count": null,
      "metadata": {
        "id": "WyG57SazyGmR"
      },
      "outputs": [],
      "source": [
        "m[\"name\"] = \"rectangle\"\n",
        "m"
      ]
    },
    {
      "cell_type": "markdown",
      "metadata": {
        "id": "m7Af6hntyGmR"
      },
      "source": [
        "Or change existing value"
      ]
    },
    {
      "cell_type": "code",
      "execution_count": null,
      "metadata": {
        "id": "VZ8SV5lByGmR"
      },
      "outputs": [],
      "source": [
        "m[\"name\"] = \"RECTANGLE\"\n",
        "m"
      ]
    },
    {
      "cell_type": "markdown",
      "metadata": {
        "id": "yB5bkLVSyGmR"
      },
      "source": [
        "Remove key/value"
      ]
    },
    {
      "cell_type": "code",
      "execution_count": null,
      "metadata": {
        "id": "TJcPHBLqyGmR"
      },
      "outputs": [],
      "source": [
        "m.pop(\"name\")"
      ]
    },
    {
      "cell_type": "code",
      "execution_count": null,
      "metadata": {
        "id": "frXaMd5ayGmR"
      },
      "outputs": [],
      "source": [
        "m"
      ]
    },
    {
      "cell_type": "markdown",
      "metadata": {
        "id": "kdYzR2X0zWNE"
      },
      "source": [
        "### Tuples\n",
        "Tuples are similar to lists but are immutable -- they cannot be altered."
      ]
    },
    {
      "cell_type": "code",
      "execution_count": null,
      "metadata": {
        "id": "yJSXyvBqzBnc"
      },
      "outputs": [],
      "source": [
        "my_array = [1, 2, 3]\n",
        "my_tuple = (1, 2, 3)\n",
        "\n",
        "# This is OK\n",
        "my_array[0] = 100\n",
        "\n",
        "# This will raise an exception\n",
        "my_tuple[0] = 100"
      ]
    },
    {
      "cell_type": "code",
      "execution_count": null,
      "metadata": {
        "id": "p6GzTCG6yGmR"
      },
      "outputs": [],
      "source": [
        "a = (1, 2)\n",
        "b = (3, 4)\n",
        "#(1, 2) + (3, 4)\n",
        "a+b"
      ]
    },
    {
      "cell_type": "markdown",
      "metadata": {
        "id": "IBeeqq6u1EP9"
      },
      "source": [
        "### Sets\n",
        "Sets are unordered collections that support fast search, insertion, deletion and union."
      ]
    },
    {
      "cell_type": "code",
      "execution_count": null,
      "metadata": {
        "id": "I1aeG-bFzuL1"
      },
      "outputs": [],
      "source": [
        "animals = {\"cat\", \"dog\", \"elephant\"}\n",
        "animals"
      ]
    },
    {
      "cell_type": "markdown",
      "metadata": {
        "id": "d126oFlyyGmS"
      },
      "source": [
        "Check that element is in set"
      ]
    },
    {
      "cell_type": "code",
      "execution_count": null,
      "metadata": {
        "id": "tSc4rGJRyGmS"
      },
      "outputs": [],
      "source": [
        "\"cat\" in animals"
      ]
    },
    {
      "cell_type": "markdown",
      "metadata": {
        "id": "1EnkdmqwyGmS"
      },
      "source": [
        "Perform set operations: union, intersection, etc"
      ]
    },
    {
      "cell_type": "code",
      "execution_count": null,
      "metadata": {
        "id": "BOMAo0LfyGmS"
      },
      "outputs": [],
      "source": [
        "animals.union({\"zebra\", \"llama\"})"
      ]
    },
    {
      "cell_type": "markdown",
      "metadata": {
        "id": "do27WDEZ1rKc"
      },
      "source": [
        "## Control flow"
      ]
    },
    {
      "cell_type": "markdown",
      "metadata": {
        "id": "ZRLfl1pTkw8w"
      },
      "source": [
        "Branching"
      ]
    },
    {
      "cell_type": "code",
      "execution_count": null,
      "metadata": {
        "id": "6RNIP5pmk0a9"
      },
      "outputs": [],
      "source": [
        "a = int(input())\n",
        "if a > 6:\n",
        "    print(\"a is greater than 6\")\n",
        "elif a < 3:\n",
        "    print(\"a is less than 3\")\n",
        "else:\n",
        "    print(\"a is between 3 and 6\")"
      ]
    },
    {
      "cell_type": "markdown",
      "metadata": {
        "id": "iF11czrvk9Ve"
      },
      "source": [
        "Loops"
      ]
    },
    {
      "cell_type": "code",
      "execution_count": null,
      "metadata": {
        "id": "0FKPTPIklBuR"
      },
      "outputs": [],
      "source": [
        "for i, j in enumerate([\"cat\", \"dog\"]):\n",
        "    print(i, j)"
      ]
    },
    {
      "cell_type": "markdown",
      "metadata": {
        "id": "MbsSYi-myGmS"
      },
      "source": [
        "Useful functions for looping:\n",
        "- `range`\n",
        "- `enumerate`\n",
        "- `zip`"
      ]
    },
    {
      "cell_type": "markdown",
      "metadata": {
        "id": "AovEOb6ryGmS"
      },
      "source": [
        "Iterating a dictionary"
      ]
    },
    {
      "cell_type": "code",
      "execution_count": null,
      "metadata": {
        "id": "C0q5mXn4yGmS"
      },
      "outputs": [],
      "source": [
        "for k, v in m.items():\n",
        "    print(k, v)\n",
        "    if k == \"width\":\n",
        "        continue\n",
        "    # long processing\n",
        "    print(\"again\", v)"
      ]
    },
    {
      "cell_type": "markdown",
      "metadata": {
        "id": "wfr2wzLryGmT"
      },
      "source": [
        "While loop\n",
        "\n",
        "*It is very rare that you need to use while loop. Following example is very not pythonic!*"
      ]
    },
    {
      "cell_type": "code",
      "execution_count": null,
      "metadata": {
        "id": "yUxcuHmQyGmT"
      },
      "outputs": [],
      "source": [
        "stop = False\n",
        "i = 10\n",
        "while not stop:\n",
        "    i += 1\n",
        "    if i % 10 == 0:\n",
        "        stop = True\n",
        "\n",
        "print(i)"
      ]
    },
    {
      "cell_type": "markdown",
      "metadata": {
        "id": "1XOUcES3U_7g"
      },
      "source": [
        "## List comprehensions"
      ]
    },
    {
      "cell_type": "code",
      "execution_count": null,
      "metadata": {
        "id": "2ii1YsF1VFQt"
      },
      "outputs": [],
      "source": [
        "[i + 1 for i in [1, 2, 3] if i != 2]"
      ]
    },
    {
      "cell_type": "markdown",
      "metadata": {
        "id": "sP1oejrKVUIo"
      },
      "source": [
        "It works with dictionaries too"
      ]
    },
    {
      "cell_type": "code",
      "execution_count": null,
      "metadata": {
        "id": "adCDsD7CVOXi"
      },
      "outputs": [],
      "source": [
        "{i: i + 1 for i in [1, 2, 3]}"
      ]
    },
    {
      "cell_type": "markdown",
      "metadata": {
        "id": "Hr1sBDl6NBCt"
      },
      "source": [
        "## Functions"
      ]
    },
    {
      "cell_type": "markdown",
      "metadata": {
        "id": "GnLRc_CKxFsf"
      },
      "source": [
        "Defining functions"
      ]
    },
    {
      "cell_type": "code",
      "execution_count": null,
      "metadata": {
        "colab": {
          "base_uri": "https://localhost:8080/"
        },
        "id": "TZJF3UL2M7fg",
        "outputId": "7b64bb82-4a2e-4f32-a61e-c167c729f283"
      },
      "outputs": [
        {
          "data": {
            "text/plain": [
              "True"
            ]
          },
          "execution_count": 1,
          "metadata": {},
          "output_type": "execute_result"
        }
      ],
      "source": [
        "def is_even(a):\n",
        "    return a % 2 == 0\n",
        "\n",
        "is_even(2)"
      ]
    },
    {
      "cell_type": "markdown",
      "metadata": {
        "id": "Hoh9vryhxckA"
      },
      "source": [
        "You can provide default arguments."
      ]
    },
    {
      "cell_type": "code",
      "execution_count": null,
      "metadata": {
        "id": "SbjDzfrVfmF6"
      },
      "outputs": [],
      "source": [
        "# Common use:\n",
        "def add_or_subtract(first, second, operation):\n",
        "    if operation == \"sum\":\n",
        "        return first + second\n",
        "    elif operation == \"sub\":\n",
        "        return first - second\n",
        "    else:\n",
        "        print(\"Operation not permitted\")\n",
        "\n",
        "add_or_subtract(first=3, second=4, operation=\"sum\")"
      ]
    },
    {
      "cell_type": "code",
      "execution_count": null,
      "metadata": {
        "id": "OCXSCKBlyRMm"
      },
      "outputs": [],
      "source": [
        "# Or you can also call it as follows, but this is not that common. Can you spot the difference?\n",
        "def add_or_subtract(first=3, second=4, operation=\"sum\"):\n",
        "    if operation == \"sum\":\n",
        "        return first + second\n",
        "    elif operation == \"sub\":\n",
        "        return first - second\n",
        "    else:\n",
        "        print(\"Operation not permitted\")\n",
        "\n",
        "add_or_subtract()"
      ]
    },
    {
      "cell_type": "markdown",
      "metadata": {
        "id": "1Lp6YB6fxqpP"
      },
      "source": [
        "Varargs: variable size arguments"
      ]
    },
    {
      "cell_type": "code",
      "execution_count": null,
      "metadata": {
        "id": "181garp6xsKA"
      },
      "outputs": [],
      "source": [
        "def sum_all(*args):\n",
        "    # args is a list of arguments\n",
        "    result = 0\n",
        "    for arg in args:\n",
        "        result += arg\n",
        "    return result\n",
        "\n",
        "# Call vararg function\n",
        "print(\"Sum of all integers up to 10 =\", sum_all(1, 2, 3, 4, 5, 6, 7, 8, 9))"
      ]
    },
    {
      "cell_type": "markdown",
      "metadata": {
        "id": "LoPGG5zNAjoU"
      },
      "source": [
        "## Exceptions\n",
        "Software applications don't always work flawlessly. Even with thorough troubleshooting and multiple testing phases, they can still malfunction. Problems like bad data, unstable network connections, corrupted databases, memory overloads, and unexpected user inputs can disrupt an application's normal operations. When an application can't function as expected due to these issues, it experiences what's called an exception. As a programmer, it's your responsibility to catch and manage these exceptions to ensure your application keeps running smoothly."
      ]
    },
    {
      "cell_type": "code",
      "execution_count": null,
      "metadata": {
        "id": "eYsGH9tQAlHr"
      },
      "outputs": [],
      "source": [
        "# Throw exception\n",
        "from datetime import datetime\n",
        "\n",
        "current_date = datetime.now()\n",
        "print(\"Current date is: \" + current_date.strftime('%Y-%m-%d'))\n",
        "\n",
        "dateinput = input(\"Enter date in yyyy-mm-dd format: \")\n",
        "# We are not checking for the date input format here\n",
        "date_provided = datetime.strptime(dateinput, '%Y-%m-%d')\n",
        "print(\"Date provided is: \" + date_provided.strftime('%Y-%m-%d'))\n",
        "\n",
        "# Lets raise an exception because we know this can be a potential issue\n",
        "if date_provided.date() < current_date.date():\n",
        "    raise Exception(\"Date provided can't be in the past\")"
      ]
    },
    {
      "cell_type": "code",
      "execution_count": null,
      "metadata": {
        "id": "IwpCXA3nA3Ap"
      },
      "outputs": [],
      "source": [
        "# Catch exceptions\n",
        "try:\n",
        "    raise ValueError\n",
        "except ValueError:\n",
        "    print(\"Do something else\")\n",
        "finally:\n",
        "    print(\"This part runs always. It is useful for closing files or \"\n",
        "          \"releasing other resources\")"
      ]
    },
    {
      "cell_type": "code",
      "execution_count": null,
      "metadata": {
        "id": "WDDcP38CyGmU"
      },
      "outputs": [],
      "source": [
        "# Catch exception example\n",
        "!pip install rollbar # Intalling rollbar library before using it.\n",
        "import rollbar\n",
        "num0 = 10\n",
        "\n",
        "try:\n",
        "    num1 = int(input(\"Enter 1st number:\"))\n",
        "    num2 = int(input(\"Enter 2nd number:\"))\n",
        "except ValueError as ve:\n",
        "    print(ve)\n",
        "    rollbar.report_exc_info()\n",
        "    exit()\n",
        "except ZeroDivisionError as zde:\n",
        "    print(zde)\n",
        "    rollbar.report_exc_info()\n",
        "    exit()\n",
        "except TypeError as te:\n",
        "    print(te)\n",
        "    rollbar.report_exc_info()\n",
        "    exit()\n",
        "except:\n",
        "    print('Unexpected Error!')\n",
        "    rollbar.report_exc_info()\n",
        "    exit()\n",
        "else:\n",
        "    result = (num1 * num2)/(num0 * num2)\n",
        "    print(result)"
      ]
    },
    {
      "cell_type": "markdown",
      "metadata": {
        "id": "dKU0asYuazOF"
      },
      "source": [
        "## Imports\n",
        "\n",
        "Adding new packages in python is very easy and many packages are available from the box. If you want some library, there is a good chance that someone else wrote it already.\n",
        "\n",
        "Generally, import statement looks like"
      ]
    },
    {
      "cell_type": "code",
      "execution_count": null,
      "metadata": {
        "id": "VFeYVIqocjsm"
      },
      "outputs": [],
      "source": [
        "import time\n",
        "\n",
        "time.time()"
      ]
    },
    {
      "cell_type": "markdown",
      "metadata": {
        "id": "0pNMsOuJctzb"
      },
      "source": [
        "You can specify what parts of the package you want to import"
      ]
    },
    {
      "cell_type": "code",
      "execution_count": null,
      "metadata": {
        "id": "jfy8OQqwcr0A"
      },
      "outputs": [],
      "source": [
        "from time import time, sleep\n",
        "\n",
        "print(time())\n",
        "sleep(2)\n",
        "print(time())"
      ]
    },
    {
      "cell_type": "markdown",
      "metadata": {
        "id": "XHmrP9ayaG6X"
      },
      "source": [
        "# Exercises"
      ]
    },
    {
      "cell_type": "markdown",
      "metadata": {
        "id": "cUE9SvlVdc4_"
      },
      "source": [
        "## Exercise 1\n",
        "\n",
        "Write a function that samples a uniform random number from `a` to `b`.\n",
        "\n",
        "Use function `random.random` from package `random`.\n",
        "\"a + (b-a) * random()\" can be returned as a sample shown at the documentation page [here](https://docs.python.org/3.7/library/random.html)\n",
        "Remember to use exceptions! Throw or Catch exception.\n",
        "Test your function by calling <font color=red>one_sample(start, end)</font>."
      ]
    },
    {
      "cell_type": "code",
      "execution_count": null,
      "metadata": {
        "id": "Jy7ND3SRkeCj"
      },
      "outputs": [],
      "source": [
        "import random\n",
        "# Code Here"
      ]
    },
    {
      "cell_type": "code",
      "execution_count": null,
      "metadata": {
        "id": "-Ztl1b04yGmU"
      },
      "outputs": [],
      "source": [
        "#Test your function by calling:\n",
        "one_sample(1,8)"
      ]
    },
    {
      "cell_type": "markdown",
      "metadata": {
        "id": "p7CIN4iWr3tx"
      },
      "source": [
        "## Exercise 2\n",
        "\n",
        "Write a function that creates a list of length `n` of samples like in Excercise 1. In this example, we expect to see `n` number of samples.\n",
        "Remember to use exceptions! Run the exercise multiple times and observe how the result changes with the range. Test your function by calling <font color=red>multiple_samples(start, end, n)</font>."
      ]
    },
    {
      "cell_type": "code",
      "execution_count": null,
      "metadata": {
        "id": "_UFZLC4ssAm1"
      },
      "outputs": [],
      "source": [
        "# Your code here\n",
        "\n",
        "# Test your function by calling:\n",
        "multiple_samples(1,5,15)\n",
        "\n",
        "# Challenge-1: Create a new function that uses the output of multiple_samples and averages the results of that."
      ]
    },
    {
      "cell_type": "markdown",
      "metadata": {
        "id": "bDNxuKNHsI-L"
      },
      "source": [
        "## Exercise 3\n",
        "\n",
        "Write a function that computes an average of any list of numbers within a certain range. The array length will be passed to the function using `random.randint()` (length and array values range between 1 and 20). Name the function `mean(length)` and inside the function define an initial array, namely `my_array=[]` and write the generated random values to this array given the lenght and print the mean. Remember length will be randomly defined before being passed to the function mean, but you can initially start working with a fixed lenght for simplicity. Run as many as you like to see the changes in the output."
      ]
    },
    {
      "cell_type": "code",
      "execution_count": null,
      "metadata": {
        "id": "vhsHU8qXsH50"
      },
      "outputs": [],
      "source": [
        "import random\n",
        "def mean(length):\n",
        "# Your code here"
      ]
    },
    {
      "cell_type": "markdown",
      "metadata": {
        "id": "V52Q91X7yGmV"
      },
      "source": [
        "## Exercise 4\n",
        "Import `Pandas` and create a simple `Pandas DataFrame`."
      ]
    },
    {
      "cell_type": "code",
      "execution_count": null,
      "metadata": {
        "id": "3euKk9jbyGmV"
      },
      "outputs": [],
      "source": [
        "import pandas as pd\n",
        "\n",
        "# Your code here"
      ]
    },
    {
      "cell_type": "markdown",
      "metadata": {
        "id": "dxRpPdujyGmV"
      },
      "source": [
        "## Exercise 5\n",
        "Import `matplotlib` and `numpy` to create a linear line from `(1,2) to (9,12)` coordinates."
      ]
    },
    {
      "cell_type": "code",
      "execution_count": null,
      "metadata": {
        "id": "Wo9PoJ5ByGmV"
      },
      "outputs": [],
      "source": [
        "import matplotlib.pyplot as plt\n",
        "import numpy as np\n",
        "\n",
        "# Your code here"
      ]
    },
    {
      "cell_type": "markdown",
      "metadata": {
        "id": "GiN7WYsEyGmV"
      },
      "source": [
        "## Exercise 6\n",
        "Import `seaborn` library and load `tips` dataset and create a visualisation of the data points (scatter plot)."
      ]
    },
    {
      "cell_type": "code",
      "execution_count": null,
      "metadata": {
        "id": "beEs21CHyGmV"
      },
      "outputs": [],
      "source": [
        "# Import seaborn\n",
        "import seaborn as sns\n",
        "\n",
        "# Your code here"
      ]
    },
    {
      "cell_type": "markdown",
      "metadata": {
        "id": "CiL3RTzXyGmV"
      },
      "source": [
        "## Exercise 7\n",
        "Import `numpy` and create an array with non-repeating elements from 0 to 14 and reshape it as a 3x5 matrix. You can use `arange` and `reshape` functions."
      ]
    },
    {
      "cell_type": "code",
      "execution_count": null,
      "metadata": {
        "id": "HZfkudNDyGmV"
      },
      "outputs": [],
      "source": [
        "#Your code here\n",
        "\n",
        "# Challenge-2: Create a random matrix, that is produced from non-repeating elements between 0-14.\n",
        "# Each time the code is run, it has to generate a new matrix with non-repeating elements. The size of matrix will always be 3x5."
      ]
    }
  ],
  "metadata": {
    "colab": {
      "provenance": []
    },
    "kernelspec": {
      "display_name": "Python 3",
      "language": "python",
      "name": "python3"
    },
    "language_info": {
      "codemirror_mode": {
        "name": "ipython",
        "version": 3
      },
      "file_extension": ".py",
      "mimetype": "text/x-python",
      "name": "python",
      "nbconvert_exporter": "python",
      "pygments_lexer": "ipython3",
      "version": "3.10.11"
    }
  },
  "nbformat": 4,
  "nbformat_minor": 0
}
