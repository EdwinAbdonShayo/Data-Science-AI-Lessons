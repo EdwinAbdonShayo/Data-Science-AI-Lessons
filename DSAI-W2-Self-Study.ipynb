{
 "cells": [
  {
   "cell_type": "code",
   "execution_count": 1,
   "id": "-vq_DjScIXMb",
   "metadata": {
    "colab": {
     "base_uri": "https://localhost:8080/"
    },
    "executionInfo": {
     "elapsed": 19146,
     "status": "ok",
     "timestamp": 1736334407883,
     "user": {
      "displayName": "halil yetgin",
      "userId": "16185651141288243520"
     },
     "user_tz": 0
    },
    "id": "-vq_DjScIXMb",
    "outputId": "e91b0332-bf51-4e56-95a2-3cab299907da"
   },
   "outputs": [
    {
     "name": "stdout",
     "output_type": "stream",
     "text": [
      "Mounted at /content/drive\n"
     ]
    }
   ],
   "source": [
    "# You need to mount your drive and upload files to drive.\n",
    "from google.colab import drive\n",
    "drive.mount('/content/drive')"
   ]
  },
  {
   "cell_type": "code",
   "execution_count": 2,
   "id": "ed6957b7-61b8-4137-ae6b-8c7d64f522a1",
   "metadata": {
    "id": "ed6957b7-61b8-4137-ae6b-8c7d64f522a1"
   },
   "outputs": [],
   "source": [
    "# Import these libraries\n",
    "import pandas as pd\n",
    "import numpy as np\n",
    "import matplotlib.pyplot as plt\n",
    "import seaborn as sns"
   ]
  },
  {
   "cell_type": "code",
   "execution_count": 3,
   "id": "5c22ef50-c251-4dd0-9403-60588ec0ebdd",
   "metadata": {
    "id": "5c22ef50-c251-4dd0-9403-60588ec0ebdd"
   },
   "outputs": [
    {
     "data": {
      "text/html": [
       "<div>\n",
       "<style scoped>\n",
       "    .dataframe tbody tr th:only-of-type {\n",
       "        vertical-align: middle;\n",
       "    }\n",
       "\n",
       "    .dataframe tbody tr th {\n",
       "        vertical-align: top;\n",
       "    }\n",
       "\n",
       "    .dataframe thead th {\n",
       "        text-align: right;\n",
       "    }\n",
       "</style>\n",
       "<table border=\"1\" class=\"dataframe\">\n",
       "  <thead>\n",
       "    <tr style=\"text-align: right;\">\n",
       "      <th></th>\n",
       "      <th>PID</th>\n",
       "      <th>ST_NUM</th>\n",
       "      <th>ST_NAME</th>\n",
       "      <th>OWN_OCCUPIED</th>\n",
       "      <th>NUM_BEDROOMS</th>\n",
       "      <th>NUM_BATH</th>\n",
       "      <th>SQ_FT</th>\n",
       "    </tr>\n",
       "  </thead>\n",
       "  <tbody>\n",
       "    <tr>\n",
       "      <th>0</th>\n",
       "      <td>100001000.0</td>\n",
       "      <td>104.0</td>\n",
       "      <td>PUTNAM</td>\n",
       "      <td>Y</td>\n",
       "      <td>3</td>\n",
       "      <td>1</td>\n",
       "      <td>1000</td>\n",
       "    </tr>\n",
       "    <tr>\n",
       "      <th>1</th>\n",
       "      <td>100002000.0</td>\n",
       "      <td>197.0</td>\n",
       "      <td>LEXINGTON</td>\n",
       "      <td>N</td>\n",
       "      <td>3</td>\n",
       "      <td>1.5</td>\n",
       "      <td>--</td>\n",
       "    </tr>\n",
       "    <tr>\n",
       "      <th>2</th>\n",
       "      <td>100003000.0</td>\n",
       "      <td>NaN</td>\n",
       "      <td>LEXINGTON</td>\n",
       "      <td>N</td>\n",
       "      <td>NaN</td>\n",
       "      <td>1</td>\n",
       "      <td>850</td>\n",
       "    </tr>\n",
       "    <tr>\n",
       "      <th>3</th>\n",
       "      <td>100004000.0</td>\n",
       "      <td>201.0</td>\n",
       "      <td>BERKELEY</td>\n",
       "      <td>12</td>\n",
       "      <td>1</td>\n",
       "      <td>NaN</td>\n",
       "      <td>700</td>\n",
       "    </tr>\n",
       "    <tr>\n",
       "      <th>4</th>\n",
       "      <td>NaN</td>\n",
       "      <td>203.0</td>\n",
       "      <td>BERKELEY</td>\n",
       "      <td>Y</td>\n",
       "      <td>3</td>\n",
       "      <td>2</td>\n",
       "      <td>1600</td>\n",
       "    </tr>\n",
       "    <tr>\n",
       "      <th>5</th>\n",
       "      <td>100006000.0</td>\n",
       "      <td>207.0</td>\n",
       "      <td>BERKELEY</td>\n",
       "      <td>Y</td>\n",
       "      <td>NaN</td>\n",
       "      <td>1</td>\n",
       "      <td>800</td>\n",
       "    </tr>\n",
       "    <tr>\n",
       "      <th>6</th>\n",
       "      <td>100007000.0</td>\n",
       "      <td>NaN</td>\n",
       "      <td>WASHINGTON</td>\n",
       "      <td>NaN</td>\n",
       "      <td>2</td>\n",
       "      <td>HURLEY</td>\n",
       "      <td>950</td>\n",
       "    </tr>\n",
       "    <tr>\n",
       "      <th>7</th>\n",
       "      <td>100008000.0</td>\n",
       "      <td>213.0</td>\n",
       "      <td>TREMONT</td>\n",
       "      <td>Y</td>\n",
       "      <td>1</td>\n",
       "      <td>1</td>\n",
       "      <td>NaN</td>\n",
       "    </tr>\n",
       "    <tr>\n",
       "      <th>8</th>\n",
       "      <td>100009000.0</td>\n",
       "      <td>215.0</td>\n",
       "      <td>TREMONT</td>\n",
       "      <td>Y</td>\n",
       "      <td>na</td>\n",
       "      <td>2</td>\n",
       "      <td>1800</td>\n",
       "    </tr>\n",
       "  </tbody>\n",
       "</table>\n",
       "</div>"
      ],
      "text/plain": [
       "           PID  ST_NUM     ST_NAME OWN_OCCUPIED NUM_BEDROOMS NUM_BATH SQ_FT\n",
       "0  100001000.0   104.0      PUTNAM            Y            3        1  1000\n",
       "1  100002000.0   197.0   LEXINGTON            N            3      1.5    --\n",
       "2  100003000.0     NaN   LEXINGTON            N          NaN        1   850\n",
       "3  100004000.0   201.0    BERKELEY           12            1      NaN   700\n",
       "4          NaN   203.0    BERKELEY            Y            3        2  1600\n",
       "5  100006000.0   207.0    BERKELEY            Y          NaN        1   800\n",
       "6  100007000.0     NaN  WASHINGTON          NaN            2   HURLEY   950\n",
       "7  100008000.0   213.0     TREMONT            Y            1        1   NaN\n",
       "8  100009000.0   215.0     TREMONT            Y           na        2  1800"
      ]
     },
     "execution_count": 3,
     "metadata": {},
     "output_type": "execute_result"
    }
   ],
   "source": [
    "# We will use the property data.csv file, make sure once GDrive is mounted, you link the data path by right clicking on the left pane.\n",
    "data = pd.read_csv(\"propertyData.csv\")\n",
    "data"
   ]
  },
  {
   "cell_type": "code",
   "execution_count": 4,
   "id": "ab1baac3-f533-472b-99d7-c5c061967a4a",
   "metadata": {
    "id": "ab1baac3-f533-472b-99d7-c5c061967a4a"
   },
   "outputs": [
    {
     "data": {
      "text/html": [
       "<div>\n",
       "<style scoped>\n",
       "    .dataframe tbody tr th:only-of-type {\n",
       "        vertical-align: middle;\n",
       "    }\n",
       "\n",
       "    .dataframe tbody tr th {\n",
       "        vertical-align: top;\n",
       "    }\n",
       "\n",
       "    .dataframe thead th {\n",
       "        text-align: right;\n",
       "    }\n",
       "</style>\n",
       "<table border=\"1\" class=\"dataframe\">\n",
       "  <thead>\n",
       "    <tr style=\"text-align: right;\">\n",
       "      <th></th>\n",
       "      <th>PID</th>\n",
       "      <th>ST_NUM</th>\n",
       "      <th>ST_NAME</th>\n",
       "      <th>OWN_OCCUPIED</th>\n",
       "      <th>NUM_BEDROOMS</th>\n",
       "      <th>NUM_BATH</th>\n",
       "      <th>SQ_FT</th>\n",
       "    </tr>\n",
       "  </thead>\n",
       "  <tbody>\n",
       "    <tr>\n",
       "      <th>0</th>\n",
       "      <td>100001000.0</td>\n",
       "      <td>104.0</td>\n",
       "      <td>PUTNAM</td>\n",
       "      <td>Y</td>\n",
       "      <td>3</td>\n",
       "      <td>1</td>\n",
       "      <td>1000</td>\n",
       "    </tr>\n",
       "    <tr>\n",
       "      <th>1</th>\n",
       "      <td>100002000.0</td>\n",
       "      <td>197.0</td>\n",
       "      <td>LEXINGTON</td>\n",
       "      <td>N</td>\n",
       "      <td>3</td>\n",
       "      <td>1.5</td>\n",
       "      <td>--</td>\n",
       "    </tr>\n",
       "    <tr>\n",
       "      <th>2</th>\n",
       "      <td>100003000.0</td>\n",
       "      <td>NaN</td>\n",
       "      <td>LEXINGTON</td>\n",
       "      <td>N</td>\n",
       "      <td>NaN</td>\n",
       "      <td>1</td>\n",
       "      <td>850</td>\n",
       "    </tr>\n",
       "    <tr>\n",
       "      <th>3</th>\n",
       "      <td>100004000.0</td>\n",
       "      <td>201.0</td>\n",
       "      <td>BERKELEY</td>\n",
       "      <td>12</td>\n",
       "      <td>1</td>\n",
       "      <td>NaN</td>\n",
       "      <td>700</td>\n",
       "    </tr>\n",
       "    <tr>\n",
       "      <th>4</th>\n",
       "      <td>NaN</td>\n",
       "      <td>203.0</td>\n",
       "      <td>BERKELEY</td>\n",
       "      <td>Y</td>\n",
       "      <td>3</td>\n",
       "      <td>2</td>\n",
       "      <td>1600</td>\n",
       "    </tr>\n",
       "  </tbody>\n",
       "</table>\n",
       "</div>"
      ],
      "text/plain": [
       "           PID  ST_NUM    ST_NAME OWN_OCCUPIED NUM_BEDROOMS NUM_BATH SQ_FT\n",
       "0  100001000.0   104.0     PUTNAM            Y            3        1  1000\n",
       "1  100002000.0   197.0  LEXINGTON            N            3      1.5    --\n",
       "2  100003000.0     NaN  LEXINGTON            N          NaN        1   850\n",
       "3  100004000.0   201.0   BERKELEY           12            1      NaN   700\n",
       "4          NaN   203.0   BERKELEY            Y            3        2  1600"
      ]
     },
     "execution_count": 4,
     "metadata": {},
     "output_type": "execute_result"
    }
   ],
   "source": [
    "#Viewing the first 5 rows\n",
    "data.head()"
   ]
  },
  {
   "cell_type": "code",
   "execution_count": 5,
   "id": "5dbbb570-e037-4916-940c-39240db29b06",
   "metadata": {
    "id": "5dbbb570-e037-4916-940c-39240db29b06"
   },
   "outputs": [
    {
     "data": {
      "text/html": [
       "<div>\n",
       "<style scoped>\n",
       "    .dataframe tbody tr th:only-of-type {\n",
       "        vertical-align: middle;\n",
       "    }\n",
       "\n",
       "    .dataframe tbody tr th {\n",
       "        vertical-align: top;\n",
       "    }\n",
       "\n",
       "    .dataframe thead th {\n",
       "        text-align: right;\n",
       "    }\n",
       "</style>\n",
       "<table border=\"1\" class=\"dataframe\">\n",
       "  <thead>\n",
       "    <tr style=\"text-align: right;\">\n",
       "      <th></th>\n",
       "      <th>PID</th>\n",
       "      <th>ST_NUM</th>\n",
       "      <th>ST_NAME</th>\n",
       "      <th>OWN_OCCUPIED</th>\n",
       "      <th>NUM_BEDROOMS</th>\n",
       "      <th>NUM_BATH</th>\n",
       "      <th>SQ_FT</th>\n",
       "    </tr>\n",
       "  </thead>\n",
       "  <tbody>\n",
       "    <tr>\n",
       "      <th>4</th>\n",
       "      <td>NaN</td>\n",
       "      <td>203.0</td>\n",
       "      <td>BERKELEY</td>\n",
       "      <td>Y</td>\n",
       "      <td>3</td>\n",
       "      <td>2</td>\n",
       "      <td>1600</td>\n",
       "    </tr>\n",
       "    <tr>\n",
       "      <th>5</th>\n",
       "      <td>100006000.0</td>\n",
       "      <td>207.0</td>\n",
       "      <td>BERKELEY</td>\n",
       "      <td>Y</td>\n",
       "      <td>NaN</td>\n",
       "      <td>1</td>\n",
       "      <td>800</td>\n",
       "    </tr>\n",
       "    <tr>\n",
       "      <th>6</th>\n",
       "      <td>100007000.0</td>\n",
       "      <td>NaN</td>\n",
       "      <td>WASHINGTON</td>\n",
       "      <td>NaN</td>\n",
       "      <td>2</td>\n",
       "      <td>HURLEY</td>\n",
       "      <td>950</td>\n",
       "    </tr>\n",
       "    <tr>\n",
       "      <th>7</th>\n",
       "      <td>100008000.0</td>\n",
       "      <td>213.0</td>\n",
       "      <td>TREMONT</td>\n",
       "      <td>Y</td>\n",
       "      <td>1</td>\n",
       "      <td>1</td>\n",
       "      <td>NaN</td>\n",
       "    </tr>\n",
       "    <tr>\n",
       "      <th>8</th>\n",
       "      <td>100009000.0</td>\n",
       "      <td>215.0</td>\n",
       "      <td>TREMONT</td>\n",
       "      <td>Y</td>\n",
       "      <td>na</td>\n",
       "      <td>2</td>\n",
       "      <td>1800</td>\n",
       "    </tr>\n",
       "  </tbody>\n",
       "</table>\n",
       "</div>"
      ],
      "text/plain": [
       "           PID  ST_NUM     ST_NAME OWN_OCCUPIED NUM_BEDROOMS NUM_BATH SQ_FT\n",
       "4          NaN   203.0    BERKELEY            Y            3        2  1600\n",
       "5  100006000.0   207.0    BERKELEY            Y          NaN        1   800\n",
       "6  100007000.0     NaN  WASHINGTON          NaN            2   HURLEY   950\n",
       "7  100008000.0   213.0     TREMONT            Y            1        1   NaN\n",
       "8  100009000.0   215.0     TREMONT            Y           na        2  1800"
      ]
     },
     "execution_count": 5,
     "metadata": {},
     "output_type": "execute_result"
    }
   ],
   "source": [
    "#viewing the last 5 rows\n",
    "data.tail()"
   ]
  },
  {
   "cell_type": "code",
   "execution_count": 6,
   "id": "3f343c18-75a2-4511-b8d5-5284e6b49526",
   "metadata": {
    "id": "3f343c18-75a2-4511-b8d5-5284e6b49526"
   },
   "outputs": [
    {
     "data": {
      "text/plain": [
       "(9, 7)"
      ]
     },
     "execution_count": 6,
     "metadata": {},
     "output_type": "execute_result"
    }
   ],
   "source": [
    "#Dataset shape\n",
    "data.shape"
   ]
  },
  {
   "cell_type": "code",
   "execution_count": 7,
   "id": "1ea4b4e4-c904-4bf7-9245-ee2052c8f0ae",
   "metadata": {
    "id": "1ea4b4e4-c904-4bf7-9245-ee2052c8f0ae",
    "scrolled": true
   },
   "outputs": [
    {
     "data": {
      "text/html": [
       "<div>\n",
       "<style scoped>\n",
       "    .dataframe tbody tr th:only-of-type {\n",
       "        vertical-align: middle;\n",
       "    }\n",
       "\n",
       "    .dataframe tbody tr th {\n",
       "        vertical-align: top;\n",
       "    }\n",
       "\n",
       "    .dataframe thead th {\n",
       "        text-align: right;\n",
       "    }\n",
       "</style>\n",
       "<table border=\"1\" class=\"dataframe\">\n",
       "  <thead>\n",
       "    <tr style=\"text-align: right;\">\n",
       "      <th></th>\n",
       "      <th>PID</th>\n",
       "      <th>ST_NUM</th>\n",
       "    </tr>\n",
       "  </thead>\n",
       "  <tbody>\n",
       "    <tr>\n",
       "      <th>count</th>\n",
       "      <td>8.000000e+00</td>\n",
       "      <td>7.000000</td>\n",
       "    </tr>\n",
       "    <tr>\n",
       "      <th>mean</th>\n",
       "      <td>1.000050e+08</td>\n",
       "      <td>191.428571</td>\n",
       "    </tr>\n",
       "    <tr>\n",
       "      <th>std</th>\n",
       "      <td>2.927700e+03</td>\n",
       "      <td>39.080503</td>\n",
       "    </tr>\n",
       "    <tr>\n",
       "      <th>min</th>\n",
       "      <td>1.000010e+08</td>\n",
       "      <td>104.000000</td>\n",
       "    </tr>\n",
       "    <tr>\n",
       "      <th>25%</th>\n",
       "      <td>1.000028e+08</td>\n",
       "      <td>199.000000</td>\n",
       "    </tr>\n",
       "    <tr>\n",
       "      <th>50%</th>\n",
       "      <td>1.000050e+08</td>\n",
       "      <td>203.000000</td>\n",
       "    </tr>\n",
       "    <tr>\n",
       "      <th>75%</th>\n",
       "      <td>1.000072e+08</td>\n",
       "      <td>210.000000</td>\n",
       "    </tr>\n",
       "    <tr>\n",
       "      <th>max</th>\n",
       "      <td>1.000090e+08</td>\n",
       "      <td>215.000000</td>\n",
       "    </tr>\n",
       "  </tbody>\n",
       "</table>\n",
       "</div>"
      ],
      "text/plain": [
       "                PID      ST_NUM\n",
       "count  8.000000e+00    7.000000\n",
       "mean   1.000050e+08  191.428571\n",
       "std    2.927700e+03   39.080503\n",
       "min    1.000010e+08  104.000000\n",
       "25%    1.000028e+08  199.000000\n",
       "50%    1.000050e+08  203.000000\n",
       "75%    1.000072e+08  210.000000\n",
       "max    1.000090e+08  215.000000"
      ]
     },
     "execution_count": 7,
     "metadata": {},
     "output_type": "execute_result"
    }
   ],
   "source": [
    "#Dataset basic analysis\n",
    "data.describe()"
   ]
  },
  {
   "cell_type": "code",
   "execution_count": null,
   "id": "hSOkA61rW0VM",
   "metadata": {
    "id": "hSOkA61rW0VM"
   },
   "outputs": [],
   "source": [
    "# to see data types\n",
    "data.dtypes"
   ]
  },
  {
   "cell_type": "markdown",
   "id": "0a09fecf-6af6-4fdc-883f-d5e200fb2d75",
   "metadata": {
    "id": "0a09fecf-6af6-4fdc-883f-d5e200fb2d75"
   },
   "source": [
    "* Note that Pandas library only recognizes NaN as the missing value. It skips other missing values, e.g. na, NULL and N/A. See the following solution to address this issue."
   ]
  },
  {
   "cell_type": "code",
   "execution_count": null,
   "id": "a5a7f245-083f-4098-85d0-d900c4376330",
   "metadata": {
    "id": "a5a7f245-083f-4098-85d0-d900c4376330"
   },
   "outputs": [],
   "source": [
    "# You can define a list to represent all missing values\n",
    "missing_values = [\"n/a\", \"na\", \"--\"]\n",
    "df = pd.read_csv(\"/content/drive/MyDrive/Colab-Notebooks/propertyData.csv\", na_values = missing_values)"
   ]
  },
  {
   "cell_type": "code",
   "execution_count": null,
   "id": "a3cc6ad7-cf9a-466c-9613-7425c6118f24",
   "metadata": {
    "id": "a3cc6ad7-cf9a-466c-9613-7425c6118f24"
   },
   "outputs": [],
   "source": [
    "# check data and df differences to see how na and -- became NaN\n",
    "df"
   ]
  },
  {
   "cell_type": "code",
   "execution_count": null,
   "id": "ecf2801b-2402-495d-be13-3a2aa4506020",
   "metadata": {
    "id": "ecf2801b-2402-495d-be13-3a2aa4506020"
   },
   "outputs": [],
   "source": [
    "print(df['NUM_BEDROOMS'])"
   ]
  },
  {
   "cell_type": "code",
   "execution_count": null,
   "id": "424754bb-4df1-48b0-8914-89af8b4003ef",
   "metadata": {
    "id": "424754bb-4df1-48b0-8914-89af8b4003ef"
   },
   "outputs": [],
   "source": [
    "print(df['NUM_BEDROOMS'].isnull())"
   ]
  },
  {
   "cell_type": "code",
   "execution_count": null,
   "id": "05c114ba-c6b6-4269-a652-3e886127afb0",
   "metadata": {
    "id": "05c114ba-c6b6-4269-a652-3e886127afb0"
   },
   "outputs": [],
   "source": [
    "print(df['OWN_OCCUPIED'])"
   ]
  },
  {
   "cell_type": "code",
   "execution_count": null,
   "id": "cea76adb-7564-4597-94b2-05188de9700d",
   "metadata": {
    "id": "cea76adb-7564-4597-94b2-05188de9700d"
   },
   "outputs": [],
   "source": [
    "# Looking at the OWN_OCCUPIED column\n",
    "print(df['OWN_OCCUPIED'].isnull())"
   ]
  },
  {
   "cell_type": "code",
   "execution_count": null,
   "id": "8395215d-dc5e-4d49-a77b-22b128a5bc08",
   "metadata": {
    "id": "8395215d-dc5e-4d49-a77b-22b128a5bc08"
   },
   "outputs": [],
   "source": [
    "#Showing total number of NaN values\n",
    "df.isnull().sum()"
   ]
  },
  {
   "cell_type": "code",
   "execution_count": null,
   "id": "44a9df7e-864a-49de-ad87-bb793f074bd6",
   "metadata": {
    "id": "44a9df7e-864a-49de-ad87-bb793f074bd6"
   },
   "outputs": [],
   "source": [
    "#Return true if any NaN values\n",
    "df.isnull().any()"
   ]
  },
  {
   "cell_type": "code",
   "execution_count": null,
   "id": "14881411-769c-4f31-af62-fc334587e957",
   "metadata": {
    "id": "14881411-769c-4f31-af62-fc334587e957"
   },
   "outputs": [],
   "source": [
    "#Total number of missing values - all table\n",
    "df.isnull().sum().sum()"
   ]
  },
  {
   "cell_type": "code",
   "execution_count": null,
   "id": "09e40600-3067-4533-906a-d99143f8c854",
   "metadata": {
    "id": "09e40600-3067-4533-906a-d99143f8c854"
   },
   "outputs": [],
   "source": [
    "# Replace missing values with any number\n",
    "df['ST_NUM'].fillna(111, inplace=True)"
   ]
  },
  {
   "cell_type": "code",
   "execution_count": null,
   "id": "1e0aa58f-5486-4a11-84f5-70b61671274b",
   "metadata": {
    "id": "1e0aa58f-5486-4a11-84f5-70b61671274b"
   },
   "outputs": [],
   "source": [
    "print(df)"
   ]
  },
  {
   "cell_type": "code",
   "execution_count": null,
   "id": "e06050d4-b8a8-45a3-b113-95a670e4172f",
   "metadata": {
    "id": "e06050d4-b8a8-45a3-b113-95a670e4172f"
   },
   "outputs": [],
   "source": [
    "# Location based replacement - 4th row in ST_NUM column\n",
    "df.loc[4,'ST_NUM'] = 125"
   ]
  },
  {
   "cell_type": "code",
   "execution_count": null,
   "id": "63194275-a26b-456f-a7bf-44380195d0a7",
   "metadata": {
    "id": "63194275-a26b-456f-a7bf-44380195d0a7"
   },
   "outputs": [],
   "source": [
    "print(df)"
   ]
  },
  {
   "cell_type": "code",
   "execution_count": null,
   "id": "99f9c0b7-a35f-43b3-a18d-37439c79aed5",
   "metadata": {
    "id": "99f9c0b7-a35f-43b3-a18d-37439c79aed5"
   },
   "outputs": [],
   "source": [
    "# Replace using median value\n",
    "median = df['NUM_BEDROOMS'].median()\n",
    "df['NUM_BEDROOMS'].fillna(median, inplace=True)"
   ]
  },
  {
   "cell_type": "code",
   "execution_count": null,
   "id": "72a618f2-e040-49f0-bde4-fef997e4d012",
   "metadata": {
    "id": "72a618f2-e040-49f0-bde4-fef997e4d012"
   },
   "outputs": [],
   "source": [
    "df"
   ]
  },
  {
   "cell_type": "code",
   "execution_count": null,
   "id": "8ada3702-0898-4554-ab30-5a37d81a3848",
   "metadata": {
    "id": "8ada3702-0898-4554-ab30-5a37d81a3848"
   },
   "outputs": [],
   "source": [
    "# If you want to drop \"any\" rows that contain NaN\n",
    "# If you set \"how\" to \"all\", then the row is dropped only when all values are NaN\n",
    "# Axis=0 is for dropping rows, Axis=1 is for dropping columns that contain NaN\n",
    "df=df.dropna(axis=0, how='any')\n",
    "print(df)"
   ]
  },
  {
   "cell_type": "code",
   "execution_count": null,
   "id": "7b1718d1-712b-490f-bf51-aa1040c7133b",
   "metadata": {
    "id": "7b1718d1-712b-490f-bf51-aa1040c7133b"
   },
   "outputs": [],
   "source": [
    "#Replace all Nan values with 1212, by default returns a copy of the dataFrame as inplace is set to False.\n",
    "df.fillna(1212)\n",
    "#Replace all NaN values with forward fill, with the values above it.\n",
    "df.ffill()\n",
    "#Replace all Nan values with backward fill, with the values below it.\n",
    "df.bfill()\n",
    "#Replace all values with interpolation, average below and above values only if they are additive.\n",
    "# You can check datatypes with \"df.dtypes\" and see why NaN values were not interpolated.\n",
    "df.interpolate()\n",
    "df.dtypes"
   ]
  },
  {
   "cell_type": "code",
   "execution_count": null,
   "id": "cf1eb636-5a72-4ec4-a8e4-4921ab16e081",
   "metadata": {
    "id": "cf1eb636-5a72-4ec4-a8e4-4921ab16e081"
   },
   "outputs": [],
   "source": [
    "# lets observe the datatypes for categorical features using df.dtypes\n",
    "df.dtypes\n",
    "# We know that there is a NaN value in OWN_OCCUPIED column\n",
    "from sklearn.impute import SimpleImputer\n",
    "import pandas as pdx\n",
    "imputer = SimpleImputer(strategy='most_frequent')\n",
    "dataarray=imputer.fit_transform(df['OWN_OCCUPIED'].to_numpy().reshape(-1, 1))\n",
    "print(dataarray)\n",
    "#dfconvert=pdx.DataFrame(dataarray,columns=['PID',\t'ST_NUM',\t'ST_NAME',\t'OWN_OCCUPIED',\t'NUM_BEDROOMS',\t'NUM_BATH',\t'SQ_FT'])\n",
    "dfconvert=pdx.DataFrame(dataarray,columns=['OWN_OCCUPIED'])\n",
    "print(dfconvert)\n",
    "print(df)\n",
    "# Missing value is imputed with 'Y'"
   ]
  },
  {
   "cell_type": "code",
   "execution_count": null,
   "id": "b175029d-367a-400f-9a62-885902da9269",
   "metadata": {
    "id": "b175029d-367a-400f-9a62-885902da9269"
   },
   "outputs": [],
   "source": [
    "#Imputing missing values using Sci-kit library\n",
    "#SimpleImputer is used for Univariate approach considering a single feature.\n",
    "#There are other methods, such as KNNImputer/IterativeImputer, which can be used for Multivariate and Nearest Neighbours Imputations.\n",
    "from sklearn.impute import SimpleImputer\n",
    "import pandas as pdy\n",
    "imp = SimpleImputer(missing_values=np.nan, strategy='mean')\n",
    "idf=pdy.DataFrame(imp.fit_transform(df['SQ_FT'].to_numpy().reshape(-1,1)))\n",
    "print(idf)\n",
    "print(df)"
   ]
  },
  {
   "cell_type": "code",
   "execution_count": null,
   "id": "18d16a0a-a9c1-4bbb-be34-f31848fa1414",
   "metadata": {
    "id": "18d16a0a-a9c1-4bbb-be34-f31848fa1414"
   },
   "outputs": [],
   "source": [
    "# Can you now integrate the idf data int df by replacing the SQ_FT column?\n",
    "df['SQ_FT']=idf[0]\n",
    "print(df)"
   ]
  },
  {
   "cell_type": "code",
   "execution_count": null,
   "id": "5ca2e7b3-d489-4908-8bb4-18882946af02",
   "metadata": {
    "id": "5ca2e7b3-d489-4908-8bb4-18882946af02"
   },
   "outputs": [],
   "source": [
    "df3 = pd.DataFrame(\n",
    "    {\n",
    "        \"A\": [\"A0\", \"A1\", \"A2\", \"A3\"],\n",
    "        \"B\": [\"B0\", \"B1\", \"B2\", \"B3\"],\n",
    "        \"C\": [\"C0\", \"C1\", \"C2\", \"C3\"],\n",
    "        \"D\": [\"D0\", \"D1\", \"D2\", \"D3\"],\n",
    "    },\n",
    "    index=[0, 1, 2, 3],\n",
    ")\n",
    "\n",
    "df4 = pd.DataFrame(\n",
    "    {\n",
    "        \"A\": [\"A4\", \"A5\", \"A6\", \"A7\"],\n",
    "        \"B\": [\"B4\", \"B5\", \"B6\", \"B7\"],\n",
    "        \"C\": [\"C4\", \"C5\", \"C6\", \"C7\"],\n",
    "        \"D\": [\"D4\", \"D5\", \"D6\", \"D7\"],\n",
    "    },\n",
    "    index=[4, 5, 6, 7],\n",
    ")\n",
    "\n",
    "result = pd.concat([df3,df4], axis=0, join=\"outer\") # axis 1 refers to column, 0 refers to row # join=outer (union) by default and inner (intersection)\n",
    "result\n"
   ]
  },
  {
   "cell_type": "code",
   "execution_count": null,
   "id": "152cfccf-1555-4f61-a4e7-ac22ad1f53f8",
   "metadata": {
    "id": "152cfccf-1555-4f61-a4e7-ac22ad1f53f8"
   },
   "outputs": [],
   "source": [
    "d2 = {'Name': ['Lily', 'Meghna', 'Lisa'], 'Country': ['UK', 'India', 'USA'], 'Role': ['CEO', 'CTO', 'CTO']}\n",
    "df6 = pd.DataFrame(d2)\n",
    "#display(df6)\n",
    "#print('DataFrame 1:\\n', df6)\n",
    "df7 = pd.DataFrame({'ID': [1, 2, 3], 'Name': ['Lily', 'Eric', 'Johanna']})\n",
    "#display(df7)\n",
    "#print('DataFrame 2:\\n', df7)\n",
    "\n",
    "df_merged = df6.merge(df7) #default merging - inner join\n",
    "#print('Result:\\n', df_merged)\n",
    "df_merged"
   ]
  },
  {
   "cell_type": "code",
   "execution_count": null,
   "id": "8d9fefeb-8eba-4f31-a2d7-4ae9c0a08298",
   "metadata": {
    "id": "8d9fefeb-8eba-4f31-a2d7-4ae9c0a08298"
   },
   "outputs": [],
   "source": [
    "print('Result Left Join:\\n', df6.merge(df7, how='left'))"
   ]
  },
  {
   "cell_type": "code",
   "execution_count": null,
   "id": "a94d0cc1-55e6-4456-9076-f34f4414b8a8",
   "metadata": {
    "id": "a94d0cc1-55e6-4456-9076-f34f4414b8a8"
   },
   "outputs": [],
   "source": [
    "print('Result Right Join:\\n', df6.merge(df7, how='right'))"
   ]
  },
  {
   "cell_type": "code",
   "execution_count": null,
   "id": "bb4943e2-eba1-4da4-89f1-8224e4045a2e",
   "metadata": {
    "id": "bb4943e2-eba1-4da4-89f1-8224e4045a2e"
   },
   "outputs": [],
   "source": [
    "#print('Result Outer Join:\\n', df6.merge(df7, how='outer'))\n",
    "df_merged=df6.merge(df7, how='outer')\n",
    "df_merged"
   ]
  }
 ],
 "metadata": {
  "colab": {
   "provenance": []
  },
  "kernelspec": {
   "display_name": "Python 3",
   "language": "python",
   "name": "python3"
  },
  "language_info": {
   "codemirror_mode": {
    "name": "ipython",
    "version": 3
   },
   "file_extension": ".py",
   "mimetype": "text/x-python",
   "name": "python",
   "nbconvert_exporter": "python",
   "pygments_lexer": "ipython3",
   "version": "3.10.11"
  }
 },
 "nbformat": 4,
 "nbformat_minor": 5
}
