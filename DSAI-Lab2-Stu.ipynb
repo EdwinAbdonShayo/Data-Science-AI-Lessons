{
 "cells": [
  {
   "cell_type": "markdown",
   "id": "678c00a6-3a4d-4960-bb5f-0dbd6157d33e",
   "metadata": {
    "id": "678c00a6-3a4d-4960-bb5f-0dbd6157d33e"
   },
   "source": [
    "# Week-2 Lab session includes two separate tasks, in summary;\n",
    "1) To apply the learnt concept in the class to a new dataset.\n",
    "2) To implement data integration using merge() function. This is particularly a good practice for data manipulation as we need to create new data columns that are generated using other data columns.\n",
    "\n",
    "**Details to be found in the following cells.**\n",
    "\n",
    "**You are expected to create new cells as much as you think you need to.**"
   ]
  },
  {
   "cell_type": "code",
   "execution_count": 1,
   "id": "XFkxMksym-Wn",
   "metadata": {
    "colab": {
     "base_uri": "https://localhost:8080/"
    },
    "executionInfo": {
     "elapsed": 23685,
     "status": "ok",
     "timestamp": 1736338452660,
     "user": {
      "displayName": "halil yetgin",
      "userId": "16185651141288243520"
     },
     "user_tz": 0
    },
    "id": "XFkxMksym-Wn",
    "outputId": "ac057572-8405-427b-a6d1-dd6d7e66dc51"
   },
   "outputs": [
    {
     "name": "stdout",
     "output_type": "stream",
     "text": [
      "Mounted at /content/drive\n"
     ]
    }
   ],
   "source": [
    "from google.colab import drive\n",
    "drive.mount('/content/drive')"
   ]
  },
  {
   "cell_type": "markdown",
   "id": "6d4b60f8-2504-402b-b3fc-42e5a33e4cf7",
   "metadata": {
    "id": "6d4b60f8-2504-402b-b3fc-42e5a33e4cf7"
   },
   "source": [
    "# 1) Apply what you have learnt in the class, starting from *tail()* and *head()* functions till **Data Integration slide (excluding)** using **testdata.csv** file. Make sure to apply all functions/methods we have covered during demonstrations. You can also check the self-study notebook file for help."
   ]
  },
  {
   "cell_type": "code",
   "execution_count": null,
   "id": "ab0ed330-3ddf-4c63-aba8-e6d153ffd996",
   "metadata": {
    "id": "ab0ed330-3ddf-4c63-aba8-e6d153ffd996"
   },
   "outputs": [],
   "source": [
    "# First thing to do is to import required libraries\n"
   ]
  },
  {
   "cell_type": "code",
   "execution_count": null,
   "id": "5c5c4bee-c4b2-4202-92aa-d325df277527",
   "metadata": {
    "id": "5c5c4bee-c4b2-4202-92aa-d325df277527"
   },
   "outputs": [],
   "source": [
    "# Start by reading from testdata.csv file\n"
   ]
  },
  {
   "cell_type": "code",
   "execution_count": null,
   "id": "e7cb2f3d-f8bc-4934-9208-5599add4e708",
   "metadata": {
    "id": "e7cb2f3d-f8bc-4934-9208-5599add4e708"
   },
   "outputs": [],
   "source": [
    "# Continue with the demonstration order as shown in the concept slides as well as in the self-study notebook file.\n"
   ]
  },
  {
   "cell_type": "markdown",
   "id": "edd6ed23-7b2c-4e47-abda-13e6af1c9c70",
   "metadata": {
    "id": "edd6ed23-7b2c-4e47-abda-13e6af1c9c70"
   },
   "source": [
    "# 2) Data integration using **merge()** function"
   ]
  },
  {
   "cell_type": "code",
   "execution_count": null,
   "id": "b03471a4-2a48-48e0-a93d-4c0d1b7de34a",
   "metadata": {
    "id": "b03471a4-2a48-48e0-a93d-4c0d1b7de34a"
   },
   "outputs": [],
   "source": [
    "# Import libraries (pandas) as required\n",
    "\n",
    "# Reading data from CSV files, create df_sales from sales.csv, df_customers from customers.csv, df_products from products.csv, df_shippings from shippings.csv\n",
    "df_sales =\n",
    "df_customers =\n",
    "df_products =\n",
    "df_shippings ="
   ]
  },
  {
   "cell_type": "code",
   "execution_count": null,
   "id": "086229d2-fc4b-4d35-8bd0-c2aca2edf5b2",
   "metadata": {
    "id": "086229d2-fc4b-4d35-8bd0-c2aca2edf5b2"
   },
   "outputs": [],
   "source": [
    "# Create df_merged dataframe by performing merge() operation to sales_df from customers_df based on Customer_ID using left join\n",
    "df_merged =\n"
   ]
  },
  {
   "cell_type": "code",
   "execution_count": null,
   "id": "641294d7-b83f-4669-be79-6c6e68946c82",
   "metadata": {
    "id": "641294d7-b83f-4669-be79-6c6e68946c82"
   },
   "outputs": [],
   "source": [
    "# Get Year-Month and Quarter data from the Date column.\n",
    "# Check online on to_datetime() function and run/observe following codes.\n",
    "df_merged['YearMonth'] = pd.to_datetime(df_merged['Date']).dt.to_period('M')\n",
    "df_merged['Quarter'] = pd.to_datetime(df_merged['Date']).dt.quarter\n",
    "df_merged"
   ]
  },
  {
   "cell_type": "code",
   "execution_count": null,
   "id": "b5b11c19-419b-4ea3-b4dd-2901b522cecf",
   "metadata": {
    "id": "b5b11c19-419b-4ea3-b4dd-2901b522cecf"
   },
   "outputs": [],
   "source": [
    "# Merge with products data based on Product column using left join\n",
    "df_merged ="
   ]
  },
  {
   "cell_type": "code",
   "execution_count": null,
   "id": "5f869ec3-2f40-470f-8640-39a2457a4df4",
   "metadata": {
    "id": "5f869ec3-2f40-470f-8640-39a2457a4df4"
   },
   "outputs": [],
   "source": [
    "# Merge with shippings data based on Order_ID column using left join\n",
    "df_merged ="
   ]
  },
  {
   "cell_type": "code",
   "execution_count": null,
   "id": "53fa6e63-ebb5-4106-8971-0381f7698540",
   "metadata": {
    "id": "53fa6e63-ebb5-4106-8971-0381f7698540"
   },
   "outputs": [],
   "source": [
    "# Challenging Part!\n",
    "# Calculate a new discounted amount column based on customer Segment, Loyalty_Level,\n",
    "# and Dynamic Pricing (using Base Price and Popularity_Score)\n",
    "# Details can be found below\n",
    "\n",
    "# As an example, Segment_Discount is provided below.\n",
    "# Customer Segment Discount is defined as: Gold customer receives 10%, Silver customer receives 5% segment discount. Others do not receive.\n",
    "df_merged['Segment_Discount'] = df_merged.apply(\n",
    "    lambda row: 0.1 if row['Segment'] == 'Gold'\n",
    "    else (0.05 if row['Segment'] == 'Silver' else 0),\n",
    "    axis=1\n",
    ")\n",
    "\n",
    "# Loyalty Discount is defined as: Platinium customer receives 15%,\n",
    "# Gold customer receives 10% loyalty discount. Others do not receive.\n",
    "df_merged['Loyalty_Discount'] =\n",
    "\n",
    "# Dynamic pricing is defined by Base_Price*(0.01*Popularity_Score)\n",
    "df_merged['Dynamic_Pricing'] =\n",
    "\n",
    "# Final Discounted_Amount before shipping is calculated by \"Amount*(1-Discount-Segment_Discount-Loyalty_Discount)-Dynamic_Pricing\"\n",
    "df_merged['Discounted_Amount'] ="
   ]
  },
  {
   "cell_type": "code",
   "execution_count": null,
   "id": "81ae143f-b563-4801-ac73-64179a08da5e",
   "metadata": {
    "id": "81ae143f-b563-4801-ac73-64179a08da5e"
   },
   "outputs": [],
   "source": [
    "# Total cost including shipping cost is calculated as follows:\n",
    "df_merged['Total_Cost'] = df_merged['Discounted_Amount'] + df_merged['Shipping_Cost']\n",
    "df_merged"
   ]
  },
  {
   "cell_type": "code",
   "execution_count": null,
   "id": "4aea8ec7-6a68-4ef4-8c2c-37388049ed6f",
   "metadata": {
    "id": "4aea8ec7-6a68-4ef4-8c2c-37388049ed6f"
   },
   "outputs": [],
   "source": [
    "# Please observe how to print the final data colums with customer names in the first column. You can play with the columns and final file. Open the file manually and see what you got.\n",
    "final_df = df_merged[['Customer_Name', 'Order_ID', 'Date', 'Product', 'Amount', 'Region', 'Gender', 'Age', 'Segment', 'Loyalty_Level', 'Category', 'Base_Price', 'Discount', 'Supplier', 'Popularity_Score', 'Shipping_Cost', 'Shipping_Method', 'Shipping_Region', 'Discounted_Amount', 'Total_Cost']]\n",
    "print(final_df)\n",
    "# Write into a .csv file\n",
    "final_df.to_csv('final_data.csv')"
   ]
  }
 ],
 "metadata": {
  "colab": {
   "provenance": []
  },
  "kernelspec": {
   "display_name": "Python 3 (ipykernel)",
   "language": "python",
   "name": "python3"
  },
  "language_info": {
   "codemirror_mode": {
    "name": "ipython",
    "version": 3
   },
   "file_extension": ".py",
   "mimetype": "text/x-python",
   "name": "python",
   "nbconvert_exporter": "python",
   "pygments_lexer": "ipython3",
   "version": "3.11.7"
  }
 },
 "nbformat": 4,
 "nbformat_minor": 5
}
