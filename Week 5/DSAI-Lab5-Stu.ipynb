{
  "cells": [
    {
      "cell_type": "markdown",
      "id": "d6276cad-2b6a-4378-af30-cd0ca644de3a",
      "metadata": {
        "id": "d6276cad-2b6a-4378-af30-cd0ca644de3a"
      },
      "source": [
        "## Week-5 Lab - Logistic Regression and Random Forest Model Development (Classification)\n",
        "1) We will create a logistic regression model that will predict whether or not a user will click on an ad, based on the given features. As this is a binary classification problem, a logistic regression model is well suited here.\n",
        "\n",
        "2) There is also a more challenging approach to this problem using random forest.\n",
        "\n",
        "**Details to be found in the following cells.**\n",
        "\n",
        "**You are expected to create new cells as much as you think you need to.**\n",
        "\n",
        "Dataset is available at: https://www.kaggle.com/datasets/debdyutidas/advertisingcsv"
      ]
    },
    {
      "cell_type": "code",
      "source": [
        "from google.colab import drive\n",
        "drive.mount('/content/drive')"
      ],
      "metadata": {
        "colab": {
          "base_uri": "https://localhost:8080/"
        },
        "id": "rx3cYH0YEImr",
        "outputId": "849072b7-9ffd-4520-fc86-573153cd63b4"
      },
      "id": "rx3cYH0YEImr",
      "execution_count": 1,
      "outputs": [
        {
          "output_type": "stream",
          "name": "stdout",
          "text": [
            "Mounted at /content/drive\n"
          ]
        }
      ]
    },
    {
      "cell_type": "code",
      "execution_count": null,
      "id": "0781872d-aa48-463e-a86d-35d79a54e6d0",
      "metadata": {
        "id": "0781872d-aa48-463e-a86d-35d79a54e6d0"
      },
      "outputs": [],
      "source": [
        "# Please conduct exploratory data analysis and preprocessing as required. You can follow the steps in our previous workshops and laboratory works.\n",
        "# Remember that the focus in this session is to build a classification model.\n",
        "import pandas as pd\n",
        "import numpy as np\n",
        "import seaborn as sns\n",
        "import matplotlib.pyplot as plt\n",
        "\n",
        "# Load data to ad_data variable\n",
        "\n",
        "ad_data = pd.read_csv('dataset/advertising.csv')\n",
        "ad_data\n"
      ]
    },
    {
      "cell_type": "markdown",
      "id": "61b939ff-66fa-45c6-a9ad-f6dbe265999f",
      "metadata": {
        "id": "61b939ff-66fa-45c6-a9ad-f6dbe265999f"
      },
      "source": [
        "## Model building"
      ]
    },
    {
      "cell_type": "markdown",
      "id": "2dee7484-c317-4392-8bd1-4262f366d709",
      "metadata": {
        "id": "2dee7484-c317-4392-8bd1-4262f366d709"
      },
      "source": [
        "Let us split the data into training set and testing set using train_test_split, but first, let’s convert\n",
        "the ‘Country’ feature to an acceptable form for the model Country is a categorical string and we need to find a way to feed this imporant piece of information into the model.\n"
      ]
    },
    {
      "cell_type": "markdown",
      "id": "62f9c1d4-2bea-48ee-897a-2eec2fbac275",
      "metadata": {
        "id": "62f9c1d4-2bea-48ee-897a-2eec2fbac275"
      },
      "source": [
        "It is easy to drop this feature but this means we need to sacrifice an important piece of information for the model to perform more realistic.\n",
        "We can convert the categorical feature into [dummy variables](https://pandas.pydata.org/pandas-docs/stable/reference/api/pandas.get_dummies.html) using pandas.\n",
        "\n",
        "* We convert categorical features into dummy variables (also called one-hot encoding) because machine learning models work with numerical data and can't directly process categories or labels as inputs."
      ]
    },
    {
      "cell_type": "code",
      "execution_count": null,
      "id": "acafd263-c32d-432a-a3a7-a73c8f143308",
      "metadata": {
        "id": "acafd263-c32d-432a-a3a7-a73c8f143308"
      },
      "outputs": [],
      "source": [
        "# Create countries dummy variable using Country column. Student needs to search about dummy variable.\n",
        "# How to create dummy variables? And why do we need them? Search for simple examples.\n",
        "# Then run the available code cells below and understand how the data operations are done.\n",
        "ad_data.columns\n",
        "countries = pd.get_dummies(ad_data['Country'],drop_first=True)"
      ]
    },
    {
      "cell_type": "code",
      "execution_count": null,
      "id": "4468c60d-7971-4a0c-a005-4d417a5c510e",
      "metadata": {
        "id": "4468c60d-7971-4a0c-a005-4d417a5c510e"
      },
      "outputs": [],
      "source": [
        "# Concatenating dummy variables with the original dataset, and dropping other features (repetitive ones).\n",
        "ad_data = pd.concat([ad_data,countries],axis=1)\n",
        "ad_data.drop(['Country','Ad Topic Line','City','Timestamp'],axis=1,inplace=True)"
      ]
    },
    {
      "cell_type": "code",
      "execution_count": null,
      "id": "2f6a0639-833c-485d-b6e5-b8fac0c22227",
      "metadata": {
        "id": "2f6a0639-833c-485d-b6e5-b8fac0c22227"
      },
      "outputs": [],
      "source": [
        "# Allocate and assign the variables apropriately and prepare for fitting training data\n",
        "# X = Everything else exept the 'Clicked on Ad' column, y= 'Clicked on Ad'.\n",
        "X =\n",
        "y ="
      ]
    },
    {
      "cell_type": "code",
      "execution_count": null,
      "id": "ce1c2238-22d4-4762-81ea-0dfb5587c22b",
      "metadata": {
        "id": "ce1c2238-22d4-4762-81ea-0dfb5587c22b"
      },
      "outputs": [],
      "source": [
        "#  Split the dataset apropriately test being 30% of the dataset.\n"
      ]
    },
    {
      "cell_type": "code",
      "execution_count": null,
      "id": "4f832c57-6cd0-43c6-84e0-b41a037316b5",
      "metadata": {
        "id": "4f832c57-6cd0-43c6-84e0-b41a037316b5"
      },
      "outputs": [],
      "source": [
        "# Train the model using logistic regression\n"
      ]
    },
    {
      "cell_type": "markdown",
      "id": "05da9e6b-2a6a-40a3-ad0c-e4c3cb843ab3",
      "metadata": {
        "id": "05da9e6b-2a6a-40a3-ad0c-e4c3cb843ab3"
      },
      "source": [
        "## Predictions and Evaluations"
      ]
    },
    {
      "cell_type": "code",
      "execution_count": null,
      "id": "8c94a86c-581f-4bd2-93be-aebe68d15bad",
      "metadata": {
        "id": "8c94a86c-581f-4bd2-93be-aebe68d15bad"
      },
      "outputs": [],
      "source": [
        "# Get the prediction results\n"
      ]
    },
    {
      "cell_type": "markdown",
      "id": "c77592f6-1e51-413e-a9e6-865567809384",
      "metadata": {
        "id": "c77592f6-1e51-413e-a9e6-865567809384"
      },
      "source": [
        "## Classification report"
      ]
    },
    {
      "cell_type": "markdown",
      "id": "6864e5d3-95dd-4cc1-9609-df744a2d586d",
      "metadata": {
        "id": "6864e5d3-95dd-4cc1-9609-df744a2d586d"
      },
      "source": [
        "**Precision** and recall are two important metrics used to evaluate the performance of a classification\n",
        "model. Precision measures the proportion of positive predictions that are actually true positive. In\n",
        "other words, it is the ratio of true positive predictions to the total number of positive predictions.\n",
        "A high precision indicates that the model is making accurate positive predictions."
      ]
    },
    {
      "cell_type": "markdown",
      "id": "d1d1c183-51a4-4335-beff-01eb6d30c918",
      "metadata": {
        "id": "d1d1c183-51a4-4335-beff-01eb6d30c918"
      },
      "source": [
        "**Recall** measures the proportion of actual positive cases that are correctly identified by the model. In other words, it is the ratio of true positive predictions to the total number of actual positive cases. A high recall indicates that the model is effectively identifying positive cases."
      ]
    },
    {
      "cell_type": "code",
      "execution_count": null,
      "id": "1d343143-1771-4954-9c32-786889857e93",
      "metadata": {
        "id": "1d343143-1771-4954-9c32-786889857e93"
      },
      "outputs": [],
      "source": [
        "# How well the prediction is made? Check with classification report.\n",
        "from sklearn.metrics import classification_report\n"
      ]
    },
    {
      "cell_type": "code",
      "execution_count": null,
      "id": "2c3dc21d-8357-4193-90a3-0eb7c618ff9c",
      "metadata": {
        "id": "2c3dc21d-8357-4193-90a3-0eb7c618ff9c"
      },
      "outputs": [],
      "source": [
        "# Print the confusion matrix for the predictions and actual values.\n",
        "import seaborn as sns\n",
        "from sklearn.metrics import confusion_matrix\n"
      ]
    },
    {
      "cell_type": "code",
      "execution_count": null,
      "id": "30041684-d0e1-46fb-b1a8-9e0895f27465",
      "metadata": {
        "id": "30041684-d0e1-46fb-b1a8-9e0895f27465"
      },
      "outputs": [],
      "source": [
        "# By means of using the confusion matrix, can you work out the accuracy, precision, recall, F1-Score values for each classes by pen and paper?\n",
        "# Compare your findings in the classification report results. It is important to see which class you are taking as the true class (1 (click-on-ad) or 0 (no-click)) and understand how the precision/recall calculations are affected.\n",
        "# Hint: Look at your slides."
      ]
    },
    {
      "cell_type": "markdown",
      "source": [
        "# 2) Random Forest\n",
        "## Challenge - Use the same X and y sets to train a Random Forest model"
      ],
      "metadata": {
        "id": "ZsRwVpPouaVj"
      },
      "id": "ZsRwVpPouaVj"
    },
    {
      "cell_type": "code",
      "source": [
        "# Train a model using random forest, a tree-based model, with default parameters. Do not forget to import RandomForestClassifier from Sklearn.\n",
        "# First, search for how to import random forest classifier from sklearn.\n",
        "# Make sure to use new variable names for the model and the prediction outcomes.\n"
      ],
      "metadata": {
        "id": "23-Yc57owgDq"
      },
      "id": "23-Yc57owgDq",
      "execution_count": null,
      "outputs": []
    },
    {
      "cell_type": "markdown",
      "source": [
        "## What did you observe from classification report? Is the performance better or worse compared to logistic regression? Any surprises?\n",
        "\n",
        "*   The performance is 2-3 percentage points is lower compared to logistic regression. Is it surprising? We will come to that later."
      ],
      "metadata": {
        "id": "FYftLhsMwiqF"
      },
      "id": "FYftLhsMwiqF"
    },
    {
      "cell_type": "code",
      "source": [
        "# Import libraries for RandomizedSearchCV, randint, confusion_matrix, ConfusionMatrixDisplay\n",
        "from sklearn.metrics import accuracy_score, confusion_matrix, precision_score, recall_score, ConfusionMatrixDisplay\n",
        "from sklearn.model_selection import RandomizedSearchCV, train_test_split\n",
        "from scipy.stats import randint\n",
        "\n",
        "# Tree Visualisation\n",
        "from sklearn.tree import export_graphviz\n",
        "from IPython.display import Image\n",
        "import graphviz"
      ],
      "metadata": {
        "id": "RzpZ6H0hw0XS"
      },
      "id": "RzpZ6H0hw0XS",
      "execution_count": null,
      "outputs": []
    },
    {
      "cell_type": "code",
      "source": [
        "# Create the confusion matrix for the above prediction using random forest\n"
      ],
      "metadata": {
        "id": "oT75xRJ4w4Yc"
      },
      "id": "oT75xRJ4w4Yc",
      "execution_count": null,
      "outputs": []
    },
    {
      "cell_type": "markdown",
      "source": [
        "## Can you comment on the confusion matrix based on True Class=1. What is your observations for TP, TN, FN and FP? Compare these findings to logistic regression and comment on your findings.\n",
        "\n",
        "## This is actually a good performance. However, we may be able to get a better performance by optimizing our hyperparameters. Let us see if this can actually help for this problem set.\n"
      ],
      "metadata": {
        "id": "yh8cud13xAoj"
      },
      "id": "yh8cud13xAoj"
    },
    {
      "cell_type": "code",
      "source": [
        "# You can export the first three decision trees from the forest and visualise using export_graphviz.\n",
        "# Please search online and see how you can implement this. Observe your features and how they were represented at the tree-based structure.\n",
        "\n"
      ],
      "metadata": {
        "id": "QZ5HbeqsxKT7"
      },
      "id": "QZ5HbeqsxKT7",
      "execution_count": null,
      "outputs": []
    },
    {
      "cell_type": "markdown",
      "source": [
        "# Can you explain what do the boxes and the values on it indicate? Can you relate this to how a decision is made? There will be a discussion on this during the drop-in session, not to be missed!"
      ],
      "metadata": {
        "id": "R97lXtjaxOXJ"
      },
      "id": "R97lXtjaxOXJ"
    },
    {
      "cell_type": "markdown",
      "source": [
        "# Hyperparameter Tuning: Can you find the best hyperparameter values for random forest model using RandomizedSearchCV? Please use n_estimators and max_depth, and decide on a range for these two hyperparameters.\n",
        "\n",
        "## We are using RandomizedSearchCV to search for the best hyperparameter values within a range. We can define the hyperparameters to use and their range in the param_dist dictionary.\n",
        "- n_estimators: the number of decision trees in the forest. Say this is 5, then there will be 5 decision trees created using random features to make a final aggregated decision once a new observation has arrived to the model to click or not to click an ad.\n",
        "- max_depth: the maximum depth of each decision tree in the forest. This indicates how many decision layers you can have per decision tree (n_estimators).\n",
        "- RandomizedSearchCV will train many models (defined by n_iter_ and save each one as variables)."
      ],
      "metadata": {
        "id": "v-WNEBvGxWsz"
      },
      "id": "v-WNEBvGxWsz"
    },
    {
      "cell_type": "code",
      "source": [
        "# Create the param_dist dictionary for the two hyperparameters with a range.\n",
        "\n",
        "\n",
        "# Create a new random forest classifier, maybe a name like: rf_model_hp\n",
        "\n",
        "# Use RandomizedSearchCV to find the best hyperparameters\n",
        "\n",
        "\n",
        "# Fit the RandomizedSearchCV object to the training data again.\n"
      ],
      "metadata": {
        "id": "9aAUGiDKxf9T"
      },
      "id": "9aAUGiDKxf9T",
      "execution_count": null,
      "outputs": []
    },
    {
      "cell_type": "code",
      "source": [
        "# Create a variable for the best model, e.g., best_rf is nice variable name.\n",
        "\n",
        "# Print the best hyperparameters, you will see that each model run (running above cell) may generate a different hyperparameter value.\n"
      ],
      "metadata": {
        "id": "Q84Cgmu-xkj8"
      },
      "id": "Q84Cgmu-xkj8",
      "execution_count": null,
      "outputs": []
    },
    {
      "cell_type": "code",
      "source": [
        "# Use the best_rf and generate predictions with the best model\n",
        "\n",
        "\n",
        "# Create the confusion matrix for the improved-hyperparameter model\n"
      ],
      "metadata": {
        "id": "s5STWGkcxnKC"
      },
      "id": "s5STWGkcxnKC",
      "execution_count": null,
      "outputs": []
    },
    {
      "cell_type": "markdown",
      "source": [
        "# Share your observations compared to the previous random forest model.\n",
        "- Did you see any improvements in the performance of the model when the best hyperparameter values are applied.\n",
        "- It is expected that different colab sessions will produce different values but highly likely with similar conclusions if not the same! So it is important that you interprete these results on your own and then show your results to a friend next to you and see what they got so that you can discuss."
      ],
      "metadata": {
        "id": "baEwTGauxvDy"
      },
      "id": "baEwTGauxvDy"
    },
    {
      "cell_type": "code",
      "source": [
        "# Finally, can you now create a series containing feature importances from the model and feature names from the training data\n",
        "# Compute feature importances using pd.Series() function\n",
        "\n",
        "# Set threshold for importance (e.g., features with importance > 0.005)\n",
        "\n",
        "\n",
        "# Plot a simple bar chart for the important features only!\n"
      ],
      "metadata": {
        "id": "vcBWcuB7x0c5"
      },
      "id": "vcBWcuB7x0c5",
      "execution_count": null,
      "outputs": []
    },
    {
      "cell_type": "markdown",
      "source": [
        "# Wrap-up\n",
        "- We have developed a logistic regression model on a simple dataset to predict whether a person will click on an ad (classification problem).\n",
        "- We then developed a random forest model and compared the findings to logistic regression. Random forest performed sligtly worse performance compared to logistic regression\n",
        "  - Normally, our expectation is that random forest should perform better. Why do you think it was not the case? Let us discuss this during the drop-in session.\n",
        "- We visualised decision-trees and practised on finding the best hyperparameter values.\n",
        "  - We still observed that only a slightly improvement was achieved, in some cases maybe no improvements were observed.\n",
        "- We interpreted the confusion matrix results and worked out the precision/recall calculations and compared our findings to the classification_report's.\n",
        "- Finally, we printed the most important features above a certain threshold."
      ],
      "metadata": {
        "id": "JGYTRcB8x-Kx"
      },
      "id": "JGYTRcB8x-Kx"
    }
  ],
  "metadata": {
    "kernelspec": {
      "display_name": "Python 3 (ipykernel)",
      "language": "python",
      "name": "python3"
    },
    "language_info": {
      "codemirror_mode": {
        "name": "ipython",
        "version": 3
      },
      "file_extension": ".py",
      "mimetype": "text/x-python",
      "name": "python",
      "nbconvert_exporter": "python",
      "pygments_lexer": "ipython3",
      "version": "3.11.7"
    },
    "colab": {
      "provenance": []
    }
  },
  "nbformat": 4,
  "nbformat_minor": 5
}