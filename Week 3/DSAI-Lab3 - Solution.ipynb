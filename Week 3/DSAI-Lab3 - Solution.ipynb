{
  "cells": [
    {
      "cell_type": "markdown",
      "id": "678c00a6-3a4d-4960-bb5f-0dbd6157d33e",
      "metadata": {
        "id": "678c00a6-3a4d-4960-bb5f-0dbd6157d33e"
      },
      "source": [
        "# Week-3 Lab includes a business case with what we have learnt during the class. We need to find out what variables have a strong correlation to customer charges so that the insurance company can decide on a fair premium.\n",
        "\n",
        "**Details to be found in the following cells.**\n",
        "\n",
        "**You are expected to create new cells as much as you think you need to.**"
      ]
    },
    {
      "cell_type": "markdown",
      "id": "edd6ed23-7b2c-4e47-abda-13e6af1c9c70",
      "metadata": {
        "id": "edd6ed23-7b2c-4e47-abda-13e6af1c9c70"
      },
      "source": [
        "* **Business case:** Determine the variables having the strongest correlation to customer charges so that insurance company can decide on the amount they can fairly charge while being able to sustain the business. If the correlation is estimated wrongly, it can be detrimental for the company.\n",
        "\n",
        "Adopted from https://www.kaggle.com/datasets/mirichoi0218/insurance\n",
        "\n",
        "**Please follow each cell below in order, answer the questions and execute the tasks.** You can generate as much cell as you require to execute the tasks."
      ]
    },
    {
      "cell_type": "markdown",
      "id": "9ba82aef-310b-4524-9845-b65a526a9d30",
      "metadata": {
        "id": "9ba82aef-310b-4524-9845-b65a526a9d30"
      },
      "source": [
        "Im summary, this part will require you to implement the following taks.\n",
        "- Explore data\n",
        "- Preprocess data\n",
        "- Visualise data\n",
        "- Conclude"
      ]
    },
    {
      "cell_type": "markdown",
      "id": "6d4f2239-e112-4a0a-be10-a7489cc6cb90",
      "metadata": {
        "id": "6d4f2239-e112-4a0a-be10-a7489cc6cb90"
      },
      "source": [
        "**Explore data**"
      ]
    },
    {
      "cell_type": "code",
      "execution_count": null,
      "id": "ab0ed330-3ddf-4c63-aba8-e6d153ffd996",
      "metadata": {
        "id": "ab0ed330-3ddf-4c63-aba8-e6d153ffd996"
      },
      "outputs": [],
      "source": [
        "#Import libraries for numpy, pandas, matplotlib, seaborn\n",
        "import numpy as np # linear algebra\n",
        "import pandas as pd # data manipulation and analysis\n",
        "import matplotlib.pyplot as plt # data visualization\n",
        "import seaborn as sns # data visualization\n",
        "sns.set_style('whitegrid') # set style for visualization\n",
        "import warnings # ignore warnings\n",
        "warnings.filterwarnings('ignore')"
      ]
    },
    {
      "cell_type": "code",
      "source": [
        "from google.colab import drive\n",
        "drive.mount('/content/drive')"
      ],
      "metadata": {
        "id": "Zh6Trf-Xu_fk"
      },
      "id": "Zh6Trf-Xu_fk",
      "execution_count": null,
      "outputs": []
    },
    {
      "cell_type": "code",
      "execution_count": null,
      "id": "5c5c4bee-c4b2-4202-92aa-d325df277527",
      "metadata": {
        "id": "5c5c4bee-c4b2-4202-92aa-d325df277527"
      },
      "outputs": [],
      "source": [
        "# Start by reading from insurcust.csv file to d_insur dataframe\n",
        "d_insur = pd.read_csv('/content/drive/MyDrive/Colab-Notebooks/insurcust.csv')\n",
        "# Continue with the demonstration order as shown in the concept slides as well as in the demonstration notebook file.\n",
        "print(d_insur)"
      ]
    },
    {
      "cell_type": "code",
      "execution_count": null,
      "id": "dc21b92e-8fe7-4239-9934-eeba6ec15d3c",
      "metadata": {
        "id": "dc21b92e-8fe7-4239-9934-eeba6ec15d3c"
      },
      "outputs": [],
      "source": [
        "#Apply head, tail, info, shape, describe\n",
        "#Did you realise any unusual value, hint: check charges column\n",
        "d_insur.describe()"
      ]
    },
    {
      "cell_type": "markdown",
      "id": "7d718026-2d4f-4922-aad1-22756cdce4d2",
      "metadata": {
        "id": "7d718026-2d4f-4922-aad1-22756cdce4d2"
      },
      "source": [
        "**Preprocess data, missing values and duplicates**"
      ]
    },
    {
      "cell_type": "code",
      "execution_count": null,
      "id": "3ba95fab-b05c-4cd9-95dd-33d5793cb011",
      "metadata": {
        "id": "3ba95fab-b05c-4cd9-95dd-33d5793cb011"
      },
      "outputs": [],
      "source": [
        "#Check for missing values and duplicates. Any missing values? Is there any duplicate?\n",
        "d_insur.isnull().sum()"
      ]
    },
    {
      "cell_type": "code",
      "execution_count": null,
      "id": "e7cb2f3d-f8bc-4934-9208-5599add4e708",
      "metadata": {
        "id": "e7cb2f3d-f8bc-4934-9208-5599add4e708"
      },
      "outputs": [],
      "source": [
        "### Print the duplicate if there is, check how many duplicates exit/print out their indexes\n",
        "## Print the duplicate using keep='first', did it print the other(s) duplicate as it kept the first one?\n",
        "d_insur[d_insur.duplicated(keep='first')]\n",
        "\n",
        "# To identify all occurrences of duplicate indices, use keep=False\n",
        "boolean_duplicates=d_insur.duplicated(keep=False)\n",
        "# Count the total True/False values, have a look at value_counts() function.\n",
        "print(boolean_duplicates.value_counts())\n",
        "\n",
        "# Print the index of the duplicates. Would it be better to print index of True values in boolean_duplicates?\n",
        "print(d_insur[boolean_duplicates].index)\n",
        "\n",
        "# Can you use `keep='last'` instead of 'first' and see what happens? Compare the indexes with the above outcome!\n",
        "d_insur[d_insur.duplicated(keep='last')]"
      ]
    },
    {
      "cell_type": "code",
      "execution_count": null,
      "id": "0d1966e0-a9ab-433c-ba94-ab26c892dbc9",
      "metadata": {
        "id": "0d1966e0-a9ab-433c-ba94-ab26c892dbc9"
      },
      "outputs": [],
      "source": [
        "d_insur.drop_duplicates(keep='first',inplace=True)\n",
        "#check if it is dropped: d_insur[d_insur.duplicated(keep='first')]\n"
      ]
    },
    {
      "cell_type": "markdown",
      "id": "7e67c34c-d9d8-4d48-b99a-0dc0f00caae5",
      "metadata": {
        "id": "7e67c34c-d9d8-4d48-b99a-0dc0f00caae5"
      },
      "source": [
        "```\n",
        "keep = 'first' is used to keep the first row of duplicated ones.\n",
        "inplace = True is used to change the data frame permanently. If we did not use inplace attributes, we would not remove the duplicated observation from the dataset.\n",
        "```"
      ]
    },
    {
      "cell_type": "markdown",
      "source": [
        "**Scaling**"
      ],
      "metadata": {
        "id": "7ivsovab6R0w"
      },
      "id": "7ivsovab6R0w"
    },
    {
      "cell_type": "code",
      "source": [
        "# Import preprocessing from Sklearn and practice scaling, min-max scaler, on features like \"age\", \"BMI\" and \"charges\"\n",
        "# You do not need to use scaling output for the rest of the work. Hence, using a new variable for the output is a good idea.\n",
        "from sklearn import preprocessing\n",
        "\n",
        "scaler = preprocessing.MinMaxScaler()\n",
        "d_temp = scaler.fit_transform(d_insur[['bmi']]) #change \"BMI' with other features\n",
        "scaled_df = pd.DataFrame(d_temp, columns=d_insur[['bmi']].columns)\n",
        "\n",
        "scaled_df"
      ],
      "metadata": {
        "id": "WhFUNhL06QrM"
      },
      "id": "WhFUNhL06QrM",
      "execution_count": null,
      "outputs": []
    },
    {
      "cell_type": "markdown",
      "id": "16441fd2-9de6-446d-ad77-72ab6b4cf873",
      "metadata": {
        "id": "16441fd2-9de6-446d-ad77-72ab6b4cf873"
      },
      "source": [
        "**Visualise data**"
      ]
    },
    {
      "cell_type": "code",
      "execution_count": null,
      "id": "e33a53c4-02e0-49d3-a711-158c3c651aec",
      "metadata": {
        "id": "e33a53c4-02e0-49d3-a711-158c3c651aec"
      },
      "outputs": [],
      "source": [
        "#Visualise the distribution of charges column and comment on where most of the charges are held, which brings us to find the type of skewness it has?\n",
        "plt.figure(figsize=(10,6))\n",
        "sns.distplot(d_insur.charges,color='r')\n",
        "plt.title('Charges Distribution',size=18)\n",
        "plt.xlabel('Charges',size=14)\n",
        "plt.ylabel('Density',size=14)\n",
        "plt.show()"
      ]
    },
    {
      "cell_type": "code",
      "source": [
        "# Print the skewness and kurtosis, and comment on them.\n",
        "print(\"Skewness: %f\" % d_insur.charges.skew())\n",
        "print(\"Kurtosis: %f\" % d_insur.charges.kurt())\n",
        "# See the slides to comment on this!\n",
        "# Values between -2 and +2 for both skewness and kurtosis are considered acceptable to prove a normal univariate distribution\n",
        "# Lecture notes (https://imaging.mrc-cbu.cam.ac.uk/statswiki/FAQ/Simon?action=AttachFile&do=view&target=kurtosis.pdf ) on page 12 also\n",
        "# give the +/- 3 rule of thumb for kurtosis cut-offs. The values for asymmetry and kurtosis between -2 and +2 are considered acceptable in order to prove normal univariate distribution (George & Mallery, 2010)."
      ],
      "metadata": {
        "id": "N7tuv8TG9KUw"
      },
      "id": "N7tuv8TG9KUw",
      "execution_count": null,
      "outputs": []
    },
    {
      "cell_type": "code",
      "execution_count": null,
      "id": "974b2c3e-d49c-4ff7-94e6-498700d2f350",
      "metadata": {
        "id": "974b2c3e-d49c-4ff7-94e6-498700d2f350"
      },
      "outputs": [],
      "source": [
        "# Show how age is distributed and tell one interesting aspect of age you have observed?\n",
        "plt.figure(figsize=(10,6))\n",
        "sns.histplot(d_insur.age)\n",
        "plt.title('Age Distribution',size=18)\n",
        "plt.xlabel('Age',size=14)\n",
        "plt.ylabel('Count',size=14)\n",
        "plt.show()"
      ]
    },
    {
      "cell_type": "code",
      "execution_count": null,
      "id": "ad7c0792-806e-4720-82e3-f0a9cd487afb",
      "metadata": {
        "id": "ad7c0792-806e-4720-82e3-f0a9cd487afb"
      },
      "outputs": [],
      "source": [
        "#How is the histogram distribution of BMI? Bell-shape?\n",
        "plt.figure(figsize=(10,6))\n",
        "plt.hist(d_insur.bmi,color='y')\n",
        "plt.title('BMI dist.',size=18)\n",
        "plt.show()"
      ]
    },
    {
      "cell_type": "code",
      "execution_count": null,
      "id": "1bf0d7c0-4e79-4158-a685-90a0569a2395",
      "metadata": {
        "id": "1bf0d7c0-4e79-4158-a685-90a0569a2395"
      },
      "outputs": [],
      "source": [
        "#Can you use boxplot for charges column and comment on quartiles as well as outliers using IQR method?\n",
        "#plt.figure(figsize = (6,6))\n",
        "sns.boxplot(d_insur.charges)\n",
        "#plt.title('Distribution Charges',size=18)\n",
        "#plt.show()"
      ]
    },
    {
      "cell_type": "code",
      "execution_count": null,
      "id": "77337fee-4e49-4761-a538-eb2a126d1bd5",
      "metadata": {
        "id": "77337fee-4e49-4761-a538-eb2a126d1bd5"
      },
      "outputs": [],
      "source": [
        "#Can you drop the data containing outliers in charges column?\n",
        "#Hint: IQR=Q3-Q1, outlier<Q1-1.5*IQR and outlier>Q3+1.5*IQR\n",
        "Q1 = d_insur['charges'].quantile(0.25)\n",
        "Q3 = d_insur['charges'].quantile(0.75)\n",
        "IQR = Q3 - Q1\n",
        "print(IQR)"
      ]
    },
    {
      "cell_type": "code",
      "execution_count": null,
      "id": "eeda410d-9e6b-4c2e-b3d6-e66d0583575b",
      "metadata": {
        "id": "eeda410d-9e6b-4c2e-b3d6-e66d0583575b"
      },
      "outputs": [],
      "source": [
        "#Can you count how many outliers on charges column to be dropped?\n",
        "outliercnt=((d_insur['charges']< Q1-1.5* IQR) | (d_insur['charges']> Q3+1.5* IQR))\n",
        "#print((d_insur['charges']< Q1-1.5* IQR))\n",
        "print(outliercnt)\n",
        "sum(outliercnt)"
      ]
    },
    {
      "cell_type": "code",
      "execution_count": null,
      "id": "97afcb2d-dc75-45fe-82d4-21a453620e38",
      "metadata": {
        "id": "97afcb2d-dc75-45fe-82d4-21a453620e38"
      },
      "outputs": [],
      "source": [
        "#or simply see the size description below for the number of outliers\n",
        "d_insur[(d_insur['charges']< Q1-1.5* IQR) | (d_insur['charges']> Q3+1.5* IQR)]\n"
      ]
    },
    {
      "cell_type": "code",
      "execution_count": null,
      "id": "3874e7a6-7a9e-4543-9940-d07c8c320bcc",
      "metadata": {
        "id": "3874e7a6-7a9e-4543-9940-d07c8c320bcc"
      },
      "outputs": [],
      "source": [
        "#Let you drop the outliers, can you? You know what list to drop from above cell. Dropped version must be assigned to d_insur dataframe.\n",
        "d_insur=d_insur.drop(d_insur[d_insur['charges']< Q1-1.5* IQR].index)\n",
        "d_insur=d_insur.drop(d_insur[d_insur['charges']> Q3+1.5* IQR].index)\n",
        "# keep d_insur to continue rest of the work\n",
        "# d_insur is the dataframe dropped the outliers\n",
        "d_insur"
      ]
    },
    {
      "cell_type": "code",
      "execution_count": null,
      "id": "cd117373-122c-4133-a7dd-a3dc5e3efe55",
      "metadata": {
        "id": "cd117373-122c-4133-a7dd-a3dc5e3efe55"
      },
      "outputs": [],
      "source": [
        "# Can you visualise smokers\n",
        "plt.figure(figsize = (10,6))\n",
        "sns.countplot(d_insur.smoker)\n",
        "plt.title('Smoker Distribution',size=18)\n",
        "plt.xlabel('Smoker',size=14)\n",
        "plt.ylabel('Count',size=14)\n",
        "plt.show()"
      ]
    },
    {
      "cell_type": "code",
      "execution_count": null,
      "id": "b93be142-cfa9-4b76-8224-7cc637e141ee",
      "metadata": {
        "id": "b93be142-cfa9-4b76-8224-7cc637e141ee"
      },
      "outputs": [],
      "source": [
        "# Can you visualise gender, please comment on the gender\n",
        "plt.figure(figsize=(10,6))\n",
        "sns.countplot(x = 'sex', data = d_insur)\n",
        "plt.title('Total Number of Male and Female',size=18)\n",
        "plt.xlabel('Sex',size=14)\n",
        "plt.show()"
      ]
    },
    {
      "cell_type": "code",
      "execution_count": null,
      "id": "afbc6f7c-a507-455d-9fb3-90b423eed031",
      "metadata": {
        "id": "afbc6f7c-a507-455d-9fb3-90b423eed031"
      },
      "outputs": [],
      "source": [
        "#Please visualise children distribution and comment on that too\n",
        "plt.figure(figsize = (10,6))\n",
        "sns.countplot(x = 'children', data=d_insur, palette=\"pastel\") # check for palette names.\n",
        "plt.title('Children Distribution',size=18)\n",
        "plt.xlabel('Children',size=14)\n",
        "plt.ylabel('Count',size=14)\n",
        "plt.show()"
      ]
    },
    {
      "cell_type": "markdown",
      "id": "f577aac6-af2b-4dd6-98a6-765b4f0fae96",
      "metadata": {
        "id": "f577aac6-af2b-4dd6-98a6-765b4f0fae96"
      },
      "source": [
        "**Until here, we considered univariate analysis** Lets now consider bivariate analysis starting with age and charges."
      ]
    },
    {
      "cell_type": "code",
      "execution_count": null,
      "id": "2564b0d2-8a1d-4c0c-a767-ef0af2eb4f1e",
      "metadata": {
        "id": "2564b0d2-8a1d-4c0c-a767-ef0af2eb4f1e"
      },
      "outputs": [],
      "source": [
        "#Can you visualise the correlation between age and charges\n",
        "plt.figure(figsize = (10,6))\n",
        "sns.scatterplot(x='age',y='charges',color='r',data=d_insur)\n",
        "plt.title('Age vs Charges',size=18)\n",
        "plt.xlabel('Age',size=14)\n",
        "plt.ylabel('Charges',size=14)\n",
        "plt.show()"
      ]
    },
    {
      "cell_type": "code",
      "execution_count": null,
      "id": "91ba7451-0be7-4147-9505-9a70034936d4",
      "metadata": {
        "id": "91ba7451-0be7-4147-9505-9a70034936d4"
      },
      "outputs": [],
      "source": [
        "#Can you print the correlation to see if positive and strong?\n",
        "print('Correlation between age and charges is : {}'.format(round(d_insur['age'].corr(d_insur['charges']),3)))\n",
        "#d_insur['age'].corr(d_insur['charges'])\n",
        "# Can we say a weak positive correlation?"
      ]
    },
    {
      "cell_type": "code",
      "execution_count": null,
      "id": "837ac98f-5fa9-4062-896e-a32ad7e6dd42",
      "metadata": {
        "id": "837ac98f-5fa9-4062-896e-a32ad7e6dd42"
      },
      "outputs": [],
      "source": [
        "#Cost of insurance for smokers is higher than for non-smokers, can you prove this hypothesis using box-plot?\n",
        "plt.figure(figsize = (10,6))\n",
        "sns.set_style('darkgrid')\n",
        "sns.boxplot(x='smoker',y='charges',data=d_insur, palette=\"pastel\")\n",
        "plt.title('Smoker vs Charges',size=18);"
      ]
    },
    {
      "cell_type": "markdown",
      "id": "f5918e57-8ce8-4ae9-ae23-335abdbf3982",
      "metadata": {
        "id": "f5918e57-8ce8-4ae9-ae23-335abdbf3982"
      },
      "source": [
        "**Multivariate analysis**\n",
        "\n",
        "*Involves analysing correlation between more than two variables and it can be very hard for large datasets to even visually see the correlations due to the crowded chart.*"
      ]
    },
    {
      "cell_type": "code",
      "execution_count": null,
      "id": "570c8c7d-a6f5-4584-b26d-7950e23074be",
      "metadata": {
        "id": "570c8c7d-a6f5-4584-b26d-7950e23074be"
      },
      "outputs": [],
      "source": [
        "#Can you also use pairplot to show all relationship between any two or more variables and the distribtion of each variable\n",
        "sns.pairplot(d_insur,\n",
        "                 markers=\"+\",\n",
        "                 diag_kind=\"kde\",\n",
        "                 kind='reg',\n",
        "                 plot_kws={'line_kws':{'color':'#aec6cf'},\n",
        "                           'scatter_kws': {'alpha': 0.7,\n",
        "                                           'color': 'blue'}},\n",
        "                 corner=True);"
      ]
    },
    {
      "cell_type": "markdown",
      "id": "4859b073-92bd-4024-9ec9-7c155fad247a",
      "metadata": {
        "id": "4859b073-92bd-4024-9ec9-7c155fad247a"
      },
      "source": [
        "* Can you comment on the multivariate aspects of the data? You can focus on charges!\n",
        "```\n",
        "Charges have positive but low correlation both with age and bmi.\n",
        "```"
      ]
    },
    {
      "cell_type": "code",
      "execution_count": null,
      "id": "b602fbed-f7f2-44ef-9301-8e0621aed220",
      "metadata": {
        "id": "b602fbed-f7f2-44ef-9301-8e0621aed220"
      },
      "outputs": [],
      "source": [
        "#Can you plot heatmap to show the correlations even much clearer (not only visually but also numerically)?\n",
        "factors = ['age','bmi','children','charges']\n",
        "corrmat = d_insur[factors].corr()\n",
        "f, ax = plt.subplots(figsize=(12, 9))\n",
        "sns.heatmap(corrmat, vmin=-1, vmax=1, annot=True, cmap='BrBG');"
      ]
    },
    {
      "cell_type": "markdown",
      "id": "c7b3a250-b05d-4dea-9652-121d3dc78ceb",
      "metadata": {
        "id": "c7b3a250-b05d-4dea-9652-121d3dc78ceb"
      },
      "source": [
        "#How can you conclude this business case? Observe Table 1 in https://pmc.ncbi.nlm.nih.gov/articles/PMC3576830/\n",
        "\n",
        "```\n",
        "It is clear that there is a low positive correlation between age and charges. As the ages increases, insurance premiums increase.\n",
        "It may be worth to mention that BMI and charges also have weak positive correlation.\n",
        "No need to consider the number of children for estimating insurance premiums, as correlation is negligible.\n",
        "```\n",
        "\n",
        "Please note that until here we only conducted data analysis and gathered insights from cleaned data! We played with features/data columns, but have not used them to make any useful prediction or estimation. That is left to Machine Learning next week."
      ]
    },
    {
      "cell_type": "markdown",
      "source": [
        "# A little more challenge? This section is optional in case you would like to exercise more.\n",
        "- It is still related to above insights and EDA analyses but from a little different angle."
      ],
      "metadata": {
        "id": "DifPv8RqKpzr"
      },
      "id": "DifPv8RqKpzr"
    },
    {
      "cell_type": "code",
      "source": [
        "# Load the libraries\n",
        "import pandas as pd\n",
        "import numpy as np\n",
        "import matplotlib.pyplot as plt\n",
        "import seaborn as sns\n",
        "import os\n",
        "\n",
        "# Load insurcust.csv dataset\n",
        "file_path = \"/content/drive/MyDrive/Colab-Notebooks/insurcust.csv\"\n",
        "\n",
        "# Ensure the file exists before attempting to read\n",
        "if not os.path.exists(file_path):\n",
        "    raise FileNotFoundError(f\"Error: The file '{file_path}' was not found. Please check the path and ensure the file exists.\")\n",
        "\n",
        "df = pd.read_csv(file_path)"
      ],
      "metadata": {
        "id": "hVM2ZezPHcJO"
      },
      "id": "hVM2ZezPHcJO",
      "execution_count": null,
      "outputs": []
    },
    {
      "cell_type": "code",
      "source": [
        "# Display basic info, even though it is repetition, you may want to use this cell to remember the data.\n",
        "df.info()\n",
        "print(df.head())"
      ],
      "metadata": {
        "id": "P1hapoeDKU-K"
      },
      "id": "P1hapoeDKU-K",
      "execution_count": null,
      "outputs": []
    },
    {
      "cell_type": "code",
      "source": [
        "### Task 1: Identifying High-Cost Patients ###\n",
        "# Define high-cost patients as those above the 75th percentile of medical charges\n",
        "high_cost_threshold = df[\"charges\"].quantile(0.75)\n",
        "df[\"high_cost_group\"] = (df[\"charges\"] > high_cost_threshold).astype(int)\n",
        "\n",
        "# Compare median values of key factors between high-cost and low-cost patients and try to observe if any of those factors are key drivers for the medical charges.\n",
        "median_comparison = df.groupby(\"high_cost_group\")[[\"age\", \"bmi\", \"children\"]].median()\n",
        "print(\"\\nMedian Comparison of High and Low Cost Groups:\")\n",
        "print(median_comparison)\n",
        "\n",
        "# df.groupby(\"high_cost_patient\"): This groups your DataFrame df based on the \"high_cost_patient\" column, creating two groups: one for high-cost patients (1) and one for low-cost patients (0).\n",
        "# Identifying Key Factors: By comparing the median values of factors like age, BMI, and children between the two groups, you can identify potential cost drivers. For example, if the median age is significantly higher in the high-cost group, it suggests that age may be a significant factor influencing medical costs.\n",
        "# Comparing low-cost and high-cost groups is crucial for understanding the factors influencing medical charges, developing better predictive models, and making informed business decisions within the healthcare and insurance industries."
      ],
      "metadata": {
        "id": "CZJnQ4eqKXiS"
      },
      "id": "CZJnQ4eqKXiS",
      "execution_count": null,
      "outputs": []
    },
    {
      "cell_type": "code",
      "source": [
        "### Task 2: Regional Analysis of Charges ###\n",
        "# Compute average charges per region\n",
        "region_avg_charges = df.groupby(\"region\")[\"charges\"].mean()\n",
        "print(\"\\nAverage Charges per Region:\")\n",
        "print(region_avg_charges)\n",
        "\n",
        "# Compute percentage of smokers per region and try to observe why the charges are high for certain regions if you can see the said correlation.\n",
        "region_smoker_percentage = df[df[\"smoker\"] == \"yes\"].groupby(\"region\")[\"smoker\"].count() / df.groupby(\"region\")[\"smoker\"].count() * 100\n",
        "print(\"\\nPercentage of Smokers per Region:\")\n",
        "print(region_smoker_percentage)\n",
        "\n"
      ],
      "metadata": {
        "id": "obmGgCCzKcfV"
      },
      "id": "obmGgCCzKcfV",
      "execution_count": null,
      "outputs": []
    },
    {
      "cell_type": "code",
      "source": [
        "### Task 3: Age Group Analysis ###\n",
        "# Create age bins using labels=[\"<30\", \"30-50\", \"50+\"] and analyze average charges\n",
        "df[\"age_group\"] = pd.cut(df[\"age\"], bins=[0, 30, 50, 100], labels=[\"<30\", \"30-50\", \"50+\"])\n",
        "age_group_avg_charges = df.groupby(\"age_group\")[\"charges\"].mean()\n",
        "print(\"\\nAverage Charges by Age Group:\")\n",
        "print(age_group_avg_charges)\n",
        "\n",
        "# Visualizing Age vs Charges to observe if age has any impact on charges?\n",
        "plt.figure(figsize=(8, 6))\n",
        "sns.boxplot(x=\"age_group\", y=\"charges\", data=df)\n",
        "plt.title(\"Medical Charges Distribution by Age Group\")\n",
        "plt.show()"
      ],
      "metadata": {
        "id": "VwICd9l6KfEj"
      },
      "id": "VwICd9l6KfEj",
      "execution_count": null,
      "outputs": []
    },
    {
      "cell_type": "code",
      "source": [
        "### Task 4: BMI Impact on Medical Charges ###\n",
        "# Visualizing BMI across high and low-cost groups\n",
        "plt.figure(figsize=(8, 6))\n",
        "sns.boxplot(x=\"high_cost_group\", y=\"bmi\", data=df)\n",
        "plt.title(\"BMI Distribution Across High and Low Cost Groups\")\n",
        "plt.show()\n",
        "\n"
      ],
      "metadata": {
        "id": "OncZnTycKiSR"
      },
      "id": "OncZnTycKiSR",
      "execution_count": null,
      "outputs": []
    },
    {
      "cell_type": "code",
      "source": [
        "### Task 5: Smoking Impact on Charges ###\n",
        "# Compare average charges of smokers vs non-smokers\n",
        "smoker_avg_charges = df.groupby(\"smoker\")[\"charges\"].mean()\n",
        "print(\"\\nAverage Charges by Smoking Status:\")\n",
        "print(smoker_avg_charges)\n",
        "\n",
        "# Visualizing Charges by Smoking Status\n",
        "plt.figure(figsize=(8, 6))\n",
        "sns.boxplot(x=\"smoker\", y=\"charges\", data=df)\n",
        "plt.title(\"Medical Charges by Smoking Status\")\n",
        "plt.show()\n",
        "\n"
      ],
      "metadata": {
        "id": "2pCsUDvHKkwr"
      },
      "id": "2pCsUDvHKkwr",
      "execution_count": null,
      "outputs": []
    }
  ],
  "metadata": {
    "kernelspec": {
      "display_name": "Python 3 (ipykernel)",
      "language": "python",
      "name": "python3"
    },
    "language_info": {
      "codemirror_mode": {
        "name": "ipython",
        "version": 3
      },
      "file_extension": ".py",
      "mimetype": "text/x-python",
      "name": "python",
      "nbconvert_exporter": "python",
      "pygments_lexer": "ipython3",
      "version": "3.11.7"
    },
    "colab": {
      "provenance": []
    }
  },
  "nbformat": 4,
  "nbformat_minor": 5
}