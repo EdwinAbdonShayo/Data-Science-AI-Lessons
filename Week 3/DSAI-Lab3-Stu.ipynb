{
 "cells": [
  {
   "cell_type": "markdown",
   "id": "678c00a6-3a4d-4960-bb5f-0dbd6157d33e",
   "metadata": {
    "id": "678c00a6-3a4d-4960-bb5f-0dbd6157d33e"
   },
   "source": [
    "# Week-3 Lab includes a business case with what we have learnt during the class. We need to find out what variables have a strong correlation to customer charges so that the insurance company can decide on a fair premium.\n",
    "\n",
    "**Details to be found in the following cells.**\n",
    "\n",
    "**You are expected to create new cells as much as you think you need to.**"
   ]
  },
  {
   "cell_type": "markdown",
   "id": "edd6ed23-7b2c-4e47-abda-13e6af1c9c70",
   "metadata": {
    "id": "edd6ed23-7b2c-4e47-abda-13e6af1c9c70"
   },
   "source": [
    "* **Business case:** Determine the variables having the strongest correlation to customer charges so that insurance company can decide on the amount they can fairly charge while being able to sustain the business. If the correlation is estimated wrongly, it can be detrimental for the company.\n",
    "\n",
    "Adopted from https://www.kaggle.com/datasets/mirichoi0218/insurance\n",
    "\n",
    "**Please follow each cell below in order, answer the questions and execute the tasks.** You can generate as much cell as you require to execute the tasks."
   ]
  },
  {
   "cell_type": "markdown",
   "id": "9ba82aef-310b-4524-9845-b65a526a9d30",
   "metadata": {
    "id": "9ba82aef-310b-4524-9845-b65a526a9d30"
   },
   "source": [
    "Im summary, this part will require you to implement the following taks.\n",
    "- Explore data\n",
    "- Preprocess data\n",
    "- Visualise data\n",
    "- Conclude"
   ]
  },
  {
   "cell_type": "markdown",
   "id": "6d4f2239-e112-4a0a-be10-a7489cc6cb90",
   "metadata": {
    "id": "6d4f2239-e112-4a0a-be10-a7489cc6cb90"
   },
   "source": [
    "**Explore data**"
   ]
  },
  {
   "cell_type": "code",
   "execution_count": null,
   "id": "ab0ed330-3ddf-4c63-aba8-e6d153ffd996",
   "metadata": {
    "id": "ab0ed330-3ddf-4c63-aba8-e6d153ffd996"
   },
   "outputs": [],
   "source": [
    "#Import libraries for numpy, pandas, matplotlib, seaborn\n"
   ]
  },
  {
   "cell_type": "code",
   "execution_count": null,
   "id": "Zh6Trf-Xu_fk",
   "metadata": {
    "id": "Zh6Trf-Xu_fk"
   },
   "outputs": [],
   "source": [
    "from google.colab import drive\n",
    "drive.mount('/content/drive')"
   ]
  },
  {
   "cell_type": "code",
   "execution_count": null,
   "id": "5c5c4bee-c4b2-4202-92aa-d325df277527",
   "metadata": {
    "id": "5c5c4bee-c4b2-4202-92aa-d325df277527"
   },
   "outputs": [],
   "source": [
    "# Start by reading from insurcust.csv file to d_insur dataframe\n",
    "d_insur =\n",
    "# Continue with the demonstration order as shown in the concept slides as well as in the demonstration notebook file.\n"
   ]
  },
  {
   "cell_type": "code",
   "execution_count": null,
   "id": "dc21b92e-8fe7-4239-9934-eeba6ec15d3c",
   "metadata": {
    "id": "dc21b92e-8fe7-4239-9934-eeba6ec15d3c"
   },
   "outputs": [],
   "source": [
    "#Apply head, tail, info, shape, describe\n",
    "#Did you realise any unusual value, hint: check charges column\n",
    "\n",
    "# Your code here"
   ]
  },
  {
   "cell_type": "markdown",
   "id": "7d718026-2d4f-4922-aad1-22756cdce4d2",
   "metadata": {
    "id": "7d718026-2d4f-4922-aad1-22756cdce4d2"
   },
   "source": [
    "**Preprocess data, missing values and dublicates**"
   ]
  },
  {
   "cell_type": "code",
   "execution_count": null,
   "id": "3ba95fab-b05c-4cd9-95dd-33d5793cb011",
   "metadata": {
    "id": "3ba95fab-b05c-4cd9-95dd-33d5793cb011"
   },
   "outputs": [],
   "source": [
    "#Check for missing values and dublicates. Any missing values? Is there any duplicate?\n"
   ]
  },
  {
   "cell_type": "code",
   "execution_count": null,
   "id": "e7cb2f3d-f8bc-4934-9208-5599add4e708",
   "metadata": {
    "id": "e7cb2f3d-f8bc-4934-9208-5599add4e708"
   },
   "outputs": [],
   "source": [
    "#Print the dublicate if there is\n"
   ]
  },
  {
   "cell_type": "code",
   "execution_count": null,
   "id": "0d1966e0-a9ab-433c-ba94-ab26c892dbc9",
   "metadata": {
    "id": "0d1966e0-a9ab-433c-ba94-ab26c892dbc9"
   },
   "outputs": [],
   "source": [
    "#check if it is dropped: d_insur[d_insur.duplicated(keep='first')]\n",
    "\n"
   ]
  },
  {
   "cell_type": "markdown",
   "id": "7e67c34c-d9d8-4d48-b99a-0dc0f00caae5",
   "metadata": {
    "id": "7e67c34c-d9d8-4d48-b99a-0dc0f00caae5"
   },
   "source": [
    "```\n",
    "keep = 'first' is used to keep the first row of duplicated ones.\n",
    "inplace = True is used to change the data frame permanently. If we did not use inplace attributes, we would not remove the duplicated observation from the dataset.\n",
    "```"
   ]
  },
  {
   "cell_type": "markdown",
   "id": "7ivsovab6R0w",
   "metadata": {
    "id": "7ivsovab6R0w"
   },
   "source": [
    "**Scaling**"
   ]
  },
  {
   "cell_type": "code",
   "execution_count": null,
   "id": "WhFUNhL06QrM",
   "metadata": {
    "id": "WhFUNhL06QrM"
   },
   "outputs": [],
   "source": [
    "# Import preprocessing from Sklearn and practice scaling, min-max scaler, on features like \"age\", \"BMI\" and \"charges\"\n",
    "# You do not need to use scaling output for the rest of the work. Hence, using a new variable for the output is a good idea.\n"
   ]
  },
  {
   "cell_type": "markdown",
   "id": "16441fd2-9de6-446d-ad77-72ab6b4cf873",
   "metadata": {
    "id": "16441fd2-9de6-446d-ad77-72ab6b4cf873"
   },
   "source": [
    "**Visualise data**"
   ]
  },
  {
   "cell_type": "code",
   "execution_count": null,
   "id": "e33a53c4-02e0-49d3-a711-158c3c651aec",
   "metadata": {
    "id": "e33a53c4-02e0-49d3-a711-158c3c651aec"
   },
   "outputs": [],
   "source": [
    "#Visualise the distribution of charges column and comment on where most of the charges are held, which brings us to find the type of skewness it has?\n"
   ]
  },
  {
   "cell_type": "code",
   "execution_count": null,
   "id": "N7tuv8TG9KUw",
   "metadata": {
    "id": "N7tuv8TG9KUw"
   },
   "outputs": [],
   "source": [
    "# Print the skewness and kurtosis, and comment on them.\n",
    "\n",
    "#Your Code here\n",
    "\n",
    "# See the slides to comment on this!\n",
    "# Values between -2 and +2 for both skewness and kurtosis are considered acceptable to prove a normal univariate distribution\n",
    "# Lecture notes (https://imaging.mrc-cbu.cam.ac.uk/statswiki/FAQ/Simon?action=AttachFile&do=view&target=kurtosis.pdf ) on page 12 also\n",
    "# give the +/- 3 rule of thumb for kurtosis cut-offs. The values for asymmetry and kurtosis between -2 and +2 are considered acceptable in order to prove normal univariate distribution (George & Mallery, 2010)."
   ]
  },
  {
   "cell_type": "code",
   "execution_count": null,
   "id": "974b2c3e-d49c-4ff7-94e6-498700d2f350",
   "metadata": {
    "id": "974b2c3e-d49c-4ff7-94e6-498700d2f350"
   },
   "outputs": [],
   "source": [
    "# Show how age is distributed and tell one interesting aspect of age you have observed?\n"
   ]
  },
  {
   "cell_type": "code",
   "execution_count": null,
   "id": "ad7c0792-806e-4720-82e3-f0a9cd487afb",
   "metadata": {
    "id": "ad7c0792-806e-4720-82e3-f0a9cd487afb"
   },
   "outputs": [],
   "source": [
    "#How is the histogram distribution of BMI? Bell-shape?\n"
   ]
  },
  {
   "cell_type": "code",
   "execution_count": null,
   "id": "1bf0d7c0-4e79-4158-a685-90a0569a2395",
   "metadata": {
    "id": "1bf0d7c0-4e79-4158-a685-90a0569a2395"
   },
   "outputs": [],
   "source": [
    "#Can you use boxplot for charges column and comment on quartiles as well as outliers using IQR method?\n"
   ]
  },
  {
   "cell_type": "code",
   "execution_count": null,
   "id": "77337fee-4e49-4761-a538-eb2a126d1bd5",
   "metadata": {
    "id": "77337fee-4e49-4761-a538-eb2a126d1bd5"
   },
   "outputs": [],
   "source": [
    "#Can you drop the data containing outliers in charges column?\n",
    "#Hint: IQR=Q3-Q1, outlier<Q1-1.5*IQR and outlier>Q3+1.5*IQR\n"
   ]
  },
  {
   "cell_type": "code",
   "execution_count": null,
   "id": "eeda410d-9e6b-4c2e-b3d6-e66d0583575b",
   "metadata": {
    "id": "eeda410d-9e6b-4c2e-b3d6-e66d0583575b"
   },
   "outputs": [],
   "source": [
    "#Can you count how many outliers on charges column to be dropped?\n"
   ]
  },
  {
   "cell_type": "code",
   "execution_count": null,
   "id": "97afcb2d-dc75-45fe-82d4-21a453620e38",
   "metadata": {
    "id": "97afcb2d-dc75-45fe-82d4-21a453620e38"
   },
   "outputs": [],
   "source": [
    "#or simply see the size description below for the number of outliers\n"
   ]
  },
  {
   "cell_type": "code",
   "execution_count": null,
   "id": "3874e7a6-7a9e-4543-9940-d07c8c320bcc",
   "metadata": {
    "id": "3874e7a6-7a9e-4543-9940-d07c8c320bcc"
   },
   "outputs": [],
   "source": [
    "#Let you drop the outliers, can you? You know what list to drop from above cell. Dropped version must be assigned to d_ins dataframe.\n",
    "\n",
    "# Your code here\n",
    "\n",
    "# keep d_insur to continue rest of the work\n",
    "# d_ins is the dataframe dropped the outliers\n"
   ]
  },
  {
   "cell_type": "code",
   "execution_count": null,
   "id": "cd117373-122c-4133-a7dd-a3dc5e3efe55",
   "metadata": {
    "id": "cd117373-122c-4133-a7dd-a3dc5e3efe55"
   },
   "outputs": [],
   "source": [
    "# Can you visualise smokers with countplot?\n"
   ]
  },
  {
   "cell_type": "code",
   "execution_count": null,
   "id": "b93be142-cfa9-4b76-8224-7cc637e141ee",
   "metadata": {
    "id": "b93be142-cfa9-4b76-8224-7cc637e141ee"
   },
   "outputs": [],
   "source": [
    "# Can you visualise gender, please comment on the gender\n"
   ]
  },
  {
   "cell_type": "code",
   "execution_count": null,
   "id": "afbc6f7c-a507-455d-9fb3-90b423eed031",
   "metadata": {
    "id": "afbc6f7c-a507-455d-9fb3-90b423eed031"
   },
   "outputs": [],
   "source": [
    "#Please visualise children distribution and comment on that too, also with countplot\n"
   ]
  },
  {
   "cell_type": "markdown",
   "id": "f577aac6-af2b-4dd6-98a6-765b4f0fae96",
   "metadata": {
    "id": "f577aac6-af2b-4dd6-98a6-765b4f0fae96"
   },
   "source": [
    "**Until here, we considered univariate analysis** Lets now consider bivariate analysis starting with age and charges."
   ]
  },
  {
   "cell_type": "code",
   "execution_count": null,
   "id": "2564b0d2-8a1d-4c0c-a767-ef0af2eb4f1e",
   "metadata": {
    "id": "2564b0d2-8a1d-4c0c-a767-ef0af2eb4f1e"
   },
   "outputs": [],
   "source": [
    "#Can you visualise the correlation between age and charges\n"
   ]
  },
  {
   "cell_type": "code",
   "execution_count": null,
   "id": "91ba7451-0be7-4147-9505-9a70034936d4",
   "metadata": {
    "id": "91ba7451-0be7-4147-9505-9a70034936d4"
   },
   "outputs": [],
   "source": [
    "#Can you print the correlation value to see if positive and strong?\n",
    "\n",
    "# your code here, search online\n",
    "\n",
    "#d_insur['age'].corr(d_insur['charges'])\n",
    "# Can we say a weak positive correlation?"
   ]
  },
  {
   "cell_type": "code",
   "execution_count": null,
   "id": "837ac98f-5fa9-4062-896e-a32ad7e6dd42",
   "metadata": {
    "id": "837ac98f-5fa9-4062-896e-a32ad7e6dd42"
   },
   "outputs": [],
   "source": [
    "#Cost of insurance for smokers is higher than for non-smokers, can you prove this hypothesis using box-plot?\n"
   ]
  },
  {
   "cell_type": "markdown",
   "id": "f5918e57-8ce8-4ae9-ae23-335abdbf3982",
   "metadata": {
    "id": "f5918e57-8ce8-4ae9-ae23-335abdbf3982"
   },
   "source": [
    "**Multivariate analysis**\n",
    "\n",
    "*Involves analysing correlation between more than two variables and it can be very hard for large datasets to even visually see the correlations due to the crowded chart.*"
   ]
  },
  {
   "cell_type": "code",
   "execution_count": null,
   "id": "570c8c7d-a6f5-4584-b26d-7950e23074be",
   "metadata": {
    "id": "570c8c7d-a6f5-4584-b26d-7950e23074be"
   },
   "outputs": [],
   "source": [
    "#Can you also use pairplot to show all relationship between any two or more variables and the distribtion of each variable\n"
   ]
  },
  {
   "cell_type": "markdown",
   "id": "4859b073-92bd-4024-9ec9-7c155fad247a",
   "metadata": {
    "id": "4859b073-92bd-4024-9ec9-7c155fad247a"
   },
   "source": [
    "* Can you comment on the multivariate aspects of the data? You can focus on charges!\n",
    "```\n",
    "Charges have positive but low correlation both with age and bmi.\n",
    "```"
   ]
  },
  {
   "cell_type": "code",
   "execution_count": null,
   "id": "b602fbed-f7f2-44ef-9301-8e0621aed220",
   "metadata": {
    "id": "b602fbed-f7f2-44ef-9301-8e0621aed220"
   },
   "outputs": [],
   "source": [
    "#Can you plot heatmap to show the correlations even much clearer (not only visually but also numerically)?\n"
   ]
  },
  {
   "cell_type": "markdown",
   "id": "c7b3a250-b05d-4dea-9652-121d3dc78ceb",
   "metadata": {
    "id": "c7b3a250-b05d-4dea-9652-121d3dc78ceb"
   },
   "source": [
    "#How can you conclude this business case? Observe Table 1 in https://pmc.ncbi.nlm.nih.gov/articles/PMC3576830/\n",
    "\n",
    "*Answers here*\n",
    "\n",
    "Please note that until here we only conducted data analysis and gathered insights from cleaned data! We played with features/data columns, but have not used them to make any useful prediction or estimation. That is left to Machine Learning next week."
   ]
  }
 ],
 "metadata": {
  "colab": {
   "provenance": []
  },
  "kernelspec": {
   "display_name": "Python 3 (ipykernel)",
   "language": "python",
   "name": "python3"
  },
  "language_info": {
   "codemirror_mode": {
    "name": "ipython",
    "version": 3
   },
   "file_extension": ".py",
   "mimetype": "text/x-python",
   "name": "python",
   "nbconvert_exporter": "python",
   "pygments_lexer": "ipython3",
   "version": "3.11.7"
  }
 },
 "nbformat": 4,
 "nbformat_minor": 5
}
